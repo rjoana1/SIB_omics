{
 "cells": [
  {
   "cell_type": "code",
   "execution_count": 258,
   "metadata": {},
   "outputs": [],
   "source": [
    "#import packages\n",
    "import pandas as pd\n",
    "import numpy as np\n",
    "import GEOparse\n",
    "from IPython.display import display\n",
    "from sklearn import preprocessing\n",
    "from scipy import stats\n",
    "import statsmodels.api as sm\n",
    "from statsmodels.stats.multitest import multipletests\n",
    "import matplotlib.pyplot as plt \n",
    "import operator\n",
    "import collections\n",
    "from sklearn.decomposition import PCA\n",
    "from scipy.cluster.hierarchy import dendrogram, linkage\n",
    "from sklearn.manifold import TSNE\n",
    "import seaborn as sns\n",
    "%matplotlib inline\n",
    "from sklearn.metrics import confusion_matrix\n",
    "from sklearn.tree import DecisionTreeClassifier, DecisionTreeRegressor\n",
    "from sklearn.neighbors import KNeighborsClassifier\n",
    "from sklearn import preprocessing\n",
    "from sklearn.naive_bayes import GaussianNB\n",
    "from sklearn.model_selection import GridSearchCV\n",
    "from sklearn.svm import SVC, SVR\n",
    "from sklearn.metrics import accuracy_score,recall_score,precision_score,f1_score\n",
    "from sklearn.metrics import mean_squared_error, r2_score, mean_absolute_error, explained_variance_score\n",
    "from sklearn.model_selection import cross_val_score\n",
    "from sklearn.metrics import confusion_matrix, precision_recall_curve\n",
    "from sklearn.ensemble import RandomForestClassifier, RandomForestRegressor\n",
    "from sklearn.linear_model import LinearRegression, LogisticRegression\n",
    "from sklearn.model_selection import LeaveOneOut, StratifiedKFold\n",
    "from sklearn.feature_selection import SelectKBest, SelectPercentile, f_regression, chi2, f_classif\n",
    "from imblearn.over_sampling import SMOTE\n",
    "from itertools import cycle\n",
    "from sklearn.metrics import roc_curve, auc, roc_auc_score\n",
    "from sklearn.multiclass import OneVsRestClassifier\n",
    "from scipy import interp\n",
    "from sklearn.neural_network import MLPClassifier\n",
    "#from keras.layers import Dense, Activation\n",
    "#from keras.models import Sequential\n",
    "from sklearn.model_selection import train_test_split\n",
    "from sklearn.model_selection import StratifiedKFold\n",
    "from sklearn.preprocessing import label_binarize\n",
    "from sklearn.neural_network import MLPRegressor\n",
    "from sklearn.datasets import make_regression\n",
    "from sklearn.model_selection import train_test_split\n",
    "   "
   ]
  },
  {
   "cell_type": "markdown",
   "metadata": {},
   "source": [
    "# Machine Learning"
   ]
  },
  {
   "cell_type": "code",
   "execution_count": 259,
   "metadata": {},
   "outputs": [
    {
     "data": {
      "text/html": [
       "<div>\n",
       "<style scoped>\n",
       "    .dataframe tbody tr th:only-of-type {\n",
       "        vertical-align: middle;\n",
       "    }\n",
       "\n",
       "    .dataframe tbody tr th {\n",
       "        vertical-align: top;\n",
       "    }\n",
       "\n",
       "    .dataframe thead th {\n",
       "        text-align: right;\n",
       "    }\n",
       "</style>\n",
       "<table border=\"1\" class=\"dataframe\">\n",
       "  <thead>\n",
       "    <tr style=\"text-align: right;\">\n",
       "      <th></th>\n",
       "      <th>C1</th>\n",
       "      <th>C2</th>\n",
       "      <th>C3</th>\n",
       "      <th>C4</th>\n",
       "      <th>C5</th>\n",
       "      <th>C6</th>\n",
       "      <th>C7</th>\n",
       "      <th>C8</th>\n",
       "      <th>C9</th>\n",
       "      <th>C10</th>\n",
       "      <th>...</th>\n",
       "      <th>NC17</th>\n",
       "      <th>NC18</th>\n",
       "      <th>NC19</th>\n",
       "      <th>NC20</th>\n",
       "      <th>NC21</th>\n",
       "      <th>NC22</th>\n",
       "      <th>NC23</th>\n",
       "      <th>NC24</th>\n",
       "      <th>NC25</th>\n",
       "      <th>NC26</th>\n",
       "    </tr>\n",
       "    <tr>\n",
       "      <th>#symbol</th>\n",
       "      <th></th>\n",
       "      <th></th>\n",
       "      <th></th>\n",
       "      <th></th>\n",
       "      <th></th>\n",
       "      <th></th>\n",
       "      <th></th>\n",
       "      <th></th>\n",
       "      <th></th>\n",
       "      <th></th>\n",
       "      <th></th>\n",
       "      <th></th>\n",
       "      <th></th>\n",
       "      <th></th>\n",
       "      <th></th>\n",
       "      <th></th>\n",
       "      <th></th>\n",
       "      <th></th>\n",
       "      <th></th>\n",
       "      <th></th>\n",
       "      <th></th>\n",
       "    </tr>\n",
       "  </thead>\n",
       "  <tbody>\n",
       "    <tr>\n",
       "      <th>A1BG</th>\n",
       "      <td>0.49</td>\n",
       "      <td>0.29</td>\n",
       "      <td>0.26</td>\n",
       "      <td>0.45</td>\n",
       "      <td>0.17</td>\n",
       "      <td>0.21</td>\n",
       "      <td>0.49</td>\n",
       "      <td>0.12</td>\n",
       "      <td>0.51</td>\n",
       "      <td>0.10</td>\n",
       "      <td>...</td>\n",
       "      <td>0.37</td>\n",
       "      <td>0.33</td>\n",
       "      <td>0.25</td>\n",
       "      <td>0.20</td>\n",
       "      <td>0.40</td>\n",
       "      <td>0.30</td>\n",
       "      <td>0.70</td>\n",
       "      <td>0.75</td>\n",
       "      <td>2.80</td>\n",
       "      <td>0.22</td>\n",
       "    </tr>\n",
       "    <tr>\n",
       "      <th>A1CF</th>\n",
       "      <td>0.00</td>\n",
       "      <td>0.00</td>\n",
       "      <td>0.00</td>\n",
       "      <td>0.01</td>\n",
       "      <td>0.00</td>\n",
       "      <td>0.00</td>\n",
       "      <td>0.01</td>\n",
       "      <td>0.00</td>\n",
       "      <td>0.01</td>\n",
       "      <td>0.00</td>\n",
       "      <td>...</td>\n",
       "      <td>0.00</td>\n",
       "      <td>0.00</td>\n",
       "      <td>0.00</td>\n",
       "      <td>0.00</td>\n",
       "      <td>0.00</td>\n",
       "      <td>0.00</td>\n",
       "      <td>0.00</td>\n",
       "      <td>0.00</td>\n",
       "      <td>0.00</td>\n",
       "      <td>0.00</td>\n",
       "    </tr>\n",
       "    <tr>\n",
       "      <th>A2M</th>\n",
       "      <td>0.21</td>\n",
       "      <td>0.14</td>\n",
       "      <td>0.03</td>\n",
       "      <td>0.09</td>\n",
       "      <td>0.00</td>\n",
       "      <td>0.08</td>\n",
       "      <td>0.23</td>\n",
       "      <td>0.08</td>\n",
       "      <td>0.88</td>\n",
       "      <td>0.13</td>\n",
       "      <td>...</td>\n",
       "      <td>0.07</td>\n",
       "      <td>0.06</td>\n",
       "      <td>0.11</td>\n",
       "      <td>0.01</td>\n",
       "      <td>0.04</td>\n",
       "      <td>0.02</td>\n",
       "      <td>0.02</td>\n",
       "      <td>0.27</td>\n",
       "      <td>0.04</td>\n",
       "      <td>0.28</td>\n",
       "    </tr>\n",
       "    <tr>\n",
       "      <th>A2ML1</th>\n",
       "      <td>0.04</td>\n",
       "      <td>0.00</td>\n",
       "      <td>0.02</td>\n",
       "      <td>0.07</td>\n",
       "      <td>0.05</td>\n",
       "      <td>0.04</td>\n",
       "      <td>0.03</td>\n",
       "      <td>0.01</td>\n",
       "      <td>0.02</td>\n",
       "      <td>0.01</td>\n",
       "      <td>...</td>\n",
       "      <td>0.01</td>\n",
       "      <td>0.00</td>\n",
       "      <td>0.00</td>\n",
       "      <td>0.02</td>\n",
       "      <td>0.02</td>\n",
       "      <td>0.02</td>\n",
       "      <td>0.01</td>\n",
       "      <td>0.00</td>\n",
       "      <td>0.00</td>\n",
       "      <td>0.00</td>\n",
       "    </tr>\n",
       "    <tr>\n",
       "      <th>A3GALT2</th>\n",
       "      <td>0.07</td>\n",
       "      <td>0.00</td>\n",
       "      <td>0.00</td>\n",
       "      <td>0.00</td>\n",
       "      <td>0.07</td>\n",
       "      <td>0.00</td>\n",
       "      <td>0.07</td>\n",
       "      <td>0.00</td>\n",
       "      <td>0.79</td>\n",
       "      <td>0.15</td>\n",
       "      <td>...</td>\n",
       "      <td>0.18</td>\n",
       "      <td>0.00</td>\n",
       "      <td>0.04</td>\n",
       "      <td>0.00</td>\n",
       "      <td>0.00</td>\n",
       "      <td>0.00</td>\n",
       "      <td>0.00</td>\n",
       "      <td>0.06</td>\n",
       "      <td>0.00</td>\n",
       "      <td>0.00</td>\n",
       "    </tr>\n",
       "    <tr>\n",
       "      <th>A4GALT</th>\n",
       "      <td>0.00</td>\n",
       "      <td>0.00</td>\n",
       "      <td>0.00</td>\n",
       "      <td>0.00</td>\n",
       "      <td>0.00</td>\n",
       "      <td>0.00</td>\n",
       "      <td>0.00</td>\n",
       "      <td>0.00</td>\n",
       "      <td>0.00</td>\n",
       "      <td>0.00</td>\n",
       "      <td>...</td>\n",
       "      <td>0.00</td>\n",
       "      <td>0.00</td>\n",
       "      <td>0.03</td>\n",
       "      <td>0.07</td>\n",
       "      <td>0.00</td>\n",
       "      <td>0.00</td>\n",
       "      <td>0.00</td>\n",
       "      <td>0.00</td>\n",
       "      <td>0.00</td>\n",
       "      <td>0.00</td>\n",
       "    </tr>\n",
       "    <tr>\n",
       "      <th>A4GNT</th>\n",
       "      <td>0.03</td>\n",
       "      <td>0.05</td>\n",
       "      <td>0.07</td>\n",
       "      <td>0.00</td>\n",
       "      <td>0.00</td>\n",
       "      <td>0.03</td>\n",
       "      <td>0.00</td>\n",
       "      <td>0.00</td>\n",
       "      <td>0.00</td>\n",
       "      <td>0.12</td>\n",
       "      <td>...</td>\n",
       "      <td>0.00</td>\n",
       "      <td>0.00</td>\n",
       "      <td>0.00</td>\n",
       "      <td>0.03</td>\n",
       "      <td>0.00</td>\n",
       "      <td>0.00</td>\n",
       "      <td>0.00</td>\n",
       "      <td>0.00</td>\n",
       "      <td>0.00</td>\n",
       "      <td>0.00</td>\n",
       "    </tr>\n",
       "    <tr>\n",
       "      <th>AAAS</th>\n",
       "      <td>18.92</td>\n",
       "      <td>18.68</td>\n",
       "      <td>13.85</td>\n",
       "      <td>22.11</td>\n",
       "      <td>8.45</td>\n",
       "      <td>19.60</td>\n",
       "      <td>28.59</td>\n",
       "      <td>10.50</td>\n",
       "      <td>22.78</td>\n",
       "      <td>15.47</td>\n",
       "      <td>...</td>\n",
       "      <td>16.31</td>\n",
       "      <td>10.98</td>\n",
       "      <td>11.28</td>\n",
       "      <td>13.57</td>\n",
       "      <td>24.83</td>\n",
       "      <td>17.06</td>\n",
       "      <td>20.31</td>\n",
       "      <td>27.25</td>\n",
       "      <td>21.64</td>\n",
       "      <td>5.54</td>\n",
       "    </tr>\n",
       "    <tr>\n",
       "      <th>AACS</th>\n",
       "      <td>4.07</td>\n",
       "      <td>3.00</td>\n",
       "      <td>1.83</td>\n",
       "      <td>4.22</td>\n",
       "      <td>1.17</td>\n",
       "      <td>3.15</td>\n",
       "      <td>4.24</td>\n",
       "      <td>2.10</td>\n",
       "      <td>4.86</td>\n",
       "      <td>2.90</td>\n",
       "      <td>...</td>\n",
       "      <td>2.47</td>\n",
       "      <td>1.60</td>\n",
       "      <td>1.30</td>\n",
       "      <td>2.00</td>\n",
       "      <td>2.74</td>\n",
       "      <td>1.96</td>\n",
       "      <td>1.54</td>\n",
       "      <td>3.42</td>\n",
       "      <td>1.43</td>\n",
       "      <td>0.35</td>\n",
       "    </tr>\n",
       "    <tr>\n",
       "      <th>AADAC</th>\n",
       "      <td>0.00</td>\n",
       "      <td>0.00</td>\n",
       "      <td>0.00</td>\n",
       "      <td>0.00</td>\n",
       "      <td>0.00</td>\n",
       "      <td>0.00</td>\n",
       "      <td>0.00</td>\n",
       "      <td>0.00</td>\n",
       "      <td>0.00</td>\n",
       "      <td>0.00</td>\n",
       "      <td>...</td>\n",
       "      <td>0.00</td>\n",
       "      <td>0.00</td>\n",
       "      <td>0.00</td>\n",
       "      <td>0.00</td>\n",
       "      <td>0.00</td>\n",
       "      <td>0.00</td>\n",
       "      <td>0.00</td>\n",
       "      <td>0.00</td>\n",
       "      <td>0.00</td>\n",
       "      <td>0.00</td>\n",
       "    </tr>\n",
       "  </tbody>\n",
       "</table>\n",
       "<p>10 rows × 126 columns</p>\n",
       "</div>"
      ],
      "text/plain": [
       "            C1     C2     C3     C4    C5     C6     C7     C8     C9    C10  \\\n",
       "#symbol                                                                        \n",
       "A1BG      0.49   0.29   0.26   0.45  0.17   0.21   0.49   0.12   0.51   0.10   \n",
       "A1CF      0.00   0.00   0.00   0.01  0.00   0.00   0.01   0.00   0.01   0.00   \n",
       "A2M       0.21   0.14   0.03   0.09  0.00   0.08   0.23   0.08   0.88   0.13   \n",
       "A2ML1     0.04   0.00   0.02   0.07  0.05   0.04   0.03   0.01   0.02   0.01   \n",
       "A3GALT2   0.07   0.00   0.00   0.00  0.07   0.00   0.07   0.00   0.79   0.15   \n",
       "A4GALT    0.00   0.00   0.00   0.00  0.00   0.00   0.00   0.00   0.00   0.00   \n",
       "A4GNT     0.03   0.05   0.07   0.00  0.00   0.03   0.00   0.00   0.00   0.12   \n",
       "AAAS     18.92  18.68  13.85  22.11  8.45  19.60  28.59  10.50  22.78  15.47   \n",
       "AACS      4.07   3.00   1.83   4.22  1.17   3.15   4.24   2.10   4.86   2.90   \n",
       "AADAC     0.00   0.00   0.00   0.00  0.00   0.00   0.00   0.00   0.00   0.00   \n",
       "\n",
       "         ...   NC17   NC18   NC19   NC20   NC21   NC22   NC23   NC24   NC25  \\\n",
       "#symbol  ...                                                                  \n",
       "A1BG     ...   0.37   0.33   0.25   0.20   0.40   0.30   0.70   0.75   2.80   \n",
       "A1CF     ...   0.00   0.00   0.00   0.00   0.00   0.00   0.00   0.00   0.00   \n",
       "A2M      ...   0.07   0.06   0.11   0.01   0.04   0.02   0.02   0.27   0.04   \n",
       "A2ML1    ...   0.01   0.00   0.00   0.02   0.02   0.02   0.01   0.00   0.00   \n",
       "A3GALT2  ...   0.18   0.00   0.04   0.00   0.00   0.00   0.00   0.06   0.00   \n",
       "A4GALT   ...   0.00   0.00   0.03   0.07   0.00   0.00   0.00   0.00   0.00   \n",
       "A4GNT    ...   0.00   0.00   0.00   0.03   0.00   0.00   0.00   0.00   0.00   \n",
       "AAAS     ...  16.31  10.98  11.28  13.57  24.83  17.06  20.31  27.25  21.64   \n",
       "AACS     ...   2.47   1.60   1.30   2.00   2.74   1.96   1.54   3.42   1.43   \n",
       "AADAC    ...   0.00   0.00   0.00   0.00   0.00   0.00   0.00   0.00   0.00   \n",
       "\n",
       "         NC26  \n",
       "#symbol        \n",
       "A1BG     0.22  \n",
       "A1CF     0.00  \n",
       "A2M      0.28  \n",
       "A2ML1    0.00  \n",
       "A3GALT2  0.00  \n",
       "A4GALT   0.00  \n",
       "A4GNT    0.00  \n",
       "AAAS     5.54  \n",
       "AACS     0.35  \n",
       "AADAC    0.00  \n",
       "\n",
       "[10 rows x 126 columns]"
      ]
     },
     "execution_count": 259,
     "metadata": {},
     "output_type": "execute_result"
    }
   ],
   "source": [
    "\n",
    "#upload count matrix manually downloaded from GEO website\n",
    "path = \"C:/Users/catia/Downloads\"\n",
    "\n",
    "rna_seq_tmp = pd.read_csv(\"GSE157103_genes.tpm.tsv\", sep='\\t', index_col = 0)\n",
    "rna_seq_tmp.head(10)\n"
   ]
  },
  {
   "cell_type": "code",
   "execution_count": 260,
   "metadata": {},
   "outputs": [
    {
     "data": {
      "text/html": [
       "<div>\n",
       "<style scoped>\n",
       "    .dataframe tbody tr th:only-of-type {\n",
       "        vertical-align: middle;\n",
       "    }\n",
       "\n",
       "    .dataframe tbody tr th {\n",
       "        vertical-align: top;\n",
       "    }\n",
       "\n",
       "    .dataframe thead th {\n",
       "        text-align: right;\n",
       "    }\n",
       "</style>\n",
       "<table border=\"1\" class=\"dataframe\">\n",
       "  <thead>\n",
       "    <tr style=\"text-align: right;\">\n",
       "      <th></th>\n",
       "      <th>C1</th>\n",
       "      <th>C2</th>\n",
       "      <th>C3</th>\n",
       "      <th>C4</th>\n",
       "      <th>C5</th>\n",
       "      <th>C6</th>\n",
       "      <th>C7</th>\n",
       "      <th>C8</th>\n",
       "      <th>C9</th>\n",
       "      <th>C10</th>\n",
       "      <th>...</th>\n",
       "      <th>NC17</th>\n",
       "      <th>NC18</th>\n",
       "      <th>NC19</th>\n",
       "      <th>NC20</th>\n",
       "      <th>NC21</th>\n",
       "      <th>NC22</th>\n",
       "      <th>NC23</th>\n",
       "      <th>NC24</th>\n",
       "      <th>NC25</th>\n",
       "      <th>NC26</th>\n",
       "    </tr>\n",
       "  </thead>\n",
       "  <tbody>\n",
       "    <tr>\n",
       "      <th>count</th>\n",
       "      <td>19472.000000</td>\n",
       "      <td>19472.000000</td>\n",
       "      <td>19472.000000</td>\n",
       "      <td>19472.000000</td>\n",
       "      <td>19472.00000</td>\n",
       "      <td>19472.000000</td>\n",
       "      <td>19472.000000</td>\n",
       "      <td>19472.000000</td>\n",
       "      <td>19472.000000</td>\n",
       "      <td>19472.000000</td>\n",
       "      <td>...</td>\n",
       "      <td>19472.000000</td>\n",
       "      <td>19472.000000</td>\n",
       "      <td>19472.000000</td>\n",
       "      <td>19472.000000</td>\n",
       "      <td>19472.000000</td>\n",
       "      <td>19472.000000</td>\n",
       "      <td>19472.000000</td>\n",
       "      <td>19472.000000</td>\n",
       "      <td>19472.000000</td>\n",
       "      <td>19472.000000</td>\n",
       "    </tr>\n",
       "    <tr>\n",
       "      <th>mean</th>\n",
       "      <td>51.355792</td>\n",
       "      <td>51.355807</td>\n",
       "      <td>51.355800</td>\n",
       "      <td>51.355776</td>\n",
       "      <td>51.35579</td>\n",
       "      <td>51.355798</td>\n",
       "      <td>51.355831</td>\n",
       "      <td>51.355772</td>\n",
       "      <td>51.355802</td>\n",
       "      <td>51.355780</td>\n",
       "      <td>...</td>\n",
       "      <td>51.355811</td>\n",
       "      <td>51.355826</td>\n",
       "      <td>51.355812</td>\n",
       "      <td>51.355806</td>\n",
       "      <td>51.355813</td>\n",
       "      <td>51.355806</td>\n",
       "      <td>51.355781</td>\n",
       "      <td>51.355760</td>\n",
       "      <td>51.355786</td>\n",
       "      <td>51.355801</td>\n",
       "    </tr>\n",
       "    <tr>\n",
       "      <th>std</th>\n",
       "      <td>734.265978</td>\n",
       "      <td>762.410285</td>\n",
       "      <td>1075.540652</td>\n",
       "      <td>562.286149</td>\n",
       "      <td>1270.47109</td>\n",
       "      <td>969.987686</td>\n",
       "      <td>610.497078</td>\n",
       "      <td>1170.344865</td>\n",
       "      <td>822.714316</td>\n",
       "      <td>1210.562129</td>\n",
       "      <td>...</td>\n",
       "      <td>822.491085</td>\n",
       "      <td>1404.443711</td>\n",
       "      <td>1671.988592</td>\n",
       "      <td>1222.687347</td>\n",
       "      <td>844.811035</td>\n",
       "      <td>1430.460664</td>\n",
       "      <td>1012.686897</td>\n",
       "      <td>582.169481</td>\n",
       "      <td>738.260501</td>\n",
       "      <td>2289.741419</td>\n",
       "    </tr>\n",
       "    <tr>\n",
       "      <th>min</th>\n",
       "      <td>0.000000</td>\n",
       "      <td>0.000000</td>\n",
       "      <td>0.000000</td>\n",
       "      <td>0.000000</td>\n",
       "      <td>0.00000</td>\n",
       "      <td>0.000000</td>\n",
       "      <td>0.000000</td>\n",
       "      <td>0.000000</td>\n",
       "      <td>0.000000</td>\n",
       "      <td>0.000000</td>\n",
       "      <td>...</td>\n",
       "      <td>0.000000</td>\n",
       "      <td>0.000000</td>\n",
       "      <td>0.000000</td>\n",
       "      <td>0.000000</td>\n",
       "      <td>0.000000</td>\n",
       "      <td>0.000000</td>\n",
       "      <td>0.000000</td>\n",
       "      <td>0.000000</td>\n",
       "      <td>0.000000</td>\n",
       "      <td>0.000000</td>\n",
       "    </tr>\n",
       "    <tr>\n",
       "      <th>25%</th>\n",
       "      <td>0.030000</td>\n",
       "      <td>0.040000</td>\n",
       "      <td>0.020000</td>\n",
       "      <td>0.050000</td>\n",
       "      <td>0.02000</td>\n",
       "      <td>0.040000</td>\n",
       "      <td>0.060000</td>\n",
       "      <td>0.020000</td>\n",
       "      <td>0.030000</td>\n",
       "      <td>0.030000</td>\n",
       "      <td>...</td>\n",
       "      <td>0.040000</td>\n",
       "      <td>0.010000</td>\n",
       "      <td>0.010000</td>\n",
       "      <td>0.020000</td>\n",
       "      <td>0.020000</td>\n",
       "      <td>0.020000</td>\n",
       "      <td>0.020000</td>\n",
       "      <td>0.040000</td>\n",
       "      <td>0.010000</td>\n",
       "      <td>0.000000</td>\n",
       "    </tr>\n",
       "    <tr>\n",
       "      <th>50%</th>\n",
       "      <td>2.470000</td>\n",
       "      <td>2.460000</td>\n",
       "      <td>1.250000</td>\n",
       "      <td>2.965000</td>\n",
       "      <td>1.20500</td>\n",
       "      <td>2.190000</td>\n",
       "      <td>3.390000</td>\n",
       "      <td>1.410000</td>\n",
       "      <td>2.300000</td>\n",
       "      <td>1.690000</td>\n",
       "      <td>...</td>\n",
       "      <td>2.120000</td>\n",
       "      <td>0.925000</td>\n",
       "      <td>0.840000</td>\n",
       "      <td>1.170000</td>\n",
       "      <td>1.350000</td>\n",
       "      <td>0.810000</td>\n",
       "      <td>1.110000</td>\n",
       "      <td>2.090000</td>\n",
       "      <td>0.845000</td>\n",
       "      <td>0.420000</td>\n",
       "    </tr>\n",
       "    <tr>\n",
       "      <th>75%</th>\n",
       "      <td>17.182500</td>\n",
       "      <td>15.220000</td>\n",
       "      <td>10.690000</td>\n",
       "      <td>17.962500</td>\n",
       "      <td>10.26000</td>\n",
       "      <td>13.432500</td>\n",
       "      <td>18.892500</td>\n",
       "      <td>11.062500</td>\n",
       "      <td>14.980000</td>\n",
       "      <td>11.552500</td>\n",
       "      <td>...</td>\n",
       "      <td>14.792500</td>\n",
       "      <td>7.910000</td>\n",
       "      <td>7.320000</td>\n",
       "      <td>9.330000</td>\n",
       "      <td>9.540000</td>\n",
       "      <td>6.290000</td>\n",
       "      <td>9.040000</td>\n",
       "      <td>13.832500</td>\n",
       "      <td>6.620000</td>\n",
       "      <td>3.810000</td>\n",
       "    </tr>\n",
       "    <tr>\n",
       "      <th>max</th>\n",
       "      <td>64587.480000</td>\n",
       "      <td>69854.370000</td>\n",
       "      <td>96300.100000</td>\n",
       "      <td>33241.960000</td>\n",
       "      <td>144022.37000</td>\n",
       "      <td>111117.870000</td>\n",
       "      <td>37363.310000</td>\n",
       "      <td>114337.660000</td>\n",
       "      <td>75816.480000</td>\n",
       "      <td>118469.710000</td>\n",
       "      <td>...</td>\n",
       "      <td>64139.120000</td>\n",
       "      <td>129223.410000</td>\n",
       "      <td>178089.380000</td>\n",
       "      <td>112675.860000</td>\n",
       "      <td>72568.800000</td>\n",
       "      <td>166457.610000</td>\n",
       "      <td>96057.980000</td>\n",
       "      <td>33537.920000</td>\n",
       "      <td>42750.970000</td>\n",
       "      <td>271839.830000</td>\n",
       "    </tr>\n",
       "  </tbody>\n",
       "</table>\n",
       "<p>8 rows × 126 columns</p>\n",
       "</div>"
      ],
      "text/plain": [
       "                 C1            C2            C3            C4            C5  \\\n",
       "count  19472.000000  19472.000000  19472.000000  19472.000000   19472.00000   \n",
       "mean      51.355792     51.355807     51.355800     51.355776      51.35579   \n",
       "std      734.265978    762.410285   1075.540652    562.286149    1270.47109   \n",
       "min        0.000000      0.000000      0.000000      0.000000       0.00000   \n",
       "25%        0.030000      0.040000      0.020000      0.050000       0.02000   \n",
       "50%        2.470000      2.460000      1.250000      2.965000       1.20500   \n",
       "75%       17.182500     15.220000     10.690000     17.962500      10.26000   \n",
       "max    64587.480000  69854.370000  96300.100000  33241.960000  144022.37000   \n",
       "\n",
       "                  C6            C7             C8            C9  \\\n",
       "count   19472.000000  19472.000000   19472.000000  19472.000000   \n",
       "mean       51.355798     51.355831      51.355772     51.355802   \n",
       "std       969.987686    610.497078    1170.344865    822.714316   \n",
       "min         0.000000      0.000000       0.000000      0.000000   \n",
       "25%         0.040000      0.060000       0.020000      0.030000   \n",
       "50%         2.190000      3.390000       1.410000      2.300000   \n",
       "75%        13.432500     18.892500      11.062500     14.980000   \n",
       "max    111117.870000  37363.310000  114337.660000  75816.480000   \n",
       "\n",
       "                 C10  ...          NC17           NC18           NC19  \\\n",
       "count   19472.000000  ...  19472.000000   19472.000000   19472.000000   \n",
       "mean       51.355780  ...     51.355811      51.355826      51.355812   \n",
       "std      1210.562129  ...    822.491085    1404.443711    1671.988592   \n",
       "min         0.000000  ...      0.000000       0.000000       0.000000   \n",
       "25%         0.030000  ...      0.040000       0.010000       0.010000   \n",
       "50%         1.690000  ...      2.120000       0.925000       0.840000   \n",
       "75%        11.552500  ...     14.792500       7.910000       7.320000   \n",
       "max    118469.710000  ...  64139.120000  129223.410000  178089.380000   \n",
       "\n",
       "                NC20          NC21           NC22          NC23          NC24  \\\n",
       "count   19472.000000  19472.000000   19472.000000  19472.000000  19472.000000   \n",
       "mean       51.355806     51.355813      51.355806     51.355781     51.355760   \n",
       "std      1222.687347    844.811035    1430.460664   1012.686897    582.169481   \n",
       "min         0.000000      0.000000       0.000000      0.000000      0.000000   \n",
       "25%         0.020000      0.020000       0.020000      0.020000      0.040000   \n",
       "50%         1.170000      1.350000       0.810000      1.110000      2.090000   \n",
       "75%         9.330000      9.540000       6.290000      9.040000     13.832500   \n",
       "max    112675.860000  72568.800000  166457.610000  96057.980000  33537.920000   \n",
       "\n",
       "               NC25           NC26  \n",
       "count  19472.000000   19472.000000  \n",
       "mean      51.355786      51.355801  \n",
       "std      738.260501    2289.741419  \n",
       "min        0.000000       0.000000  \n",
       "25%        0.010000       0.000000  \n",
       "50%        0.845000       0.420000  \n",
       "75%        6.620000       3.810000  \n",
       "max    42750.970000  271839.830000  \n",
       "\n",
       "[8 rows x 126 columns]"
      ]
     },
     "execution_count": 260,
     "metadata": {},
     "output_type": "execute_result"
    }
   ],
   "source": [
    "rna_seq_tmp.describe()"
   ]
  },
  {
   "cell_type": "code",
   "execution_count": 261,
   "metadata": {},
   "outputs": [
    {
     "name": "stderr",
     "output_type": "stream",
     "text": [
      "29-Jan-2021 14:32:31 DEBUG utils - Directory ./ already exists. Skipping.\n",
      "29-Jan-2021 14:32:31 INFO GEOparse - File already exist: using local version.\n",
      "29-Jan-2021 14:32:31 INFO GEOparse - Parsing ./GSE157103_family.soft.gz: \n",
      "29-Jan-2021 14:32:31 DEBUG GEOparse - DATABASE: GeoMiame\n",
      "29-Jan-2021 14:32:31 DEBUG GEOparse - SERIES: GSE157103\n",
      "29-Jan-2021 14:32:31 DEBUG GEOparse - PLATFORM: GPL24676\n",
      "29-Jan-2021 14:32:31 DEBUG GEOparse - SAMPLE: GSM4753021\n",
      "29-Jan-2021 14:32:31 DEBUG GEOparse - SAMPLE: GSM4753022\n",
      "29-Jan-2021 14:32:31 DEBUG GEOparse - SAMPLE: GSM4753023\n",
      "29-Jan-2021 14:32:31 DEBUG GEOparse - SAMPLE: GSM4753024\n",
      "29-Jan-2021 14:32:31 DEBUG GEOparse - SAMPLE: GSM4753025\n",
      "29-Jan-2021 14:32:31 DEBUG GEOparse - SAMPLE: GSM4753026\n",
      "29-Jan-2021 14:32:31 DEBUG GEOparse - SAMPLE: GSM4753027\n",
      "29-Jan-2021 14:32:31 DEBUG GEOparse - SAMPLE: GSM4753028\n",
      "29-Jan-2021 14:32:31 DEBUG GEOparse - SAMPLE: GSM4753029\n",
      "29-Jan-2021 14:32:31 DEBUG GEOparse - SAMPLE: GSM4753030\n",
      "29-Jan-2021 14:32:31 DEBUG GEOparse - SAMPLE: GSM4753031\n",
      "29-Jan-2021 14:32:31 DEBUG GEOparse - SAMPLE: GSM4753032\n",
      "29-Jan-2021 14:32:31 DEBUG GEOparse - SAMPLE: GSM4753033\n",
      "29-Jan-2021 14:32:31 DEBUG GEOparse - SAMPLE: GSM4753034\n",
      "29-Jan-2021 14:32:31 DEBUG GEOparse - SAMPLE: GSM4753035\n",
      "29-Jan-2021 14:32:31 DEBUG GEOparse - SAMPLE: GSM4753036\n",
      "29-Jan-2021 14:32:31 DEBUG GEOparse - SAMPLE: GSM4753037\n",
      "29-Jan-2021 14:32:31 DEBUG GEOparse - SAMPLE: GSM4753038\n",
      "29-Jan-2021 14:32:31 DEBUG GEOparse - SAMPLE: GSM4753039\n",
      "29-Jan-2021 14:32:31 DEBUG GEOparse - SAMPLE: GSM4753040\n",
      "29-Jan-2021 14:32:31 DEBUG GEOparse - SAMPLE: GSM4753041\n",
      "29-Jan-2021 14:32:31 DEBUG GEOparse - SAMPLE: GSM4753042\n",
      "29-Jan-2021 14:32:31 DEBUG GEOparse - SAMPLE: GSM4753043\n",
      "29-Jan-2021 14:32:31 DEBUG GEOparse - SAMPLE: GSM4753044\n",
      "29-Jan-2021 14:32:31 DEBUG GEOparse - SAMPLE: GSM4753045\n",
      "29-Jan-2021 14:32:31 DEBUG GEOparse - SAMPLE: GSM4753046\n",
      "29-Jan-2021 14:32:31 DEBUG GEOparse - SAMPLE: GSM4753047\n",
      "29-Jan-2021 14:32:31 DEBUG GEOparse - SAMPLE: GSM4753048\n",
      "29-Jan-2021 14:32:31 DEBUG GEOparse - SAMPLE: GSM4753049\n",
      "29-Jan-2021 14:32:31 DEBUG GEOparse - SAMPLE: GSM4753050\n",
      "29-Jan-2021 14:32:31 DEBUG GEOparse - SAMPLE: GSM4753051\n",
      "29-Jan-2021 14:32:31 DEBUG GEOparse - SAMPLE: GSM4753052\n",
      "29-Jan-2021 14:32:31 DEBUG GEOparse - SAMPLE: GSM4753053\n",
      "29-Jan-2021 14:32:31 DEBUG GEOparse - SAMPLE: GSM4753054\n",
      "29-Jan-2021 14:32:31 DEBUG GEOparse - SAMPLE: GSM4753055\n",
      "29-Jan-2021 14:32:31 DEBUG GEOparse - SAMPLE: GSM4753056\n",
      "29-Jan-2021 14:32:31 DEBUG GEOparse - SAMPLE: GSM4753057\n",
      "29-Jan-2021 14:32:31 DEBUG GEOparse - SAMPLE: GSM4753058\n",
      "29-Jan-2021 14:32:31 DEBUG GEOparse - SAMPLE: GSM4753059\n",
      "29-Jan-2021 14:32:31 DEBUG GEOparse - SAMPLE: GSM4753060\n",
      "29-Jan-2021 14:32:31 DEBUG GEOparse - SAMPLE: GSM4753061\n",
      "29-Jan-2021 14:32:31 DEBUG GEOparse - SAMPLE: GSM4753062\n",
      "29-Jan-2021 14:32:31 DEBUG GEOparse - SAMPLE: GSM4753063\n",
      "29-Jan-2021 14:32:31 DEBUG GEOparse - SAMPLE: GSM4753064\n",
      "29-Jan-2021 14:32:31 DEBUG GEOparse - SAMPLE: GSM4753065\n",
      "29-Jan-2021 14:32:31 DEBUG GEOparse - SAMPLE: GSM4753066\n",
      "29-Jan-2021 14:32:31 DEBUG GEOparse - SAMPLE: GSM4753067\n",
      "29-Jan-2021 14:32:31 DEBUG GEOparse - SAMPLE: GSM4753068\n",
      "29-Jan-2021 14:32:31 DEBUG GEOparse - SAMPLE: GSM4753069\n",
      "29-Jan-2021 14:32:31 DEBUG GEOparse - SAMPLE: GSM4753070\n",
      "29-Jan-2021 14:32:31 DEBUG GEOparse - SAMPLE: GSM4753071\n",
      "29-Jan-2021 14:32:31 DEBUG GEOparse - SAMPLE: GSM4753072\n",
      "29-Jan-2021 14:32:31 DEBUG GEOparse - SAMPLE: GSM4753073\n",
      "29-Jan-2021 14:32:31 DEBUG GEOparse - SAMPLE: GSM4753074\n",
      "29-Jan-2021 14:32:31 DEBUG GEOparse - SAMPLE: GSM4753075\n",
      "29-Jan-2021 14:32:31 DEBUG GEOparse - SAMPLE: GSM4753076\n",
      "29-Jan-2021 14:32:31 DEBUG GEOparse - SAMPLE: GSM4753077\n",
      "29-Jan-2021 14:32:31 DEBUG GEOparse - SAMPLE: GSM4753078\n",
      "29-Jan-2021 14:32:31 DEBUG GEOparse - SAMPLE: GSM4753079\n",
      "29-Jan-2021 14:32:31 DEBUG GEOparse - SAMPLE: GSM4753080\n",
      "29-Jan-2021 14:32:31 DEBUG GEOparse - SAMPLE: GSM4753081\n",
      "29-Jan-2021 14:32:31 DEBUG GEOparse - SAMPLE: GSM4753082\n",
      "29-Jan-2021 14:32:31 DEBUG GEOparse - SAMPLE: GSM4753083\n",
      "29-Jan-2021 14:32:31 DEBUG GEOparse - SAMPLE: GSM4753084\n",
      "29-Jan-2021 14:32:31 DEBUG GEOparse - SAMPLE: GSM4753085\n",
      "29-Jan-2021 14:32:31 DEBUG GEOparse - SAMPLE: GSM4753086\n",
      "29-Jan-2021 14:32:31 DEBUG GEOparse - SAMPLE: GSM4753087\n",
      "29-Jan-2021 14:32:31 DEBUG GEOparse - SAMPLE: GSM4753088\n",
      "29-Jan-2021 14:32:31 DEBUG GEOparse - SAMPLE: GSM4753089\n",
      "29-Jan-2021 14:32:31 DEBUG GEOparse - SAMPLE: GSM4753090\n",
      "29-Jan-2021 14:32:31 DEBUG GEOparse - SAMPLE: GSM4753091\n",
      "29-Jan-2021 14:32:31 DEBUG GEOparse - SAMPLE: GSM4753092\n",
      "29-Jan-2021 14:32:31 DEBUG GEOparse - SAMPLE: GSM4753093\n",
      "29-Jan-2021 14:32:31 DEBUG GEOparse - SAMPLE: GSM4753094\n",
      "29-Jan-2021 14:32:31 DEBUG GEOparse - SAMPLE: GSM4753095\n",
      "29-Jan-2021 14:32:31 DEBUG GEOparse - SAMPLE: GSM4753096\n",
      "29-Jan-2021 14:32:31 DEBUG GEOparse - SAMPLE: GSM4753097\n",
      "29-Jan-2021 14:32:31 DEBUG GEOparse - SAMPLE: GSM4753098\n",
      "29-Jan-2021 14:32:31 DEBUG GEOparse - SAMPLE: GSM4753099\n",
      "29-Jan-2021 14:32:31 DEBUG GEOparse - SAMPLE: GSM4753100\n",
      "29-Jan-2021 14:32:31 DEBUG GEOparse - SAMPLE: GSM4753101\n",
      "29-Jan-2021 14:32:31 DEBUG GEOparse - SAMPLE: GSM4753102\n",
      "29-Jan-2021 14:32:31 DEBUG GEOparse - SAMPLE: GSM4753103\n",
      "29-Jan-2021 14:32:31 DEBUG GEOparse - SAMPLE: GSM4753104\n",
      "29-Jan-2021 14:32:31 DEBUG GEOparse - SAMPLE: GSM4753105\n",
      "29-Jan-2021 14:32:31 DEBUG GEOparse - SAMPLE: GSM4753106\n",
      "29-Jan-2021 14:32:31 DEBUG GEOparse - SAMPLE: GSM4753107\n",
      "29-Jan-2021 14:32:31 DEBUG GEOparse - SAMPLE: GSM4753108\n",
      "29-Jan-2021 14:32:31 DEBUG GEOparse - SAMPLE: GSM4753109\n",
      "29-Jan-2021 14:32:31 DEBUG GEOparse - SAMPLE: GSM4753110\n",
      "29-Jan-2021 14:32:31 DEBUG GEOparse - SAMPLE: GSM4753111\n",
      "29-Jan-2021 14:32:31 DEBUG GEOparse - SAMPLE: GSM4753112\n",
      "29-Jan-2021 14:32:31 DEBUG GEOparse - SAMPLE: GSM4753113\n",
      "29-Jan-2021 14:32:31 DEBUG GEOparse - SAMPLE: GSM4753114\n",
      "29-Jan-2021 14:32:31 DEBUG GEOparse - SAMPLE: GSM4753115\n",
      "29-Jan-2021 14:32:32 DEBUG GEOparse - SAMPLE: GSM4753116\n",
      "29-Jan-2021 14:32:32 DEBUG GEOparse - SAMPLE: GSM4753117\n",
      "29-Jan-2021 14:32:32 DEBUG GEOparse - SAMPLE: GSM4753118\n",
      "29-Jan-2021 14:32:32 DEBUG GEOparse - SAMPLE: GSM4753119\n",
      "29-Jan-2021 14:32:32 DEBUG GEOparse - SAMPLE: GSM4753120\n",
      "29-Jan-2021 14:32:32 DEBUG GEOparse - SAMPLE: GSM4753121\n",
      "29-Jan-2021 14:32:32 DEBUG GEOparse - SAMPLE: GSM4753122\n",
      "29-Jan-2021 14:32:32 DEBUG GEOparse - SAMPLE: GSM4753123\n",
      "29-Jan-2021 14:32:32 DEBUG GEOparse - SAMPLE: GSM4753124\n",
      "29-Jan-2021 14:32:32 DEBUG GEOparse - SAMPLE: GSM4753125\n",
      "29-Jan-2021 14:32:32 DEBUG GEOparse - SAMPLE: GSM4753126\n",
      "29-Jan-2021 14:32:32 DEBUG GEOparse - SAMPLE: GSM4753127\n",
      "29-Jan-2021 14:32:32 DEBUG GEOparse - SAMPLE: GSM4753128\n",
      "29-Jan-2021 14:32:32 DEBUG GEOparse - SAMPLE: GSM4753129\n",
      "29-Jan-2021 14:32:32 DEBUG GEOparse - SAMPLE: GSM4753130\n",
      "29-Jan-2021 14:32:32 DEBUG GEOparse - SAMPLE: GSM4753131\n",
      "29-Jan-2021 14:32:32 DEBUG GEOparse - SAMPLE: GSM4753132\n",
      "29-Jan-2021 14:32:32 DEBUG GEOparse - SAMPLE: GSM4753133\n",
      "29-Jan-2021 14:32:32 DEBUG GEOparse - SAMPLE: GSM4753134\n",
      "29-Jan-2021 14:32:32 DEBUG GEOparse - SAMPLE: GSM4753135\n",
      "29-Jan-2021 14:32:32 DEBUG GEOparse - SAMPLE: GSM4753136\n",
      "29-Jan-2021 14:32:32 DEBUG GEOparse - SAMPLE: GSM4753137\n",
      "29-Jan-2021 14:32:32 DEBUG GEOparse - SAMPLE: GSM4753138\n",
      "29-Jan-2021 14:32:32 DEBUG GEOparse - SAMPLE: GSM4753139\n",
      "29-Jan-2021 14:32:32 DEBUG GEOparse - SAMPLE: GSM4753140\n",
      "29-Jan-2021 14:32:32 DEBUG GEOparse - SAMPLE: GSM4753141\n",
      "29-Jan-2021 14:32:32 DEBUG GEOparse - SAMPLE: GSM4753142\n",
      "29-Jan-2021 14:32:32 DEBUG GEOparse - SAMPLE: GSM4753143\n",
      "29-Jan-2021 14:32:32 DEBUG GEOparse - SAMPLE: GSM4753144\n",
      "29-Jan-2021 14:32:32 DEBUG GEOparse - SAMPLE: GSM4753145\n",
      "29-Jan-2021 14:32:32 DEBUG GEOparse - SAMPLE: GSM4753146\n"
     ]
    }
   ],
   "source": [
    "#download and load to the memory the experiment with specific GEO accession\n",
    "gse157103 = GEOparse.get_GEO(\"GSE157103\")"
   ]
  },
  {
   "cell_type": "code",
   "execution_count": 262,
   "metadata": {},
   "outputs": [
    {
     "data": {
      "text/html": [
       "<div>\n",
       "<style scoped>\n",
       "    .dataframe tbody tr th:only-of-type {\n",
       "        vertical-align: middle;\n",
       "    }\n",
       "\n",
       "    .dataframe tbody tr th {\n",
       "        vertical-align: top;\n",
       "    }\n",
       "\n",
       "    .dataframe thead th {\n",
       "        text-align: right;\n",
       "    }\n",
       "</style>\n",
       "<table border=\"1\" class=\"dataframe\">\n",
       "  <thead>\n",
       "    <tr style=\"text-align: right;\">\n",
       "      <th></th>\n",
       "      <th>title</th>\n",
       "      <th>geo_accession</th>\n",
       "      <th>status</th>\n",
       "      <th>submission_date</th>\n",
       "      <th>last_update_date</th>\n",
       "      <th>type</th>\n",
       "      <th>channel_count</th>\n",
       "      <th>source_name_ch1</th>\n",
       "      <th>organism_ch1</th>\n",
       "      <th>taxid_ch1</th>\n",
       "      <th>...</th>\n",
       "      <th>relation</th>\n",
       "      <th>supplementary_file_1</th>\n",
       "      <th>series_id</th>\n",
       "      <th>data_row_count</th>\n",
       "      <th>characteristics_ch1.14.fibrinogen</th>\n",
       "      <th>characteristics_ch1.15.sofa</th>\n",
       "      <th>characteristics_ch1.16.associated controlled-vocabulary terms</th>\n",
       "      <th>characteristics_ch1.17.cell type</th>\n",
       "      <th>characteristics_ch1.18.tissue of origin</th>\n",
       "      <th>characteristics_ch1.19.sample type</th>\n",
       "    </tr>\n",
       "  </thead>\n",
       "  <tbody>\n",
       "    <tr>\n",
       "      <th>GSM4753021</th>\n",
       "      <td>COVID_01_39y_male_NonICU</td>\n",
       "      <td>GSM4753021</td>\n",
       "      <td>Public on Aug 29 2020</td>\n",
       "      <td>Aug 28 2020</td>\n",
       "      <td>Aug 29 2020</td>\n",
       "      <td>SRA</td>\n",
       "      <td>1</td>\n",
       "      <td>Leukocytes from whole blood</td>\n",
       "      <td>Homo sapiens</td>\n",
       "      <td>9606</td>\n",
       "      <td>...</td>\n",
       "      <td>BioSample: https://www.ncbi.nlm.nih.gov/biosam...</td>\n",
       "      <td>NONE</td>\n",
       "      <td>GSE157103</td>\n",
       "      <td>0</td>\n",
       "      <td>NaN</td>\n",
       "      <td>NaN</td>\n",
       "      <td>NaN</td>\n",
       "      <td>NaN</td>\n",
       "      <td>NaN</td>\n",
       "      <td>NaN</td>\n",
       "    </tr>\n",
       "    <tr>\n",
       "      <th>GSM4753022</th>\n",
       "      <td>COVID_02_63y_male_NonICU</td>\n",
       "      <td>GSM4753022</td>\n",
       "      <td>Public on Aug 29 2020</td>\n",
       "      <td>Aug 28 2020</td>\n",
       "      <td>Aug 29 2020</td>\n",
       "      <td>SRA</td>\n",
       "      <td>1</td>\n",
       "      <td>Leukocytes from whole blood</td>\n",
       "      <td>Homo sapiens</td>\n",
       "      <td>9606</td>\n",
       "      <td>...</td>\n",
       "      <td>BioSample: https://www.ncbi.nlm.nih.gov/biosam...</td>\n",
       "      <td>NONE</td>\n",
       "      <td>GSE157103</td>\n",
       "      <td>0</td>\n",
       "      <td>NaN</td>\n",
       "      <td>NaN</td>\n",
       "      <td>NaN</td>\n",
       "      <td>NaN</td>\n",
       "      <td>NaN</td>\n",
       "      <td>NaN</td>\n",
       "    </tr>\n",
       "    <tr>\n",
       "      <th>GSM4753023</th>\n",
       "      <td>COVID_03_33y_male_NonICU</td>\n",
       "      <td>GSM4753023</td>\n",
       "      <td>Public on Aug 29 2020</td>\n",
       "      <td>Aug 28 2020</td>\n",
       "      <td>Aug 29 2020</td>\n",
       "      <td>SRA</td>\n",
       "      <td>1</td>\n",
       "      <td>Leukocytes from whole blood</td>\n",
       "      <td>Homo sapiens</td>\n",
       "      <td>9606</td>\n",
       "      <td>...</td>\n",
       "      <td>BioSample: https://www.ncbi.nlm.nih.gov/biosam...</td>\n",
       "      <td>NONE</td>\n",
       "      <td>GSE157103</td>\n",
       "      <td>0</td>\n",
       "      <td>NaN</td>\n",
       "      <td>NaN</td>\n",
       "      <td>NaN</td>\n",
       "      <td>NaN</td>\n",
       "      <td>NaN</td>\n",
       "      <td>NaN</td>\n",
       "    </tr>\n",
       "    <tr>\n",
       "      <th>GSM4753024</th>\n",
       "      <td>COVID_04_49y_male_NonICU</td>\n",
       "      <td>GSM4753024</td>\n",
       "      <td>Public on Aug 29 2020</td>\n",
       "      <td>Aug 28 2020</td>\n",
       "      <td>Aug 29 2020</td>\n",
       "      <td>SRA</td>\n",
       "      <td>1</td>\n",
       "      <td>Leukocytes from whole blood</td>\n",
       "      <td>Homo sapiens</td>\n",
       "      <td>9606</td>\n",
       "      <td>...</td>\n",
       "      <td>BioSample: https://www.ncbi.nlm.nih.gov/biosam...</td>\n",
       "      <td>NONE</td>\n",
       "      <td>GSE157103</td>\n",
       "      <td>0</td>\n",
       "      <td>NaN</td>\n",
       "      <td>NaN</td>\n",
       "      <td>NaN</td>\n",
       "      <td>NaN</td>\n",
       "      <td>NaN</td>\n",
       "      <td>NaN</td>\n",
       "    </tr>\n",
       "    <tr>\n",
       "      <th>GSM4753025</th>\n",
       "      <td>COVID_05_49y_male_NonICU</td>\n",
       "      <td>GSM4753025</td>\n",
       "      <td>Public on Aug 29 2020</td>\n",
       "      <td>Aug 28 2020</td>\n",
       "      <td>Aug 29 2020</td>\n",
       "      <td>SRA</td>\n",
       "      <td>1</td>\n",
       "      <td>Leukocytes from whole blood</td>\n",
       "      <td>Homo sapiens</td>\n",
       "      <td>9606</td>\n",
       "      <td>...</td>\n",
       "      <td>BioSample: https://www.ncbi.nlm.nih.gov/biosam...</td>\n",
       "      <td>NONE</td>\n",
       "      <td>GSE157103</td>\n",
       "      <td>0</td>\n",
       "      <td>NaN</td>\n",
       "      <td>NaN</td>\n",
       "      <td>NaN</td>\n",
       "      <td>NaN</td>\n",
       "      <td>NaN</td>\n",
       "      <td>NaN</td>\n",
       "    </tr>\n",
       "    <tr>\n",
       "      <th>GSM4753026</th>\n",
       "      <td>COVID_06_:y_male_NonICU</td>\n",
       "      <td>GSM4753026</td>\n",
       "      <td>Public on Aug 29 2020</td>\n",
       "      <td>Aug 28 2020</td>\n",
       "      <td>Aug 29 2020</td>\n",
       "      <td>SRA</td>\n",
       "      <td>1</td>\n",
       "      <td>Leukocytes from whole blood</td>\n",
       "      <td>Homo sapiens</td>\n",
       "      <td>9606</td>\n",
       "      <td>...</td>\n",
       "      <td>BioSample: https://www.ncbi.nlm.nih.gov/biosam...</td>\n",
       "      <td>NONE</td>\n",
       "      <td>GSE157103</td>\n",
       "      <td>0</td>\n",
       "      <td>NaN</td>\n",
       "      <td>NaN</td>\n",
       "      <td>NaN</td>\n",
       "      <td>NaN</td>\n",
       "      <td>NaN</td>\n",
       "      <td>NaN</td>\n",
       "    </tr>\n",
       "    <tr>\n",
       "      <th>GSM4753027</th>\n",
       "      <td>COVID_07_38y_female_NonICU</td>\n",
       "      <td>GSM4753027</td>\n",
       "      <td>Public on Aug 29 2020</td>\n",
       "      <td>Aug 28 2020</td>\n",
       "      <td>Aug 29 2020</td>\n",
       "      <td>SRA</td>\n",
       "      <td>1</td>\n",
       "      <td>Leukocytes from whole blood</td>\n",
       "      <td>Homo sapiens</td>\n",
       "      <td>9606</td>\n",
       "      <td>...</td>\n",
       "      <td>BioSample: https://www.ncbi.nlm.nih.gov/biosam...</td>\n",
       "      <td>NONE</td>\n",
       "      <td>GSE157103</td>\n",
       "      <td>0</td>\n",
       "      <td>NaN</td>\n",
       "      <td>NaN</td>\n",
       "      <td>NaN</td>\n",
       "      <td>NaN</td>\n",
       "      <td>NaN</td>\n",
       "      <td>NaN</td>\n",
       "    </tr>\n",
       "    <tr>\n",
       "      <th>GSM4753028</th>\n",
       "      <td>COVID_08_78y_male_ICU</td>\n",
       "      <td>GSM4753028</td>\n",
       "      <td>Public on Aug 29 2020</td>\n",
       "      <td>Aug 28 2020</td>\n",
       "      <td>Aug 29 2020</td>\n",
       "      <td>SRA</td>\n",
       "      <td>1</td>\n",
       "      <td>Leukocytes from whole blood</td>\n",
       "      <td>Homo sapiens</td>\n",
       "      <td>9606</td>\n",
       "      <td>...</td>\n",
       "      <td>BioSample: https://www.ncbi.nlm.nih.gov/biosam...</td>\n",
       "      <td>NONE</td>\n",
       "      <td>GSE157103</td>\n",
       "      <td>0</td>\n",
       "      <td>NaN</td>\n",
       "      <td>NaN</td>\n",
       "      <td>NaN</td>\n",
       "      <td>NaN</td>\n",
       "      <td>NaN</td>\n",
       "      <td>NaN</td>\n",
       "    </tr>\n",
       "    <tr>\n",
       "      <th>GSM4753029</th>\n",
       "      <td>COVID_09_64y_female_ICU</td>\n",
       "      <td>GSM4753029</td>\n",
       "      <td>Public on Aug 29 2020</td>\n",
       "      <td>Aug 28 2020</td>\n",
       "      <td>Aug 29 2020</td>\n",
       "      <td>SRA</td>\n",
       "      <td>1</td>\n",
       "      <td>Leukocytes from whole blood</td>\n",
       "      <td>Homo sapiens</td>\n",
       "      <td>9606</td>\n",
       "      <td>...</td>\n",
       "      <td>BioSample: https://www.ncbi.nlm.nih.gov/biosam...</td>\n",
       "      <td>NONE</td>\n",
       "      <td>GSE157103</td>\n",
       "      <td>0</td>\n",
       "      <td>NaN</td>\n",
       "      <td>NaN</td>\n",
       "      <td>NaN</td>\n",
       "      <td>NaN</td>\n",
       "      <td>NaN</td>\n",
       "      <td>NaN</td>\n",
       "    </tr>\n",
       "    <tr>\n",
       "      <th>GSM4753030</th>\n",
       "      <td>COVID_10_62y_male_ICU</td>\n",
       "      <td>GSM4753030</td>\n",
       "      <td>Public on Aug 29 2020</td>\n",
       "      <td>Aug 28 2020</td>\n",
       "      <td>Aug 29 2020</td>\n",
       "      <td>SRA</td>\n",
       "      <td>1</td>\n",
       "      <td>Leukocytes from whole blood</td>\n",
       "      <td>Homo sapiens</td>\n",
       "      <td>9606</td>\n",
       "      <td>...</td>\n",
       "      <td>BioSample: https://www.ncbi.nlm.nih.gov/biosam...</td>\n",
       "      <td>NONE</td>\n",
       "      <td>GSE157103</td>\n",
       "      <td>0</td>\n",
       "      <td>NaN</td>\n",
       "      <td>NaN</td>\n",
       "      <td>NaN</td>\n",
       "      <td>NaN</td>\n",
       "      <td>NaN</td>\n",
       "      <td>NaN</td>\n",
       "    </tr>\n",
       "    <tr>\n",
       "      <th>GSM4753031</th>\n",
       "      <td>COVID_11_52y_female_NonICU</td>\n",
       "      <td>GSM4753031</td>\n",
       "      <td>Public on Aug 29 2020</td>\n",
       "      <td>Aug 28 2020</td>\n",
       "      <td>Aug 29 2020</td>\n",
       "      <td>SRA</td>\n",
       "      <td>1</td>\n",
       "      <td>Leukocytes from whole blood</td>\n",
       "      <td>Homo sapiens</td>\n",
       "      <td>9606</td>\n",
       "      <td>...</td>\n",
       "      <td>BioSample: https://www.ncbi.nlm.nih.gov/biosam...</td>\n",
       "      <td>NONE</td>\n",
       "      <td>GSE157103</td>\n",
       "      <td>0</td>\n",
       "      <td>NaN</td>\n",
       "      <td>NaN</td>\n",
       "      <td>NaN</td>\n",
       "      <td>NaN</td>\n",
       "      <td>NaN</td>\n",
       "      <td>NaN</td>\n",
       "    </tr>\n",
       "    <tr>\n",
       "      <th>GSM4753032</th>\n",
       "      <td>COVID_12_50y_male_ICU</td>\n",
       "      <td>GSM4753032</td>\n",
       "      <td>Public on Aug 29 2020</td>\n",
       "      <td>Aug 28 2020</td>\n",
       "      <td>Aug 29 2020</td>\n",
       "      <td>SRA</td>\n",
       "      <td>1</td>\n",
       "      <td>Leukocytes from whole blood</td>\n",
       "      <td>Homo sapiens</td>\n",
       "      <td>9606</td>\n",
       "      <td>...</td>\n",
       "      <td>BioSample: https://www.ncbi.nlm.nih.gov/biosam...</td>\n",
       "      <td>NONE</td>\n",
       "      <td>GSE157103</td>\n",
       "      <td>0</td>\n",
       "      <td>NaN</td>\n",
       "      <td>NaN</td>\n",
       "      <td>NaN</td>\n",
       "      <td>NaN</td>\n",
       "      <td>NaN</td>\n",
       "      <td>NaN</td>\n",
       "    </tr>\n",
       "    <tr>\n",
       "      <th>GSM4753033</th>\n",
       "      <td>COVID_13_37y_male_NonICU</td>\n",
       "      <td>GSM4753033</td>\n",
       "      <td>Public on Aug 29 2020</td>\n",
       "      <td>Aug 28 2020</td>\n",
       "      <td>Aug 29 2020</td>\n",
       "      <td>SRA</td>\n",
       "      <td>1</td>\n",
       "      <td>Leukocytes from whole blood</td>\n",
       "      <td>Homo sapiens</td>\n",
       "      <td>9606</td>\n",
       "      <td>...</td>\n",
       "      <td>BioSample: https://www.ncbi.nlm.nih.gov/biosam...</td>\n",
       "      <td>NONE</td>\n",
       "      <td>GSE157103</td>\n",
       "      <td>0</td>\n",
       "      <td>NaN</td>\n",
       "      <td>NaN</td>\n",
       "      <td>NaN</td>\n",
       "      <td>NaN</td>\n",
       "      <td>NaN</td>\n",
       "      <td>NaN</td>\n",
       "    </tr>\n",
       "    <tr>\n",
       "      <th>GSM4753034</th>\n",
       "      <td>COVID_14_55y_male_ICU</td>\n",
       "      <td>GSM4753034</td>\n",
       "      <td>Public on Aug 29 2020</td>\n",
       "      <td>Aug 28 2020</td>\n",
       "      <td>Aug 29 2020</td>\n",
       "      <td>SRA</td>\n",
       "      <td>1</td>\n",
       "      <td>Leukocytes from whole blood</td>\n",
       "      <td>Homo sapiens</td>\n",
       "      <td>9606</td>\n",
       "      <td>...</td>\n",
       "      <td>BioSample: https://www.ncbi.nlm.nih.gov/biosam...</td>\n",
       "      <td>NONE</td>\n",
       "      <td>GSE157103</td>\n",
       "      <td>0</td>\n",
       "      <td>NaN</td>\n",
       "      <td>NaN</td>\n",
       "      <td>NaN</td>\n",
       "      <td>NaN</td>\n",
       "      <td>NaN</td>\n",
       "      <td>NaN</td>\n",
       "    </tr>\n",
       "    <tr>\n",
       "      <th>GSM4753035</th>\n",
       "      <td>COVID_15_68y_male_ICU</td>\n",
       "      <td>GSM4753035</td>\n",
       "      <td>Public on Aug 29 2020</td>\n",
       "      <td>Aug 28 2020</td>\n",
       "      <td>Aug 29 2020</td>\n",
       "      <td>SRA</td>\n",
       "      <td>1</td>\n",
       "      <td>Leukocytes from whole blood</td>\n",
       "      <td>Homo sapiens</td>\n",
       "      <td>9606</td>\n",
       "      <td>...</td>\n",
       "      <td>BioSample: https://www.ncbi.nlm.nih.gov/biosam...</td>\n",
       "      <td>NONE</td>\n",
       "      <td>GSE157103</td>\n",
       "      <td>0</td>\n",
       "      <td>NaN</td>\n",
       "      <td>NaN</td>\n",
       "      <td>NaN</td>\n",
       "      <td>NaN</td>\n",
       "      <td>NaN</td>\n",
       "      <td>NaN</td>\n",
       "    </tr>\n",
       "    <tr>\n",
       "      <th>GSM4753036</th>\n",
       "      <td>COVID_16_48y_male_NonICU</td>\n",
       "      <td>GSM4753036</td>\n",
       "      <td>Public on Aug 29 2020</td>\n",
       "      <td>Aug 28 2020</td>\n",
       "      <td>Aug 29 2020</td>\n",
       "      <td>SRA</td>\n",
       "      <td>1</td>\n",
       "      <td>Leukocytes from whole blood</td>\n",
       "      <td>Homo sapiens</td>\n",
       "      <td>9606</td>\n",
       "      <td>...</td>\n",
       "      <td>BioSample: https://www.ncbi.nlm.nih.gov/biosam...</td>\n",
       "      <td>NONE</td>\n",
       "      <td>GSE157103</td>\n",
       "      <td>0</td>\n",
       "      <td>NaN</td>\n",
       "      <td>NaN</td>\n",
       "      <td>NaN</td>\n",
       "      <td>NaN</td>\n",
       "      <td>NaN</td>\n",
       "      <td>NaN</td>\n",
       "    </tr>\n",
       "    <tr>\n",
       "      <th>GSM4753037</th>\n",
       "      <td>COVID_17_54y_male_NonICU</td>\n",
       "      <td>GSM4753037</td>\n",
       "      <td>Public on Aug 29 2020</td>\n",
       "      <td>Aug 28 2020</td>\n",
       "      <td>Aug 29 2020</td>\n",
       "      <td>SRA</td>\n",
       "      <td>1</td>\n",
       "      <td>Leukocytes from whole blood</td>\n",
       "      <td>Homo sapiens</td>\n",
       "      <td>9606</td>\n",
       "      <td>...</td>\n",
       "      <td>BioSample: https://www.ncbi.nlm.nih.gov/biosam...</td>\n",
       "      <td>NONE</td>\n",
       "      <td>GSE157103</td>\n",
       "      <td>0</td>\n",
       "      <td>NaN</td>\n",
       "      <td>NaN</td>\n",
       "      <td>NaN</td>\n",
       "      <td>NaN</td>\n",
       "      <td>NaN</td>\n",
       "      <td>NaN</td>\n",
       "    </tr>\n",
       "    <tr>\n",
       "      <th>GSM4753038</th>\n",
       "      <td>COVID_18_70y_female_NonICU</td>\n",
       "      <td>GSM4753038</td>\n",
       "      <td>Public on Aug 29 2020</td>\n",
       "      <td>Aug 28 2020</td>\n",
       "      <td>Aug 29 2020</td>\n",
       "      <td>SRA</td>\n",
       "      <td>1</td>\n",
       "      <td>Leukocytes from whole blood</td>\n",
       "      <td>Homo sapiens</td>\n",
       "      <td>9606</td>\n",
       "      <td>...</td>\n",
       "      <td>BioSample: https://www.ncbi.nlm.nih.gov/biosam...</td>\n",
       "      <td>NONE</td>\n",
       "      <td>GSE157103</td>\n",
       "      <td>0</td>\n",
       "      <td>NaN</td>\n",
       "      <td>NaN</td>\n",
       "      <td>NaN</td>\n",
       "      <td>NaN</td>\n",
       "      <td>NaN</td>\n",
       "      <td>NaN</td>\n",
       "    </tr>\n",
       "    <tr>\n",
       "      <th>GSM4753039</th>\n",
       "      <td>COVID_19_51y_male_NonICU</td>\n",
       "      <td>GSM4753039</td>\n",
       "      <td>Public on Aug 29 2020</td>\n",
       "      <td>Aug 28 2020</td>\n",
       "      <td>Aug 29 2020</td>\n",
       "      <td>SRA</td>\n",
       "      <td>1</td>\n",
       "      <td>Leukocytes from whole blood</td>\n",
       "      <td>Homo sapiens</td>\n",
       "      <td>9606</td>\n",
       "      <td>...</td>\n",
       "      <td>BioSample: https://www.ncbi.nlm.nih.gov/biosam...</td>\n",
       "      <td>NONE</td>\n",
       "      <td>GSE157103</td>\n",
       "      <td>0</td>\n",
       "      <td>NaN</td>\n",
       "      <td>NaN</td>\n",
       "      <td>NaN</td>\n",
       "      <td>NaN</td>\n",
       "      <td>NaN</td>\n",
       "      <td>NaN</td>\n",
       "    </tr>\n",
       "    <tr>\n",
       "      <th>GSM4753040</th>\n",
       "      <td>COVID_20_62y_male_ICU</td>\n",
       "      <td>GSM4753040</td>\n",
       "      <td>Public on Aug 29 2020</td>\n",
       "      <td>Aug 28 2020</td>\n",
       "      <td>Aug 29 2020</td>\n",
       "      <td>SRA</td>\n",
       "      <td>1</td>\n",
       "      <td>Leukocytes from whole blood</td>\n",
       "      <td>Homo sapiens</td>\n",
       "      <td>9606</td>\n",
       "      <td>...</td>\n",
       "      <td>BioSample: https://www.ncbi.nlm.nih.gov/biosam...</td>\n",
       "      <td>NONE</td>\n",
       "      <td>GSE157103</td>\n",
       "      <td>0</td>\n",
       "      <td>NaN</td>\n",
       "      <td>NaN</td>\n",
       "      <td>NaN</td>\n",
       "      <td>NaN</td>\n",
       "      <td>NaN</td>\n",
       "      <td>NaN</td>\n",
       "    </tr>\n",
       "    <tr>\n",
       "      <th>GSM4753041</th>\n",
       "      <td>COVID_21_66y_male_ICU</td>\n",
       "      <td>GSM4753041</td>\n",
       "      <td>Public on Aug 29 2020</td>\n",
       "      <td>Aug 28 2020</td>\n",
       "      <td>Aug 29 2020</td>\n",
       "      <td>SRA</td>\n",
       "      <td>1</td>\n",
       "      <td>Leukocytes from whole blood</td>\n",
       "      <td>Homo sapiens</td>\n",
       "      <td>9606</td>\n",
       "      <td>...</td>\n",
       "      <td>BioSample: https://www.ncbi.nlm.nih.gov/biosam...</td>\n",
       "      <td>NONE</td>\n",
       "      <td>GSE157103</td>\n",
       "      <td>0</td>\n",
       "      <td>NaN</td>\n",
       "      <td>NaN</td>\n",
       "      <td>NaN</td>\n",
       "      <td>NaN</td>\n",
       "      <td>NaN</td>\n",
       "      <td>NaN</td>\n",
       "    </tr>\n",
       "    <tr>\n",
       "      <th>GSM4753042</th>\n",
       "      <td>COVID_22_43y_male_ICU</td>\n",
       "      <td>GSM4753042</td>\n",
       "      <td>Public on Aug 29 2020</td>\n",
       "      <td>Aug 28 2020</td>\n",
       "      <td>Aug 29 2020</td>\n",
       "      <td>SRA</td>\n",
       "      <td>1</td>\n",
       "      <td>Leukocytes from whole blood</td>\n",
       "      <td>Homo sapiens</td>\n",
       "      <td>9606</td>\n",
       "      <td>...</td>\n",
       "      <td>BioSample: https://www.ncbi.nlm.nih.gov/biosam...</td>\n",
       "      <td>NONE</td>\n",
       "      <td>GSE157103</td>\n",
       "      <td>0</td>\n",
       "      <td>NaN</td>\n",
       "      <td>NaN</td>\n",
       "      <td>NaN</td>\n",
       "      <td>NaN</td>\n",
       "      <td>NaN</td>\n",
       "      <td>NaN</td>\n",
       "    </tr>\n",
       "    <tr>\n",
       "      <th>GSM4753043</th>\n",
       "      <td>COVID_23_76y_male_ICU</td>\n",
       "      <td>GSM4753043</td>\n",
       "      <td>Public on Aug 29 2020</td>\n",
       "      <td>Aug 28 2020</td>\n",
       "      <td>Aug 29 2020</td>\n",
       "      <td>SRA</td>\n",
       "      <td>1</td>\n",
       "      <td>Leukocytes from whole blood</td>\n",
       "      <td>Homo sapiens</td>\n",
       "      <td>9606</td>\n",
       "      <td>...</td>\n",
       "      <td>BioSample: https://www.ncbi.nlm.nih.gov/biosam...</td>\n",
       "      <td>NONE</td>\n",
       "      <td>GSE157103</td>\n",
       "      <td>0</td>\n",
       "      <td>NaN</td>\n",
       "      <td>NaN</td>\n",
       "      <td>NaN</td>\n",
       "      <td>NaN</td>\n",
       "      <td>NaN</td>\n",
       "      <td>NaN</td>\n",
       "    </tr>\n",
       "    <tr>\n",
       "      <th>GSM4753044</th>\n",
       "      <td>COVID_24_55y_male_ICU</td>\n",
       "      <td>GSM4753044</td>\n",
       "      <td>Public on Aug 29 2020</td>\n",
       "      <td>Aug 28 2020</td>\n",
       "      <td>Aug 29 2020</td>\n",
       "      <td>SRA</td>\n",
       "      <td>1</td>\n",
       "      <td>Leukocytes from whole blood</td>\n",
       "      <td>Homo sapiens</td>\n",
       "      <td>9606</td>\n",
       "      <td>...</td>\n",
       "      <td>BioSample: https://www.ncbi.nlm.nih.gov/biosam...</td>\n",
       "      <td>NONE</td>\n",
       "      <td>GSE157103</td>\n",
       "      <td>0</td>\n",
       "      <td>NaN</td>\n",
       "      <td>NaN</td>\n",
       "      <td>NaN</td>\n",
       "      <td>NaN</td>\n",
       "      <td>NaN</td>\n",
       "      <td>NaN</td>\n",
       "    </tr>\n",
       "    <tr>\n",
       "      <th>GSM4753045</th>\n",
       "      <td>COVID_25_55y_male_ICU</td>\n",
       "      <td>GSM4753045</td>\n",
       "      <td>Public on Aug 29 2020</td>\n",
       "      <td>Aug 28 2020</td>\n",
       "      <td>Aug 29 2020</td>\n",
       "      <td>SRA</td>\n",
       "      <td>1</td>\n",
       "      <td>Leukocytes from whole blood</td>\n",
       "      <td>Homo sapiens</td>\n",
       "      <td>9606</td>\n",
       "      <td>...</td>\n",
       "      <td>BioSample: https://www.ncbi.nlm.nih.gov/biosam...</td>\n",
       "      <td>NONE</td>\n",
       "      <td>GSE157103</td>\n",
       "      <td>0</td>\n",
       "      <td>NaN</td>\n",
       "      <td>NaN</td>\n",
       "      <td>NaN</td>\n",
       "      <td>NaN</td>\n",
       "      <td>NaN</td>\n",
       "      <td>NaN</td>\n",
       "    </tr>\n",
       "    <tr>\n",
       "      <th>GSM4753046</th>\n",
       "      <td>COVID_26_41y_female_ICU</td>\n",
       "      <td>GSM4753046</td>\n",
       "      <td>Public on Aug 29 2020</td>\n",
       "      <td>Aug 28 2020</td>\n",
       "      <td>Aug 29 2020</td>\n",
       "      <td>SRA</td>\n",
       "      <td>1</td>\n",
       "      <td>Leukocytes from whole blood</td>\n",
       "      <td>Homo sapiens</td>\n",
       "      <td>9606</td>\n",
       "      <td>...</td>\n",
       "      <td>BioSample: https://www.ncbi.nlm.nih.gov/biosam...</td>\n",
       "      <td>NONE</td>\n",
       "      <td>GSE157103</td>\n",
       "      <td>0</td>\n",
       "      <td>NaN</td>\n",
       "      <td>NaN</td>\n",
       "      <td>NaN</td>\n",
       "      <td>NaN</td>\n",
       "      <td>NaN</td>\n",
       "      <td>NaN</td>\n",
       "    </tr>\n",
       "    <tr>\n",
       "      <th>GSM4753047</th>\n",
       "      <td>COVID_27_71y_female_ICU</td>\n",
       "      <td>GSM4753047</td>\n",
       "      <td>Public on Aug 29 2020</td>\n",
       "      <td>Aug 28 2020</td>\n",
       "      <td>Aug 29 2020</td>\n",
       "      <td>SRA</td>\n",
       "      <td>1</td>\n",
       "      <td>Leukocytes from whole blood</td>\n",
       "      <td>Homo sapiens</td>\n",
       "      <td>9606</td>\n",
       "      <td>...</td>\n",
       "      <td>BioSample: https://www.ncbi.nlm.nih.gov/biosam...</td>\n",
       "      <td>NONE</td>\n",
       "      <td>GSE157103</td>\n",
       "      <td>0</td>\n",
       "      <td>NaN</td>\n",
       "      <td>NaN</td>\n",
       "      <td>NaN</td>\n",
       "      <td>NaN</td>\n",
       "      <td>NaN</td>\n",
       "      <td>NaN</td>\n",
       "    </tr>\n",
       "    <tr>\n",
       "      <th>GSM4753048</th>\n",
       "      <td>COVID_28_63y_male_ICU</td>\n",
       "      <td>GSM4753048</td>\n",
       "      <td>Public on Aug 29 2020</td>\n",
       "      <td>Aug 28 2020</td>\n",
       "      <td>Aug 29 2020</td>\n",
       "      <td>SRA</td>\n",
       "      <td>1</td>\n",
       "      <td>Leukocytes from whole blood</td>\n",
       "      <td>Homo sapiens</td>\n",
       "      <td>9606</td>\n",
       "      <td>...</td>\n",
       "      <td>BioSample: https://www.ncbi.nlm.nih.gov/biosam...</td>\n",
       "      <td>NONE</td>\n",
       "      <td>GSE157103</td>\n",
       "      <td>0</td>\n",
       "      <td>NaN</td>\n",
       "      <td>NaN</td>\n",
       "      <td>NaN</td>\n",
       "      <td>NaN</td>\n",
       "      <td>NaN</td>\n",
       "      <td>NaN</td>\n",
       "    </tr>\n",
       "    <tr>\n",
       "      <th>GSM4753049</th>\n",
       "      <td>COVID_29_63y_female_ICU</td>\n",
       "      <td>GSM4753049</td>\n",
       "      <td>Public on Aug 29 2020</td>\n",
       "      <td>Aug 28 2020</td>\n",
       "      <td>Aug 29 2020</td>\n",
       "      <td>SRA</td>\n",
       "      <td>1</td>\n",
       "      <td>Leukocytes from whole blood</td>\n",
       "      <td>Homo sapiens</td>\n",
       "      <td>9606</td>\n",
       "      <td>...</td>\n",
       "      <td>BioSample: https://www.ncbi.nlm.nih.gov/biosam...</td>\n",
       "      <td>NONE</td>\n",
       "      <td>GSE157103</td>\n",
       "      <td>0</td>\n",
       "      <td>NaN</td>\n",
       "      <td>NaN</td>\n",
       "      <td>NaN</td>\n",
       "      <td>NaN</td>\n",
       "      <td>NaN</td>\n",
       "      <td>NaN</td>\n",
       "    </tr>\n",
       "    <tr>\n",
       "      <th>GSM4753050</th>\n",
       "      <td>COVID_30_54y_male_ICU</td>\n",
       "      <td>GSM4753050</td>\n",
       "      <td>Public on Aug 29 2020</td>\n",
       "      <td>Aug 28 2020</td>\n",
       "      <td>Aug 29 2020</td>\n",
       "      <td>SRA</td>\n",
       "      <td>1</td>\n",
       "      <td>Leukocytes from whole blood</td>\n",
       "      <td>Homo sapiens</td>\n",
       "      <td>9606</td>\n",
       "      <td>...</td>\n",
       "      <td>BioSample: https://www.ncbi.nlm.nih.gov/biosam...</td>\n",
       "      <td>NONE</td>\n",
       "      <td>GSE157103</td>\n",
       "      <td>0</td>\n",
       "      <td>NaN</td>\n",
       "      <td>NaN</td>\n",
       "      <td>NaN</td>\n",
       "      <td>NaN</td>\n",
       "      <td>NaN</td>\n",
       "      <td>NaN</td>\n",
       "    </tr>\n",
       "    <tr>\n",
       "      <th>GSM4753051</th>\n",
       "      <td>COVID_31_50y_male_ICU</td>\n",
       "      <td>GSM4753051</td>\n",
       "      <td>Public on Aug 29 2020</td>\n",
       "      <td>Aug 28 2020</td>\n",
       "      <td>Aug 29 2020</td>\n",
       "      <td>SRA</td>\n",
       "      <td>1</td>\n",
       "      <td>Leukocytes from whole blood</td>\n",
       "      <td>Homo sapiens</td>\n",
       "      <td>9606</td>\n",
       "      <td>...</td>\n",
       "      <td>BioSample: https://www.ncbi.nlm.nih.gov/biosam...</td>\n",
       "      <td>NONE</td>\n",
       "      <td>GSE157103</td>\n",
       "      <td>0</td>\n",
       "      <td>NaN</td>\n",
       "      <td>NaN</td>\n",
       "      <td>NaN</td>\n",
       "      <td>NaN</td>\n",
       "      <td>NaN</td>\n",
       "      <td>NaN</td>\n",
       "    </tr>\n",
       "    <tr>\n",
       "      <th>GSM4753052</th>\n",
       "      <td>COVID_32_72y_male_ICU</td>\n",
       "      <td>GSM4753052</td>\n",
       "      <td>Public on Aug 29 2020</td>\n",
       "      <td>Aug 28 2020</td>\n",
       "      <td>Aug 29 2020</td>\n",
       "      <td>SRA</td>\n",
       "      <td>1</td>\n",
       "      <td>Leukocytes from whole blood</td>\n",
       "      <td>Homo sapiens</td>\n",
       "      <td>9606</td>\n",
       "      <td>...</td>\n",
       "      <td>BioSample: https://www.ncbi.nlm.nih.gov/biosam...</td>\n",
       "      <td>NONE</td>\n",
       "      <td>GSE157103</td>\n",
       "      <td>0</td>\n",
       "      <td>NaN</td>\n",
       "      <td>NaN</td>\n",
       "      <td>NaN</td>\n",
       "      <td>NaN</td>\n",
       "      <td>NaN</td>\n",
       "      <td>NaN</td>\n",
       "    </tr>\n",
       "    <tr>\n",
       "      <th>GSM4753053</th>\n",
       "      <td>COVID_33_81y_male_NonICU</td>\n",
       "      <td>GSM4753053</td>\n",
       "      <td>Public on Aug 29 2020</td>\n",
       "      <td>Aug 28 2020</td>\n",
       "      <td>Aug 29 2020</td>\n",
       "      <td>SRA</td>\n",
       "      <td>1</td>\n",
       "      <td>Leukocytes from whole blood</td>\n",
       "      <td>Homo sapiens</td>\n",
       "      <td>9606</td>\n",
       "      <td>...</td>\n",
       "      <td>BioSample: https://www.ncbi.nlm.nih.gov/biosam...</td>\n",
       "      <td>NONE</td>\n",
       "      <td>GSE157103</td>\n",
       "      <td>0</td>\n",
       "      <td>NaN</td>\n",
       "      <td>NaN</td>\n",
       "      <td>NaN</td>\n",
       "      <td>NaN</td>\n",
       "      <td>NaN</td>\n",
       "      <td>NaN</td>\n",
       "    </tr>\n",
       "    <tr>\n",
       "      <th>GSM4753054</th>\n",
       "      <td>COVID_34_64y_female_NonICU</td>\n",
       "      <td>GSM4753054</td>\n",
       "      <td>Public on Aug 29 2020</td>\n",
       "      <td>Aug 28 2020</td>\n",
       "      <td>Aug 29 2020</td>\n",
       "      <td>SRA</td>\n",
       "      <td>1</td>\n",
       "      <td>Leukocytes from whole blood</td>\n",
       "      <td>Homo sapiens</td>\n",
       "      <td>9606</td>\n",
       "      <td>...</td>\n",
       "      <td>BioSample: https://www.ncbi.nlm.nih.gov/biosam...</td>\n",
       "      <td>NONE</td>\n",
       "      <td>GSE157103</td>\n",
       "      <td>0</td>\n",
       "      <td>NaN</td>\n",
       "      <td>NaN</td>\n",
       "      <td>NaN</td>\n",
       "      <td>NaN</td>\n",
       "      <td>NaN</td>\n",
       "      <td>NaN</td>\n",
       "    </tr>\n",
       "    <tr>\n",
       "      <th>GSM4753055</th>\n",
       "      <td>COVID_35_58y_female_NonICU</td>\n",
       "      <td>GSM4753055</td>\n",
       "      <td>Public on Aug 29 2020</td>\n",
       "      <td>Aug 28 2020</td>\n",
       "      <td>Aug 29 2020</td>\n",
       "      <td>SRA</td>\n",
       "      <td>1</td>\n",
       "      <td>Leukocytes from whole blood</td>\n",
       "      <td>Homo sapiens</td>\n",
       "      <td>9606</td>\n",
       "      <td>...</td>\n",
       "      <td>BioSample: https://www.ncbi.nlm.nih.gov/biosam...</td>\n",
       "      <td>NONE</td>\n",
       "      <td>GSE157103</td>\n",
       "      <td>0</td>\n",
       "      <td>NaN</td>\n",
       "      <td>NaN</td>\n",
       "      <td>NaN</td>\n",
       "      <td>NaN</td>\n",
       "      <td>NaN</td>\n",
       "      <td>NaN</td>\n",
       "    </tr>\n",
       "  </tbody>\n",
       "</table>\n",
       "<p>35 rows × 61 columns</p>\n",
       "</div>"
      ],
      "text/plain": [
       "                                 title geo_accession                 status  \\\n",
       "GSM4753021    COVID_01_39y_male_NonICU    GSM4753021  Public on Aug 29 2020   \n",
       "GSM4753022    COVID_02_63y_male_NonICU    GSM4753022  Public on Aug 29 2020   \n",
       "GSM4753023    COVID_03_33y_male_NonICU    GSM4753023  Public on Aug 29 2020   \n",
       "GSM4753024    COVID_04_49y_male_NonICU    GSM4753024  Public on Aug 29 2020   \n",
       "GSM4753025    COVID_05_49y_male_NonICU    GSM4753025  Public on Aug 29 2020   \n",
       "GSM4753026     COVID_06_:y_male_NonICU    GSM4753026  Public on Aug 29 2020   \n",
       "GSM4753027  COVID_07_38y_female_NonICU    GSM4753027  Public on Aug 29 2020   \n",
       "GSM4753028       COVID_08_78y_male_ICU    GSM4753028  Public on Aug 29 2020   \n",
       "GSM4753029     COVID_09_64y_female_ICU    GSM4753029  Public on Aug 29 2020   \n",
       "GSM4753030       COVID_10_62y_male_ICU    GSM4753030  Public on Aug 29 2020   \n",
       "GSM4753031  COVID_11_52y_female_NonICU    GSM4753031  Public on Aug 29 2020   \n",
       "GSM4753032       COVID_12_50y_male_ICU    GSM4753032  Public on Aug 29 2020   \n",
       "GSM4753033    COVID_13_37y_male_NonICU    GSM4753033  Public on Aug 29 2020   \n",
       "GSM4753034       COVID_14_55y_male_ICU    GSM4753034  Public on Aug 29 2020   \n",
       "GSM4753035       COVID_15_68y_male_ICU    GSM4753035  Public on Aug 29 2020   \n",
       "GSM4753036    COVID_16_48y_male_NonICU    GSM4753036  Public on Aug 29 2020   \n",
       "GSM4753037    COVID_17_54y_male_NonICU    GSM4753037  Public on Aug 29 2020   \n",
       "GSM4753038  COVID_18_70y_female_NonICU    GSM4753038  Public on Aug 29 2020   \n",
       "GSM4753039    COVID_19_51y_male_NonICU    GSM4753039  Public on Aug 29 2020   \n",
       "GSM4753040       COVID_20_62y_male_ICU    GSM4753040  Public on Aug 29 2020   \n",
       "GSM4753041       COVID_21_66y_male_ICU    GSM4753041  Public on Aug 29 2020   \n",
       "GSM4753042       COVID_22_43y_male_ICU    GSM4753042  Public on Aug 29 2020   \n",
       "GSM4753043       COVID_23_76y_male_ICU    GSM4753043  Public on Aug 29 2020   \n",
       "GSM4753044       COVID_24_55y_male_ICU    GSM4753044  Public on Aug 29 2020   \n",
       "GSM4753045       COVID_25_55y_male_ICU    GSM4753045  Public on Aug 29 2020   \n",
       "GSM4753046     COVID_26_41y_female_ICU    GSM4753046  Public on Aug 29 2020   \n",
       "GSM4753047     COVID_27_71y_female_ICU    GSM4753047  Public on Aug 29 2020   \n",
       "GSM4753048       COVID_28_63y_male_ICU    GSM4753048  Public on Aug 29 2020   \n",
       "GSM4753049     COVID_29_63y_female_ICU    GSM4753049  Public on Aug 29 2020   \n",
       "GSM4753050       COVID_30_54y_male_ICU    GSM4753050  Public on Aug 29 2020   \n",
       "GSM4753051       COVID_31_50y_male_ICU    GSM4753051  Public on Aug 29 2020   \n",
       "GSM4753052       COVID_32_72y_male_ICU    GSM4753052  Public on Aug 29 2020   \n",
       "GSM4753053    COVID_33_81y_male_NonICU    GSM4753053  Public on Aug 29 2020   \n",
       "GSM4753054  COVID_34_64y_female_NonICU    GSM4753054  Public on Aug 29 2020   \n",
       "GSM4753055  COVID_35_58y_female_NonICU    GSM4753055  Public on Aug 29 2020   \n",
       "\n",
       "           submission_date last_update_date type channel_count  \\\n",
       "GSM4753021     Aug 28 2020      Aug 29 2020  SRA             1   \n",
       "GSM4753022     Aug 28 2020      Aug 29 2020  SRA             1   \n",
       "GSM4753023     Aug 28 2020      Aug 29 2020  SRA             1   \n",
       "GSM4753024     Aug 28 2020      Aug 29 2020  SRA             1   \n",
       "GSM4753025     Aug 28 2020      Aug 29 2020  SRA             1   \n",
       "GSM4753026     Aug 28 2020      Aug 29 2020  SRA             1   \n",
       "GSM4753027     Aug 28 2020      Aug 29 2020  SRA             1   \n",
       "GSM4753028     Aug 28 2020      Aug 29 2020  SRA             1   \n",
       "GSM4753029     Aug 28 2020      Aug 29 2020  SRA             1   \n",
       "GSM4753030     Aug 28 2020      Aug 29 2020  SRA             1   \n",
       "GSM4753031     Aug 28 2020      Aug 29 2020  SRA             1   \n",
       "GSM4753032     Aug 28 2020      Aug 29 2020  SRA             1   \n",
       "GSM4753033     Aug 28 2020      Aug 29 2020  SRA             1   \n",
       "GSM4753034     Aug 28 2020      Aug 29 2020  SRA             1   \n",
       "GSM4753035     Aug 28 2020      Aug 29 2020  SRA             1   \n",
       "GSM4753036     Aug 28 2020      Aug 29 2020  SRA             1   \n",
       "GSM4753037     Aug 28 2020      Aug 29 2020  SRA             1   \n",
       "GSM4753038     Aug 28 2020      Aug 29 2020  SRA             1   \n",
       "GSM4753039     Aug 28 2020      Aug 29 2020  SRA             1   \n",
       "GSM4753040     Aug 28 2020      Aug 29 2020  SRA             1   \n",
       "GSM4753041     Aug 28 2020      Aug 29 2020  SRA             1   \n",
       "GSM4753042     Aug 28 2020      Aug 29 2020  SRA             1   \n",
       "GSM4753043     Aug 28 2020      Aug 29 2020  SRA             1   \n",
       "GSM4753044     Aug 28 2020      Aug 29 2020  SRA             1   \n",
       "GSM4753045     Aug 28 2020      Aug 29 2020  SRA             1   \n",
       "GSM4753046     Aug 28 2020      Aug 29 2020  SRA             1   \n",
       "GSM4753047     Aug 28 2020      Aug 29 2020  SRA             1   \n",
       "GSM4753048     Aug 28 2020      Aug 29 2020  SRA             1   \n",
       "GSM4753049     Aug 28 2020      Aug 29 2020  SRA             1   \n",
       "GSM4753050     Aug 28 2020      Aug 29 2020  SRA             1   \n",
       "GSM4753051     Aug 28 2020      Aug 29 2020  SRA             1   \n",
       "GSM4753052     Aug 28 2020      Aug 29 2020  SRA             1   \n",
       "GSM4753053     Aug 28 2020      Aug 29 2020  SRA             1   \n",
       "GSM4753054     Aug 28 2020      Aug 29 2020  SRA             1   \n",
       "GSM4753055     Aug 28 2020      Aug 29 2020  SRA             1   \n",
       "\n",
       "                        source_name_ch1  organism_ch1 taxid_ch1  ...  \\\n",
       "GSM4753021  Leukocytes from whole blood  Homo sapiens      9606  ...   \n",
       "GSM4753022  Leukocytes from whole blood  Homo sapiens      9606  ...   \n",
       "GSM4753023  Leukocytes from whole blood  Homo sapiens      9606  ...   \n",
       "GSM4753024  Leukocytes from whole blood  Homo sapiens      9606  ...   \n",
       "GSM4753025  Leukocytes from whole blood  Homo sapiens      9606  ...   \n",
       "GSM4753026  Leukocytes from whole blood  Homo sapiens      9606  ...   \n",
       "GSM4753027  Leukocytes from whole blood  Homo sapiens      9606  ...   \n",
       "GSM4753028  Leukocytes from whole blood  Homo sapiens      9606  ...   \n",
       "GSM4753029  Leukocytes from whole blood  Homo sapiens      9606  ...   \n",
       "GSM4753030  Leukocytes from whole blood  Homo sapiens      9606  ...   \n",
       "GSM4753031  Leukocytes from whole blood  Homo sapiens      9606  ...   \n",
       "GSM4753032  Leukocytes from whole blood  Homo sapiens      9606  ...   \n",
       "GSM4753033  Leukocytes from whole blood  Homo sapiens      9606  ...   \n",
       "GSM4753034  Leukocytes from whole blood  Homo sapiens      9606  ...   \n",
       "GSM4753035  Leukocytes from whole blood  Homo sapiens      9606  ...   \n",
       "GSM4753036  Leukocytes from whole blood  Homo sapiens      9606  ...   \n",
       "GSM4753037  Leukocytes from whole blood  Homo sapiens      9606  ...   \n",
       "GSM4753038  Leukocytes from whole blood  Homo sapiens      9606  ...   \n",
       "GSM4753039  Leukocytes from whole blood  Homo sapiens      9606  ...   \n",
       "GSM4753040  Leukocytes from whole blood  Homo sapiens      9606  ...   \n",
       "GSM4753041  Leukocytes from whole blood  Homo sapiens      9606  ...   \n",
       "GSM4753042  Leukocytes from whole blood  Homo sapiens      9606  ...   \n",
       "GSM4753043  Leukocytes from whole blood  Homo sapiens      9606  ...   \n",
       "GSM4753044  Leukocytes from whole blood  Homo sapiens      9606  ...   \n",
       "GSM4753045  Leukocytes from whole blood  Homo sapiens      9606  ...   \n",
       "GSM4753046  Leukocytes from whole blood  Homo sapiens      9606  ...   \n",
       "GSM4753047  Leukocytes from whole blood  Homo sapiens      9606  ...   \n",
       "GSM4753048  Leukocytes from whole blood  Homo sapiens      9606  ...   \n",
       "GSM4753049  Leukocytes from whole blood  Homo sapiens      9606  ...   \n",
       "GSM4753050  Leukocytes from whole blood  Homo sapiens      9606  ...   \n",
       "GSM4753051  Leukocytes from whole blood  Homo sapiens      9606  ...   \n",
       "GSM4753052  Leukocytes from whole blood  Homo sapiens      9606  ...   \n",
       "GSM4753053  Leukocytes from whole blood  Homo sapiens      9606  ...   \n",
       "GSM4753054  Leukocytes from whole blood  Homo sapiens      9606  ...   \n",
       "GSM4753055  Leukocytes from whole blood  Homo sapiens      9606  ...   \n",
       "\n",
       "                                                     relation  \\\n",
       "GSM4753021  BioSample: https://www.ncbi.nlm.nih.gov/biosam...   \n",
       "GSM4753022  BioSample: https://www.ncbi.nlm.nih.gov/biosam...   \n",
       "GSM4753023  BioSample: https://www.ncbi.nlm.nih.gov/biosam...   \n",
       "GSM4753024  BioSample: https://www.ncbi.nlm.nih.gov/biosam...   \n",
       "GSM4753025  BioSample: https://www.ncbi.nlm.nih.gov/biosam...   \n",
       "GSM4753026  BioSample: https://www.ncbi.nlm.nih.gov/biosam...   \n",
       "GSM4753027  BioSample: https://www.ncbi.nlm.nih.gov/biosam...   \n",
       "GSM4753028  BioSample: https://www.ncbi.nlm.nih.gov/biosam...   \n",
       "GSM4753029  BioSample: https://www.ncbi.nlm.nih.gov/biosam...   \n",
       "GSM4753030  BioSample: https://www.ncbi.nlm.nih.gov/biosam...   \n",
       "GSM4753031  BioSample: https://www.ncbi.nlm.nih.gov/biosam...   \n",
       "GSM4753032  BioSample: https://www.ncbi.nlm.nih.gov/biosam...   \n",
       "GSM4753033  BioSample: https://www.ncbi.nlm.nih.gov/biosam...   \n",
       "GSM4753034  BioSample: https://www.ncbi.nlm.nih.gov/biosam...   \n",
       "GSM4753035  BioSample: https://www.ncbi.nlm.nih.gov/biosam...   \n",
       "GSM4753036  BioSample: https://www.ncbi.nlm.nih.gov/biosam...   \n",
       "GSM4753037  BioSample: https://www.ncbi.nlm.nih.gov/biosam...   \n",
       "GSM4753038  BioSample: https://www.ncbi.nlm.nih.gov/biosam...   \n",
       "GSM4753039  BioSample: https://www.ncbi.nlm.nih.gov/biosam...   \n",
       "GSM4753040  BioSample: https://www.ncbi.nlm.nih.gov/biosam...   \n",
       "GSM4753041  BioSample: https://www.ncbi.nlm.nih.gov/biosam...   \n",
       "GSM4753042  BioSample: https://www.ncbi.nlm.nih.gov/biosam...   \n",
       "GSM4753043  BioSample: https://www.ncbi.nlm.nih.gov/biosam...   \n",
       "GSM4753044  BioSample: https://www.ncbi.nlm.nih.gov/biosam...   \n",
       "GSM4753045  BioSample: https://www.ncbi.nlm.nih.gov/biosam...   \n",
       "GSM4753046  BioSample: https://www.ncbi.nlm.nih.gov/biosam...   \n",
       "GSM4753047  BioSample: https://www.ncbi.nlm.nih.gov/biosam...   \n",
       "GSM4753048  BioSample: https://www.ncbi.nlm.nih.gov/biosam...   \n",
       "GSM4753049  BioSample: https://www.ncbi.nlm.nih.gov/biosam...   \n",
       "GSM4753050  BioSample: https://www.ncbi.nlm.nih.gov/biosam...   \n",
       "GSM4753051  BioSample: https://www.ncbi.nlm.nih.gov/biosam...   \n",
       "GSM4753052  BioSample: https://www.ncbi.nlm.nih.gov/biosam...   \n",
       "GSM4753053  BioSample: https://www.ncbi.nlm.nih.gov/biosam...   \n",
       "GSM4753054  BioSample: https://www.ncbi.nlm.nih.gov/biosam...   \n",
       "GSM4753055  BioSample: https://www.ncbi.nlm.nih.gov/biosam...   \n",
       "\n",
       "           supplementary_file_1  series_id data_row_count  \\\n",
       "GSM4753021                 NONE  GSE157103              0   \n",
       "GSM4753022                 NONE  GSE157103              0   \n",
       "GSM4753023                 NONE  GSE157103              0   \n",
       "GSM4753024                 NONE  GSE157103              0   \n",
       "GSM4753025                 NONE  GSE157103              0   \n",
       "GSM4753026                 NONE  GSE157103              0   \n",
       "GSM4753027                 NONE  GSE157103              0   \n",
       "GSM4753028                 NONE  GSE157103              0   \n",
       "GSM4753029                 NONE  GSE157103              0   \n",
       "GSM4753030                 NONE  GSE157103              0   \n",
       "GSM4753031                 NONE  GSE157103              0   \n",
       "GSM4753032                 NONE  GSE157103              0   \n",
       "GSM4753033                 NONE  GSE157103              0   \n",
       "GSM4753034                 NONE  GSE157103              0   \n",
       "GSM4753035                 NONE  GSE157103              0   \n",
       "GSM4753036                 NONE  GSE157103              0   \n",
       "GSM4753037                 NONE  GSE157103              0   \n",
       "GSM4753038                 NONE  GSE157103              0   \n",
       "GSM4753039                 NONE  GSE157103              0   \n",
       "GSM4753040                 NONE  GSE157103              0   \n",
       "GSM4753041                 NONE  GSE157103              0   \n",
       "GSM4753042                 NONE  GSE157103              0   \n",
       "GSM4753043                 NONE  GSE157103              0   \n",
       "GSM4753044                 NONE  GSE157103              0   \n",
       "GSM4753045                 NONE  GSE157103              0   \n",
       "GSM4753046                 NONE  GSE157103              0   \n",
       "GSM4753047                 NONE  GSE157103              0   \n",
       "GSM4753048                 NONE  GSE157103              0   \n",
       "GSM4753049                 NONE  GSE157103              0   \n",
       "GSM4753050                 NONE  GSE157103              0   \n",
       "GSM4753051                 NONE  GSE157103              0   \n",
       "GSM4753052                 NONE  GSE157103              0   \n",
       "GSM4753053                 NONE  GSE157103              0   \n",
       "GSM4753054                 NONE  GSE157103              0   \n",
       "GSM4753055                 NONE  GSE157103              0   \n",
       "\n",
       "           characteristics_ch1.14.fibrinogen characteristics_ch1.15.sofa  \\\n",
       "GSM4753021                               NaN                         NaN   \n",
       "GSM4753022                               NaN                         NaN   \n",
       "GSM4753023                               NaN                         NaN   \n",
       "GSM4753024                               NaN                         NaN   \n",
       "GSM4753025                               NaN                         NaN   \n",
       "GSM4753026                               NaN                         NaN   \n",
       "GSM4753027                               NaN                         NaN   \n",
       "GSM4753028                               NaN                         NaN   \n",
       "GSM4753029                               NaN                         NaN   \n",
       "GSM4753030                               NaN                         NaN   \n",
       "GSM4753031                               NaN                         NaN   \n",
       "GSM4753032                               NaN                         NaN   \n",
       "GSM4753033                               NaN                         NaN   \n",
       "GSM4753034                               NaN                         NaN   \n",
       "GSM4753035                               NaN                         NaN   \n",
       "GSM4753036                               NaN                         NaN   \n",
       "GSM4753037                               NaN                         NaN   \n",
       "GSM4753038                               NaN                         NaN   \n",
       "GSM4753039                               NaN                         NaN   \n",
       "GSM4753040                               NaN                         NaN   \n",
       "GSM4753041                               NaN                         NaN   \n",
       "GSM4753042                               NaN                         NaN   \n",
       "GSM4753043                               NaN                         NaN   \n",
       "GSM4753044                               NaN                         NaN   \n",
       "GSM4753045                               NaN                         NaN   \n",
       "GSM4753046                               NaN                         NaN   \n",
       "GSM4753047                               NaN                         NaN   \n",
       "GSM4753048                               NaN                         NaN   \n",
       "GSM4753049                               NaN                         NaN   \n",
       "GSM4753050                               NaN                         NaN   \n",
       "GSM4753051                               NaN                         NaN   \n",
       "GSM4753052                               NaN                         NaN   \n",
       "GSM4753053                               NaN                         NaN   \n",
       "GSM4753054                               NaN                         NaN   \n",
       "GSM4753055                               NaN                         NaN   \n",
       "\n",
       "           characteristics_ch1.16.associated controlled-vocabulary terms  \\\n",
       "GSM4753021                                                NaN              \n",
       "GSM4753022                                                NaN              \n",
       "GSM4753023                                                NaN              \n",
       "GSM4753024                                                NaN              \n",
       "GSM4753025                                                NaN              \n",
       "GSM4753026                                                NaN              \n",
       "GSM4753027                                                NaN              \n",
       "GSM4753028                                                NaN              \n",
       "GSM4753029                                                NaN              \n",
       "GSM4753030                                                NaN              \n",
       "GSM4753031                                                NaN              \n",
       "GSM4753032                                                NaN              \n",
       "GSM4753033                                                NaN              \n",
       "GSM4753034                                                NaN              \n",
       "GSM4753035                                                NaN              \n",
       "GSM4753036                                                NaN              \n",
       "GSM4753037                                                NaN              \n",
       "GSM4753038                                                NaN              \n",
       "GSM4753039                                                NaN              \n",
       "GSM4753040                                                NaN              \n",
       "GSM4753041                                                NaN              \n",
       "GSM4753042                                                NaN              \n",
       "GSM4753043                                                NaN              \n",
       "GSM4753044                                                NaN              \n",
       "GSM4753045                                                NaN              \n",
       "GSM4753046                                                NaN              \n",
       "GSM4753047                                                NaN              \n",
       "GSM4753048                                                NaN              \n",
       "GSM4753049                                                NaN              \n",
       "GSM4753050                                                NaN              \n",
       "GSM4753051                                                NaN              \n",
       "GSM4753052                                                NaN              \n",
       "GSM4753053                                                NaN              \n",
       "GSM4753054                                                NaN              \n",
       "GSM4753055                                                NaN              \n",
       "\n",
       "           characteristics_ch1.17.cell type  \\\n",
       "GSM4753021                              NaN   \n",
       "GSM4753022                              NaN   \n",
       "GSM4753023                              NaN   \n",
       "GSM4753024                              NaN   \n",
       "GSM4753025                              NaN   \n",
       "GSM4753026                              NaN   \n",
       "GSM4753027                              NaN   \n",
       "GSM4753028                              NaN   \n",
       "GSM4753029                              NaN   \n",
       "GSM4753030                              NaN   \n",
       "GSM4753031                              NaN   \n",
       "GSM4753032                              NaN   \n",
       "GSM4753033                              NaN   \n",
       "GSM4753034                              NaN   \n",
       "GSM4753035                              NaN   \n",
       "GSM4753036                              NaN   \n",
       "GSM4753037                              NaN   \n",
       "GSM4753038                              NaN   \n",
       "GSM4753039                              NaN   \n",
       "GSM4753040                              NaN   \n",
       "GSM4753041                              NaN   \n",
       "GSM4753042                              NaN   \n",
       "GSM4753043                              NaN   \n",
       "GSM4753044                              NaN   \n",
       "GSM4753045                              NaN   \n",
       "GSM4753046                              NaN   \n",
       "GSM4753047                              NaN   \n",
       "GSM4753048                              NaN   \n",
       "GSM4753049                              NaN   \n",
       "GSM4753050                              NaN   \n",
       "GSM4753051                              NaN   \n",
       "GSM4753052                              NaN   \n",
       "GSM4753053                              NaN   \n",
       "GSM4753054                              NaN   \n",
       "GSM4753055                              NaN   \n",
       "\n",
       "           characteristics_ch1.18.tissue of origin  \\\n",
       "GSM4753021                                     NaN   \n",
       "GSM4753022                                     NaN   \n",
       "GSM4753023                                     NaN   \n",
       "GSM4753024                                     NaN   \n",
       "GSM4753025                                     NaN   \n",
       "GSM4753026                                     NaN   \n",
       "GSM4753027                                     NaN   \n",
       "GSM4753028                                     NaN   \n",
       "GSM4753029                                     NaN   \n",
       "GSM4753030                                     NaN   \n",
       "GSM4753031                                     NaN   \n",
       "GSM4753032                                     NaN   \n",
       "GSM4753033                                     NaN   \n",
       "GSM4753034                                     NaN   \n",
       "GSM4753035                                     NaN   \n",
       "GSM4753036                                     NaN   \n",
       "GSM4753037                                     NaN   \n",
       "GSM4753038                                     NaN   \n",
       "GSM4753039                                     NaN   \n",
       "GSM4753040                                     NaN   \n",
       "GSM4753041                                     NaN   \n",
       "GSM4753042                                     NaN   \n",
       "GSM4753043                                     NaN   \n",
       "GSM4753044                                     NaN   \n",
       "GSM4753045                                     NaN   \n",
       "GSM4753046                                     NaN   \n",
       "GSM4753047                                     NaN   \n",
       "GSM4753048                                     NaN   \n",
       "GSM4753049                                     NaN   \n",
       "GSM4753050                                     NaN   \n",
       "GSM4753051                                     NaN   \n",
       "GSM4753052                                     NaN   \n",
       "GSM4753053                                     NaN   \n",
       "GSM4753054                                     NaN   \n",
       "GSM4753055                                     NaN   \n",
       "\n",
       "           characteristics_ch1.19.sample type  \n",
       "GSM4753021                                NaN  \n",
       "GSM4753022                                NaN  \n",
       "GSM4753023                                NaN  \n",
       "GSM4753024                                NaN  \n",
       "GSM4753025                                NaN  \n",
       "GSM4753026                                NaN  \n",
       "GSM4753027                                NaN  \n",
       "GSM4753028                                NaN  \n",
       "GSM4753029                                NaN  \n",
       "GSM4753030                                NaN  \n",
       "GSM4753031                                NaN  \n",
       "GSM4753032                                NaN  \n",
       "GSM4753033                                NaN  \n",
       "GSM4753034                                NaN  \n",
       "GSM4753035                                NaN  \n",
       "GSM4753036                                NaN  \n",
       "GSM4753037                                NaN  \n",
       "GSM4753038                                NaN  \n",
       "GSM4753039                                NaN  \n",
       "GSM4753040                                NaN  \n",
       "GSM4753041                                NaN  \n",
       "GSM4753042                                NaN  \n",
       "GSM4753043                                NaN  \n",
       "GSM4753044                                NaN  \n",
       "GSM4753045                                NaN  \n",
       "GSM4753046                                NaN  \n",
       "GSM4753047                                NaN  \n",
       "GSM4753048                                NaN  \n",
       "GSM4753049                                NaN  \n",
       "GSM4753050                                NaN  \n",
       "GSM4753051                                NaN  \n",
       "GSM4753052                                NaN  \n",
       "GSM4753053                                NaN  \n",
       "GSM4753054                                NaN  \n",
       "GSM4753055                                NaN  \n",
       "\n",
       "[35 rows x 61 columns]"
      ]
     },
     "execution_count": 262,
     "metadata": {},
     "output_type": "execute_result"
    }
   ],
   "source": [
    "#access to metadata\n",
    "metadata = gse157103.phenotype_data\n",
    "metadata.head(35)\n",
    "#type(metadata)"
   ]
  },
  {
   "cell_type": "code",
   "execution_count": 263,
   "metadata": {},
   "outputs": [
    {
     "name": "stdout",
     "output_type": "stream",
     "text": [
      "Index(['title', 'geo_accession', 'status', 'submission_date',\n",
      "       'last_update_date', 'type', 'channel_count', 'source_name_ch1',\n",
      "       'organism_ch1', 'taxid_ch1', 'characteristics_ch1.0.disease state',\n",
      "       'characteristics_ch1.1.age (years)', 'characteristics_ch1.2.Sex',\n",
      "       'characteristics_ch1.3.icu', 'characteristics_ch1.4.apacheii',\n",
      "       'characteristics_ch1.5.charlson score',\n",
      "       'characteristics_ch1.6.mechanical ventilation',\n",
      "       'characteristics_ch1.7.ventilator-free days',\n",
      "       'characteristics_ch1.8.dm',\n",
      "       'characteristics_ch1.9.hospital-free days post 45 day followup (days)',\n",
      "       'characteristics_ch1.10.ferritin (ng/ml)',\n",
      "       'characteristics_ch1.11.crp (mg/l)',\n",
      "       'characteristics_ch1.12.ddimer (mg/l_feu)',\n",
      "       'characteristics_ch1.13.procalcitonin (ng/ml)',\n",
      "       'characteristics_ch1.14.lactate (mmol/l)',\n",
      "       'characteristics_ch1.15.fibrinogen', 'characteristics_ch1.16.sofa',\n",
      "       'characteristics_ch1.17.associated controlled-vocabulary terms',\n",
      "       'characteristics_ch1.18.cell type',\n",
      "       'characteristics_ch1.19.tissue of origin',\n",
      "       'characteristics_ch1.20.sample type', 'treatment_protocol_ch1',\n",
      "       'growth_protocol_ch1', 'molecule_ch1', 'extract_protocol_ch1',\n",
      "       'description', 'data_processing', 'platform_id', 'contact_name',\n",
      "       'contact_email', 'contact_department', 'contact_institute',\n",
      "       'contact_address', 'contact_city', 'contact_state',\n",
      "       'contact_zip/postal_code', 'contact_country', 'instrument_model',\n",
      "       'library_selection', 'library_source', 'library_strategy', 'relation',\n",
      "       'supplementary_file_1', 'series_id', 'data_row_count',\n",
      "       'characteristics_ch1.14.fibrinogen', 'characteristics_ch1.15.sofa',\n",
      "       'characteristics_ch1.16.associated controlled-vocabulary terms',\n",
      "       'characteristics_ch1.17.cell type',\n",
      "       'characteristics_ch1.18.tissue of origin',\n",
      "       'characteristics_ch1.19.sample type'],\n",
      "      dtype='object')\n"
     ]
    }
   ],
   "source": [
    "print(metadata.columns)"
   ]
  },
  {
   "cell_type": "code",
   "execution_count": 264,
   "metadata": {},
   "outputs": [],
   "source": [
    "data_scaled = preprocessing.scale(rna_seq_tmp)\n"
   ]
  },
  {
   "cell_type": "markdown",
   "metadata": {},
   "source": [
    "# Machine Learning Models\n",
    "\n",
    "In order to predict and help to classify data from our study, we have decided to create and evaluate machine learning models with the following end points:\n",
    "\n",
    "Qualitative Variable\n",
    "- Disease State -> Binary\n",
    "\n",
    "Severity Indexes\n",
    "- Apache II -> Numeric\n",
    "- Apache II -> Multiclass\n",
    "\n",
    "Biomarkers\n",
    "- Ferritin -> Numeric"
   ]
  },
  {
   "cell_type": "markdown",
   "metadata": {},
   "source": [
    "## Disease State\n",
    "\n",
    "As the number of cases to test for Coronavirus is increasing rapidly day by day, it is impossible to test due to the time and cost factors. Over recent years, machine learning has turned very reliable in the medical field. Using machine learning to predict COVID-19 in patients will reduce the time delay for the results of the medical tests and modulate health workers to give proper medical treatment to them.\n",
    "\n",
    "The main goal of this analysis is to develop a machine learning model that could preidict whether a patient is suffering from COVID-19.\n",
    "To create the models we have split the omic data provided in to train and test datasets, where the former corresponds to 1/5 of the full data (Train and Test split section).\n",
    "\n",
    "We also selected 30% of the features in our dataset (Feature Selection section) to reduce dimensionality and possibly improve our models.\n",
    "\n",
    "For this end point we have performed:\n",
    "\n",
    "- Logistic Regression\n",
    "- K-Nearest Neighbors (KNN)\n",
    "- Support Vector Machine (SVM)\n",
    "- Naive Bayes\n",
    "- Random Forest\n",
    "- Decision Tree\n",
    "\n",
    "We performed cross-validation for each of our models and computed the resulting metrics from the test set prediction."
   ]
  },
  {
   "cell_type": "markdown",
   "metadata": {},
   "source": [
    "Train and Test split"
   ]
  },
  {
   "cell_type": "code",
   "execution_count": 265,
   "metadata": {
    "scrolled": true
   },
   "outputs": [],
   "source": [
    "disease_state=[]\n",
    "for j in metadata[\"characteristics_ch1.0.disease state\"]:\n",
    "    if j == 'COVID-19':\n",
    "        disease_state.append(int(1))\n",
    "    if j == 'non-COVID-19':\n",
    "        disease_state.append(int(0))\n",
    "   \n",
    "metadata['disease_state'] = disease_state\n",
    "\n",
    "disease_state = metadata['disease_state']\n",
    "\n",
    "ind = list(range(126))\n",
    "np.random.seed(0)\n",
    "indices = np.random.permutation(126)\n",
    "data_scaled = data_scaled.T\n",
    "train = data_scaled[ind]\n",
    "x_train = train[indices[:-25]]\n",
    "y_train = disease_state.iloc[indices[:-25]].values\n",
    "x_test = data_scaled[indices[-25:]]\n",
    "y_test = disease_state.iloc[indices[-25:]].values\n"
   ]
  },
  {
   "cell_type": "code",
   "execution_count": 266,
   "metadata": {},
   "outputs": [
    {
     "name": "stdout",
     "output_type": "stream",
     "text": [
      "(126, 19472)\n",
      "(25,)\n"
     ]
    }
   ],
   "source": [
    "print(data_scaled.shape)\n",
    "print(y_test.shape)"
   ]
  },
  {
   "cell_type": "markdown",
   "metadata": {},
   "source": [
    "Feature Selection"
   ]
  },
  {
   "cell_type": "code",
   "execution_count": 267,
   "metadata": {},
   "outputs": [
    {
     "name": "stdout",
     "output_type": "stream",
     "text": [
      "Number of features selected: (5842,)\n"
     ]
    },
    {
     "data": {
      "text/plain": [
       "(25, 5842)"
      ]
     },
     "execution_count": 267,
     "metadata": {},
     "output_type": "execute_result"
    }
   ],
   "source": [
    "selector = SelectPercentile(f_classif, percentile = 30)\n",
    "train_select = selector.fit_transform(x_train, y_train)\n",
    "index_top_feat = selector.get_support(indices= True)\n",
    "print('Number of features selected:', index_top_feat.shape)\n",
    "\n",
    "testin = x_test[:,index_top_feat]\n",
    "testin.shape"
   ]
  },
  {
   "cell_type": "markdown",
   "metadata": {},
   "source": [
    "### Logistic regression"
   ]
  },
  {
   "cell_type": "code",
   "execution_count": 268,
   "metadata": {
    "scrolled": true
   },
   "outputs": [
    {
     "name": "stdout",
     "output_type": "stream",
     "text": [
      "Accuracy Score : 1.0\n",
      "Precision Score : 1.0\n",
      "Recall Score : 1.0\n",
      "F1 Score : 1.0\n",
      "Confusion Matrix : \n",
      "[[ 8  0]\n",
      " [ 0 17]]\n",
      "\n"
     ]
    }
   ],
   "source": [
    "lr = LogisticRegression(max_iter = 101, random_state = 0, solver = 'liblinear')\n",
    "lr.fit(train_select, y_train)\n",
    "\n",
    "y_pred = lr.predict(testin)\n",
    "\n",
    "print('Accuracy Score : ' + str(accuracy_score(y_test,y_pred)))\n",
    "print('Precision Score : ' + str(precision_score(y_test,y_pred)))\n",
    "print('Recall Score : ' + str(recall_score(y_test,y_pred)))\n",
    "print('F1 Score : ' + str(f1_score(y_test,y_pred)))\n",
    "print('Confusion Matrix : \\n' + str(confusion_matrix(y_test,y_pred)) + '\\n')"
   ]
  },
  {
   "cell_type": "markdown",
   "metadata": {},
   "source": [
    "Cross Validation"
   ]
  },
  {
   "cell_type": "code",
   "execution_count": 269,
   "metadata": {},
   "outputs": [
    {
     "name": "stdout",
     "output_type": "stream",
     "text": [
      "Accuracy Scores: [0.95238095 0.9        0.9        0.85       0.9       ] \n",
      "\n",
      "Accuracy Scores mean: 0.9004761904761904\n",
      "Accuracy Scores sd: 0.03238095238095237\n"
     ]
    }
   ],
   "source": [
    "accuracy = cross_val_score (estimator =  lr, X = train_select, y = y_train , cv = 5, n_jobs = -1)\n",
    "print(f\"Accuracy Scores: {accuracy} \\n\")\n",
    "print(f'Accuracy Scores mean: {accuracy.mean()}')\n",
    "print(f'Accuracy Scores sd: {accuracy.std()}')"
   ]
  },
  {
   "cell_type": "markdown",
   "metadata": {},
   "source": [
    "ROC curve, Precision-Recall curve and AUC"
   ]
  },
  {
   "cell_type": "code",
   "execution_count": 270,
   "metadata": {},
   "outputs": [
    {
     "name": "stdout",
     "output_type": "stream",
     "text": [
      "NO SKILL: ROC AUC=0.500\n",
      "Linear Regression: ROC AUC=1.000\n",
      "Logistic:  Precision-Recall f1=1.000 auc=1.000\n"
     ]
    },
    {
     "data": {
      "image/png": "[encoded data removed]",
      "text/plain": [
       "<Figure size 1080x288 with 2 Axes>"
      ]
     },
     "metadata": {
      "needs_background": "light"
     },
     "output_type": "display_data"
    }
   ],
   "source": [
    "fig, (ax1, ax2) = plt.subplots(1,2, figsize=(15,4))\n",
    "\n",
    "ns_probs = [1 for _ in range(len(y_test))]\n",
    "\n",
    "lr_probs = lr.predict_proba(testin)\n",
    "lr_probs = lr_probs[:, 1]\n",
    "\n",
    "ns_auc = roc_auc_score(y_test, ns_probs)\n",
    "lr_roc_auc = roc_auc_score(y_test, lr_probs)\n",
    "\n",
    "# summarize scores\n",
    "print('NO SKILL: ROC AUC=%.3f' % (ns_auc))\n",
    "print('Linear Regression: ROC AUC=%.3f' % (lr_roc_auc))\n",
    "\n",
    "ns_fpr, ns_tpr, _ = roc_curve(y_test, ns_probs)\n",
    "lr_fpr, lr_tpr, _ = roc_curve(y_test, lr_probs)\n",
    "\n",
    "ax1.plot(ns_fpr, ns_tpr, linestyle='--', label='NO SKILL')\n",
    "ax1.plot(lr_fpr, lr_tpr, marker='.', label='lr')\n",
    "ax1.set_xlabel('False Positive Rate')\n",
    "ax1.set_ylabel('True Positive Rate')\n",
    "ax1.set_title('ROC Curve')\n",
    "ax1.legend()\n",
    "\n",
    "#Precision-Recall Curve\n",
    "predd = lr.predict(testin)\n",
    "\n",
    "lr_precision, lr_recall, _ = precision_recall_curve(y_test, lr_probs)\n",
    "lr_f1, lr_auc = f1_score(y_test, predd), auc(lr_recall, lr_precision)\n",
    "\n",
    "print('Logistic:  Precision-Recall f1=%.3f auc=%.3f' % (lr_f1, lr_auc))\n",
    "\n",
    "no_model = len(y_test[y_test==1]) / len(y_test)\n",
    "ax2.plot([0, 1], [no_model, no_model], linestyle='--', label='NO SKILL')\n",
    "ax2.plot(lr_recall, lr_precision, marker='.', label='Logistic Regression')\n",
    "\n",
    "ax2.set_xlabel('Recall')\n",
    "ax2.set_ylabel('Precision')\n",
    "ax2.set_title('Precision-Recall Curve')\n",
    "plt.show()"
   ]
  },
  {
   "cell_type": "markdown",
   "metadata": {},
   "source": [
    "### K-Nearest Neighbors (KNN)"
   ]
  },
  {
   "cell_type": "code",
   "execution_count": 271,
   "metadata": {},
   "outputs": [
    {
     "name": "stdout",
     "output_type": "stream",
     "text": [
      "Accuracy Score : 0.84\n",
      "Precision Score : 0.9333333333333333\n",
      "Recall Score : 0.8235294117647058\n",
      "F1 Score : 0.8749999999999999\n",
      "Confusion Matrix : \n",
      " [[ 7  1]\n",
      " [ 3 14]]\n",
      "\n"
     ]
    }
   ],
   "source": [
    "knn = KNeighborsClassifier(n_neighbors = 2, metric = 'minkowski', p = 2)\n",
    "knn.fit(train_select, y_train)\n",
    "\n",
    "y_pred = knn.predict(testin)\n",
    "\n",
    "print('Accuracy Score : ' + str(accuracy_score(y_test,y_pred)))\n",
    "print('Precision Score : ' + str(precision_score(y_test,y_pred)))\n",
    "print('Recall Score : ' + str(recall_score(y_test,y_pred)))\n",
    "print('F1 Score : ' + str(f1_score(y_test,y_pred)))\n",
    "print('Confusion Matrix : \\n ' + str(confusion_matrix(y_test,y_pred)) + '\\n')"
   ]
  },
  {
   "cell_type": "markdown",
   "metadata": {},
   "source": [
    "Cross Validation"
   ]
  },
  {
   "cell_type": "code",
   "execution_count": 272,
   "metadata": {},
   "outputs": [
    {
     "name": "stdout",
     "output_type": "stream",
     "text": [
      "Accuracy Scores: [0.85714286 0.65       0.8        0.75       0.65      ] \n",
      "\n",
      "Accuracy Scores mean: 0.7414285714285713\n",
      "Accuracy Scores std: 0.08199054201303851\n"
     ]
    }
   ],
   "source": [
    "accuracy = cross_val_score (estimator =  knn, X = train_select, y = y_train, cv = 5, n_jobs = -1)\n",
    "print(f\"Accuracy Scores: {accuracy} \\n\")\n",
    "print(f'Accuracy Scores mean: {accuracy.mean()}')\n",
    "print(f'Accuracy Scores std: {accuracy.std()}')"
   ]
  },
  {
   "cell_type": "markdown",
   "metadata": {},
   "source": [
    "ROC curve, Precision-Recall curve and AUC"
   ]
  },
  {
   "cell_type": "code",
   "execution_count": 273,
   "metadata": {},
   "outputs": [
    {
     "name": "stdout",
     "output_type": "stream",
     "text": [
      "NO SKILL: ROC AUC=0.500\n",
      "KNN: ROC AUC=0.893\n",
      "Logistic:  Precision-Recall f1=0.875 auc=0.950\n"
     ]
    },
    {
     "data": {
      "image/png": "[encoded data removed]",
      "text/plain": [
       "<Figure size 1080x288 with 2 Axes>"
      ]
     },
     "metadata": {
      "needs_background": "light"
     },
     "output_type": "display_data"
    }
   ],
   "source": [
    "fig, (ax1, ax2) = plt.subplots(1,2, figsize=(15,4))\n",
    "\n",
    "ns_probs = [1 for _ in range(len(y_test))]\n",
    "\n",
    "knn_probs = knn.predict_proba(testin)\n",
    "knn_probs = knn_probs[:, 1]\n",
    "\n",
    "ns_auc = roc_auc_score(y_test, ns_probs)\n",
    "knn_roc_auc = roc_auc_score(y_test, knn_probs)\n",
    "\n",
    "# summarize scores\n",
    "print('NO SKILL: ROC AUC=%.3f' % (ns_auc))\n",
    "print('KNN: ROC AUC=%.3f' % (knn_roc_auc))\n",
    "\n",
    "ns_fpr, ns_tpr, _ = roc_curve(y_test, ns_probs)\n",
    "knn_fpr, knn_tpr, _ = roc_curve(y_test, knn_probs)\n",
    "\n",
    "ax1.plot(ns_fpr, ns_tpr, linestyle='--', label='NO SKILL')\n",
    "ax1.plot(knn_fpr, knn_tpr, marker='.', label='KNN')\n",
    "ax1.set_xlabel('False Positive Rate')\n",
    "ax1.set_ylabel('True Positive Rate')\n",
    "ax1.set_title('ROC Curve')\n",
    "ax1.legend()\n",
    "\n",
    "#Precision-Recall Curve\n",
    "predd = knn.predict(testin)\n",
    "\n",
    "knn_precision, knn_recall, _ = precision_recall_curve(y_test, knn_probs)\n",
    "knn_f1, knn_auc = f1_score(y_test, predd), auc(knn_recall, knn_precision)\n",
    "\n",
    "print('Logistic:  Precision-Recall f1=%.3f auc=%.3f' % (knn_f1, knn_auc))\n",
    "\n",
    "no_model = len(y_test[y_test==1]) / len(y_test)\n",
    "ax2.plot([0, 1], [no_model, no_model], linestyle='--', label='NO SKILL')\n",
    "ax2.plot(knn_recall, knn_precision, marker='.', label='k-nearest neighbors')\n",
    "\n",
    "ax2.set_xlabel('Recall')\n",
    "ax2.set_ylabel('Precision')\n",
    "ax2.set_title('Precision-Recall Curve')\n",
    "plt.show()"
   ]
  },
  {
   "cell_type": "markdown",
   "metadata": {},
   "source": [
    "### Support Vector Machine (SVM)"
   ]
  },
  {
   "cell_type": "code",
   "execution_count": 274,
   "metadata": {},
   "outputs": [
    {
     "name": "stdout",
     "output_type": "stream",
     "text": [
      "Accuracy Score : 0.96\n",
      "Precision Score : 0.9444444444444444\n",
      "Recall Score : 1.0\n",
      "F1 Score : 0.9714285714285714\n",
      "Confusion Matrix : \n",
      " [[ 7  1]\n",
      " [ 0 17]]\n",
      "\n"
     ]
    }
   ],
   "source": [
    "svm = SVC(kernel = 'linear', random_state = 0, probability = True)\n",
    "svm.fit(train_select, y_train)\n",
    "\n",
    "y_pred = svm.predict(testin)\n",
    "\n",
    "print('Accuracy Score : ' + str(accuracy_score(y_test,y_pred)))\n",
    "print('Precision Score : ' + str(precision_score(y_test,y_pred)))\n",
    "print('Recall Score : ' + str(recall_score(y_test,y_pred)))\n",
    "print('F1 Score : ' + str(f1_score(y_test,y_pred)))\n",
    "print('Confusion Matrix : \\n ' + str(confusion_matrix(y_test,y_pred)) + '\\n')\n",
    "accuracy_svm = accuracy_score(y_test,y_pred)\n",
    "precision_svm = precision_score(y_test,y_pred)\n",
    "recall_svm = recall_score(y_test,y_pred)\n",
    "f1_svm = f1_score(y_test,y_pred)"
   ]
  },
  {
   "cell_type": "markdown",
   "metadata": {},
   "source": [
    "#### Cross Validation"
   ]
  },
  {
   "cell_type": "code",
   "execution_count": 275,
   "metadata": {},
   "outputs": [
    {
     "name": "stdout",
     "output_type": "stream",
     "text": [
      "Accuracy Scores: [0.85714286 0.95       0.85       0.9        0.9       ] \n",
      "\n",
      "Accuracy Scores mean: 0.8914285714285715\n",
      "Accuracy Scores std: 0.035970509462897635\n"
     ]
    }
   ],
   "source": [
    "accuracy = cross_val_score (estimator =  svm, X = train_select, y = y_train, cv = 5, n_jobs = -1)\n",
    "print(f\"Accuracy Scores: {accuracy} \\n\")\n",
    "print(f'Accuracy Scores mean: {accuracy.mean()}')\n",
    "print(f'Accuracy Scores std: {accuracy.std()}')"
   ]
  },
  {
   "cell_type": "markdown",
   "metadata": {},
   "source": [
    "##### ROC curve, Precision-Recall curve and AUC"
   ]
  },
  {
   "cell_type": "code",
   "execution_count": 276,
   "metadata": {},
   "outputs": [
    {
     "name": "stdout",
     "output_type": "stream",
     "text": [
      "NO SKILL: ROC AUC=0.500\n",
      "SVM: ROC AUC=1.000\n",
      "Logistic:  Precision-Recall f1=0.971 auc=1.000\n"
     ]
    },
    {
     "data": {
      "image/png": "[encoded data removed]",
      "text/plain": [
       "<Figure size 1080x288 with 2 Axes>"
      ]
     },
     "metadata": {
      "needs_background": "light"
     },
     "output_type": "display_data"
    }
   ],
   "source": [
    "fig, (ax1, ax2) = plt.subplots(1,2, figsize=(15,4))\n",
    "\n",
    "ns_probs = [1 for _ in range(len(y_test))]\n",
    "\n",
    "svm_probs = svm.predict_proba(testin)\n",
    "svm_probs = svm_probs[:, 1]\n",
    "\n",
    "ns_auc = roc_auc_score(y_test, ns_probs)\n",
    "svm_roc_auc = roc_auc_score(y_test, svm_probs)\n",
    "\n",
    "# summarize scores\n",
    "print('NO SKILL: ROC AUC=%.3f' % (ns_auc))\n",
    "print('SVM: ROC AUC=%.3f' % (svm_roc_auc))\n",
    "\n",
    "ns_fpr, ns_tpr, _ = roc_curve(y_test, ns_probs)\n",
    "svm_fpr, svm_tpr, _ = roc_curve(y_test, svm_probs)\n",
    "\n",
    "ax1.plot(ns_fpr, ns_tpr, linestyle='--', label='NO SKILL')\n",
    "ax1.plot(svm_fpr, svm_tpr, marker='.', label='SVM')\n",
    "ax1.set_xlabel('False Positive Rate')\n",
    "ax1.set_ylabel('True Positive Rate')\n",
    "ax1.set_title('ROC Curve')\n",
    "ax1.legend()\n",
    "\n",
    "#Precision-Recall Curve\n",
    "predd = svm.predict(testin)\n",
    "\n",
    "svm_precision,svm_recall, _ = precision_recall_curve(y_test, svm_probs)\n",
    "svm_f1, svm_auc = f1_score(y_test, predd), auc(svm_recall, svm_precision)\n",
    "\n",
    "print('Logistic:  Precision-Recall f1=%.3f auc=%.3f' % (svm_f1, svm_auc))\n",
    "\n",
    "no_model = len(y_test[y_test==1]) / len(y_test)\n",
    "ax2.plot([0, 1], [no_model, no_model], linestyle='--', label='NO SKILL')\n",
    "ax2.plot(svm_recall, svm_precision, marker='.', label='Support-Vector Machines')\n",
    "\n",
    "ax2.set_xlabel('Recall')\n",
    "ax2.set_ylabel('Precision')\n",
    "ax2.set_title('Precision-Recall Curve')\n",
    "plt.show()\n",
    "\n"
   ]
  },
  {
   "cell_type": "markdown",
   "metadata": {},
   "source": [
    "### Hyperparameter optimization\n",
    "\n",
    "Hperparameter optimization or tuning is the problem of choosing a set of optimal hyperparameters for a learning algorithm. A hyperparameter is a parameter whose value is used to control the learning process."
   ]
  },
  {
   "cell_type": "code",
   "execution_count": 277,
   "metadata": {},
   "outputs": [
    {
     "name": "stdout",
     "output_type": "stream",
     "text": [
      "Fitting 5 folds for each of 25 candidates, totalling 125 fits\n",
      "[CV] C=0.1, gamma=1, kernel=rbf ......................................\n"
     ]
    },
    {
     "name": "stderr",
     "output_type": "stream",
     "text": [
      "[Parallel(n_jobs=1)]: Using backend SequentialBackend with 1 concurrent workers.\n"
     ]
    },
    {
     "name": "stdout",
     "output_type": "stream",
     "text": [
      "[CV] .......... C=0.1, gamma=1, kernel=rbf, score=0.810, total=   0.4s\n",
      "[CV] C=0.1, gamma=1, kernel=rbf ......................................\n"
     ]
    },
    {
     "name": "stderr",
     "output_type": "stream",
     "text": [
      "[Parallel(n_jobs=1)]: Done   1 out of   1 | elapsed:    0.3s remaining:    0.0s\n"
     ]
    },
    {
     "name": "stdout",
     "output_type": "stream",
     "text": [
      "[CV] .......... C=0.1, gamma=1, kernel=rbf, score=0.850, total=   0.3s\n",
      "[CV] C=0.1, gamma=1, kernel=rbf ......................................\n"
     ]
    },
    {
     "name": "stderr",
     "output_type": "stream",
     "text": [
      "[Parallel(n_jobs=1)]: Done   2 out of   2 | elapsed:    0.6s remaining:    0.0s\n"
     ]
    },
    {
     "name": "stdout",
     "output_type": "stream",
     "text": [
      "[CV] .......... C=0.1, gamma=1, kernel=rbf, score=0.850, total=   0.3s\n",
      "[CV] C=0.1, gamma=1, kernel=rbf ......................................\n",
      "[CV] .......... C=0.1, gamma=1, kernel=rbf, score=0.800, total=   0.3s\n",
      "[CV] C=0.1, gamma=1, kernel=rbf ......................................\n",
      "[CV] .......... C=0.1, gamma=1, kernel=rbf, score=0.800, total=   0.3s\n",
      "[CV] C=0.1, gamma=0.1, kernel=rbf ....................................\n",
      "[CV] ........ C=0.1, gamma=0.1, kernel=rbf, score=0.810, total=   0.3s\n",
      "[CV] C=0.1, gamma=0.1, kernel=rbf ....................................\n",
      "[CV] ........ C=0.1, gamma=0.1, kernel=rbf, score=0.850, total=   0.3s\n",
      "[CV] C=0.1, gamma=0.1, kernel=rbf ....................................\n",
      "[CV] ........ C=0.1, gamma=0.1, kernel=rbf, score=0.850, total=   0.3s\n",
      "[CV] C=0.1, gamma=0.1, kernel=rbf ....................................\n",
      "[CV] ........ C=0.1, gamma=0.1, kernel=rbf, score=0.800, total=   0.3s\n",
      "[CV] C=0.1, gamma=0.1, kernel=rbf ....................................\n",
      "[CV] ........ C=0.1, gamma=0.1, kernel=rbf, score=0.800, total=   0.3s\n",
      "[CV] C=0.1, gamma=0.01, kernel=rbf ...................................\n",
      "[CV] ....... C=0.1, gamma=0.01, kernel=rbf, score=0.810, total=   0.3s\n",
      "[CV] C=0.1, gamma=0.01, kernel=rbf ...................................\n",
      "[CV] ....... C=0.1, gamma=0.01, kernel=rbf, score=0.850, total=   0.3s\n",
      "[CV] C=0.1, gamma=0.01, kernel=rbf ...................................\n",
      "[CV] ....... C=0.1, gamma=0.01, kernel=rbf, score=0.850, total=   0.3s\n",
      "[CV] C=0.1, gamma=0.01, kernel=rbf ...................................\n",
      "[CV] ....... C=0.1, gamma=0.01, kernel=rbf, score=0.800, total=   0.4s\n",
      "[CV] C=0.1, gamma=0.01, kernel=rbf ...................................\n",
      "[CV] ....... C=0.1, gamma=0.01, kernel=rbf, score=0.800, total=   0.3s\n",
      "[CV] C=0.1, gamma=0.001, kernel=rbf ..................................\n",
      "[CV] ...... C=0.1, gamma=0.001, kernel=rbf, score=0.810, total=   0.2s\n",
      "[CV] C=0.1, gamma=0.001, kernel=rbf ..................................\n",
      "[CV] ...... C=0.1, gamma=0.001, kernel=rbf, score=0.850, total=   0.2s\n",
      "[CV] C=0.1, gamma=0.001, kernel=rbf ..................................\n",
      "[CV] ...... C=0.1, gamma=0.001, kernel=rbf, score=0.850, total=   0.2s\n",
      "[CV] C=0.1, gamma=0.001, kernel=rbf ..................................\n",
      "[CV] ...... C=0.1, gamma=0.001, kernel=rbf, score=0.800, total=   0.2s\n",
      "[CV] C=0.1, gamma=0.001, kernel=rbf ..................................\n",
      "[CV] ...... C=0.1, gamma=0.001, kernel=rbf, score=0.800, total=   0.2s\n",
      "[CV] C=0.1, gamma=0.0001, kernel=rbf .................................\n",
      "[CV] ..... C=0.1, gamma=0.0001, kernel=rbf, score=0.810, total=   0.1s\n",
      "[CV] C=0.1, gamma=0.0001, kernel=rbf .................................\n",
      "[CV] ..... C=0.1, gamma=0.0001, kernel=rbf, score=0.850, total=   0.1s\n",
      "[CV] C=0.1, gamma=0.0001, kernel=rbf .................................\n",
      "[CV] ..... C=0.1, gamma=0.0001, kernel=rbf, score=0.850, total=   0.2s\n",
      "[CV] C=0.1, gamma=0.0001, kernel=rbf .................................\n",
      "[CV] ..... C=0.1, gamma=0.0001, kernel=rbf, score=0.800, total=   0.2s\n",
      "[CV] C=0.1, gamma=0.0001, kernel=rbf .................................\n",
      "[CV] ..... C=0.1, gamma=0.0001, kernel=rbf, score=0.800, total=   0.1s\n",
      "[CV] C=1, gamma=1, kernel=rbf ........................................\n",
      "[CV] ............ C=1, gamma=1, kernel=rbf, score=0.810, total=   0.3s\n",
      "[CV] C=1, gamma=1, kernel=rbf ........................................\n",
      "[CV] ............ C=1, gamma=1, kernel=rbf, score=0.850, total=   0.3s\n",
      "[CV] C=1, gamma=1, kernel=rbf ........................................\n",
      "[CV] ............ C=1, gamma=1, kernel=rbf, score=0.850, total=   0.3s\n",
      "[CV] C=1, gamma=1, kernel=rbf ........................................\n",
      "[CV] ............ C=1, gamma=1, kernel=rbf, score=0.800, total=   0.3s\n",
      "[CV] C=1, gamma=1, kernel=rbf ........................................\n",
      "[CV] ............ C=1, gamma=1, kernel=rbf, score=0.800, total=   0.3s\n",
      "[CV] C=1, gamma=0.1, kernel=rbf ......................................\n",
      "[CV] .......... C=1, gamma=0.1, kernel=rbf, score=0.810, total=   0.3s\n",
      "[CV] C=1, gamma=0.1, kernel=rbf ......................................\n",
      "[CV] .......... C=1, gamma=0.1, kernel=rbf, score=0.850, total=   0.3s\n",
      "[CV] C=1, gamma=0.1, kernel=rbf ......................................\n",
      "[CV] .......... C=1, gamma=0.1, kernel=rbf, score=0.850, total=   0.3s\n",
      "[CV] C=1, gamma=0.1, kernel=rbf ......................................\n",
      "[CV] .......... C=1, gamma=0.1, kernel=rbf, score=0.800, total=   0.3s\n",
      "[CV] C=1, gamma=0.1, kernel=rbf ......................................\n",
      "[CV] .......... C=1, gamma=0.1, kernel=rbf, score=0.800, total=   0.3s\n",
      "[CV] C=1, gamma=0.01, kernel=rbf .....................................\n",
      "[CV] ......... C=1, gamma=0.01, kernel=rbf, score=0.810, total=   0.3s\n",
      "[CV] C=1, gamma=0.01, kernel=rbf .....................................\n",
      "[CV] ......... C=1, gamma=0.01, kernel=rbf, score=0.850, total=   0.3s\n",
      "[CV] C=1, gamma=0.01, kernel=rbf .....................................\n",
      "[CV] ......... C=1, gamma=0.01, kernel=rbf, score=0.850, total=   0.3s\n",
      "[CV] C=1, gamma=0.01, kernel=rbf .....................................\n",
      "[CV] ......... C=1, gamma=0.01, kernel=rbf, score=0.800, total=   0.3s\n",
      "[CV] C=1, gamma=0.01, kernel=rbf .....................................\n",
      "[CV] ......... C=1, gamma=0.01, kernel=rbf, score=0.800, total=   0.3s\n",
      "[CV] C=1, gamma=0.001, kernel=rbf ....................................\n",
      "[CV] ........ C=1, gamma=0.001, kernel=rbf, score=0.857, total=   0.2s\n",
      "[CV] C=1, gamma=0.001, kernel=rbf ....................................\n",
      "[CV] ........ C=1, gamma=0.001, kernel=rbf, score=0.750, total=   0.2s\n",
      "[CV] C=1, gamma=0.001, kernel=rbf ....................................\n",
      "[CV] ........ C=1, gamma=0.001, kernel=rbf, score=0.800, total=   0.2s\n",
      "[CV] C=1, gamma=0.001, kernel=rbf ....................................\n",
      "[CV] ........ C=1, gamma=0.001, kernel=rbf, score=0.850, total=   0.2s\n",
      "[CV] C=1, gamma=0.001, kernel=rbf ....................................\n",
      "[CV] ........ C=1, gamma=0.001, kernel=rbf, score=0.850, total=   0.2s\n",
      "[CV] C=1, gamma=0.0001, kernel=rbf ...................................\n",
      "[CV] ....... C=1, gamma=0.0001, kernel=rbf, score=0.810, total=   0.1s\n",
      "[CV] C=1, gamma=0.0001, kernel=rbf ...................................\n",
      "[CV] ....... C=1, gamma=0.0001, kernel=rbf, score=0.800, total=   0.1s\n",
      "[CV] C=1, gamma=0.0001, kernel=rbf ...................................\n",
      "[CV] ....... C=1, gamma=0.0001, kernel=rbf, score=0.850, total=   0.1s\n",
      "[CV] C=1, gamma=0.0001, kernel=rbf ...................................\n",
      "[CV] ....... C=1, gamma=0.0001, kernel=rbf, score=0.800, total=   0.1s\n",
      "[CV] C=1, gamma=0.0001, kernel=rbf ...................................\n",
      "[CV] ....... C=1, gamma=0.0001, kernel=rbf, score=0.800, total=   0.1s\n",
      "[CV] C=10, gamma=1, kernel=rbf .......................................\n",
      "[CV] ........... C=10, gamma=1, kernel=rbf, score=0.810, total=   0.4s\n",
      "[CV] C=10, gamma=1, kernel=rbf .......................................\n",
      "[CV] ........... C=10, gamma=1, kernel=rbf, score=0.850, total=   0.3s\n",
      "[CV] C=10, gamma=1, kernel=rbf .......................................\n",
      "[CV] ........... C=10, gamma=1, kernel=rbf, score=0.850, total=   0.3s\n",
      "[CV] C=10, gamma=1, kernel=rbf .......................................\n",
      "[CV] ........... C=10, gamma=1, kernel=rbf, score=0.800, total=   0.3s\n",
      "[CV] C=10, gamma=1, kernel=rbf .......................................\n",
      "[CV] ........... C=10, gamma=1, kernel=rbf, score=0.800, total=   0.3s\n",
      "[CV] C=10, gamma=0.1, kernel=rbf .....................................\n",
      "[CV] ......... C=10, gamma=0.1, kernel=rbf, score=0.810, total=   0.3s\n",
      "[CV] C=10, gamma=0.1, kernel=rbf .....................................\n",
      "[CV] ......... C=10, gamma=0.1, kernel=rbf, score=0.850, total=   0.3s\n",
      "[CV] C=10, gamma=0.1, kernel=rbf .....................................\n",
      "[CV] ......... C=10, gamma=0.1, kernel=rbf, score=0.850, total=   0.3s\n",
      "[CV] C=10, gamma=0.1, kernel=rbf .....................................\n",
      "[CV] ......... C=10, gamma=0.1, kernel=rbf, score=0.800, total=   0.3s\n",
      "[CV] C=10, gamma=0.1, kernel=rbf .....................................\n",
      "[CV] ......... C=10, gamma=0.1, kernel=rbf, score=0.800, total=   0.3s\n",
      "[CV] C=10, gamma=0.01, kernel=rbf ....................................\n"
     ]
    },
    {
     "name": "stdout",
     "output_type": "stream",
     "text": [
      "[CV] ........ C=10, gamma=0.01, kernel=rbf, score=0.810, total=   0.3s\n",
      "[CV] C=10, gamma=0.01, kernel=rbf ....................................\n",
      "[CV] ........ C=10, gamma=0.01, kernel=rbf, score=0.850, total=   0.3s\n",
      "[CV] C=10, gamma=0.01, kernel=rbf ....................................\n",
      "[CV] ........ C=10, gamma=0.01, kernel=rbf, score=0.850, total=   0.3s\n",
      "[CV] C=10, gamma=0.01, kernel=rbf ....................................\n",
      "[CV] ........ C=10, gamma=0.01, kernel=rbf, score=0.800, total=   0.3s\n",
      "[CV] C=10, gamma=0.01, kernel=rbf ....................................\n",
      "[CV] ........ C=10, gamma=0.01, kernel=rbf, score=0.800, total=   0.3s\n",
      "[CV] C=10, gamma=0.001, kernel=rbf ...................................\n",
      "[CV] ....... C=10, gamma=0.001, kernel=rbf, score=0.905, total=   0.2s\n",
      "[CV] C=10, gamma=0.001, kernel=rbf ...................................\n",
      "[CV] ....... C=10, gamma=0.001, kernel=rbf, score=0.700, total=   0.2s\n",
      "[CV] C=10, gamma=0.001, kernel=rbf ...................................\n",
      "[CV] ....... C=10, gamma=0.001, kernel=rbf, score=0.800, total=   0.3s\n",
      "[CV] C=10, gamma=0.001, kernel=rbf ...................................\n",
      "[CV] ....... C=10, gamma=0.001, kernel=rbf, score=0.850, total=   0.2s\n",
      "[CV] C=10, gamma=0.001, kernel=rbf ...................................\n",
      "[CV] ....... C=10, gamma=0.001, kernel=rbf, score=0.850, total=   0.2s\n",
      "[CV] C=10, gamma=0.0001, kernel=rbf ..................................\n",
      "[CV] ...... C=10, gamma=0.0001, kernel=rbf, score=1.000, total=   0.2s\n",
      "[CV] C=10, gamma=0.0001, kernel=rbf ..................................\n",
      "[CV] ...... C=10, gamma=0.0001, kernel=rbf, score=0.750, total=   0.1s\n",
      "[CV] C=10, gamma=0.0001, kernel=rbf ..................................\n",
      "[CV] ...... C=10, gamma=0.0001, kernel=rbf, score=0.850, total=   0.2s\n",
      "[CV] C=10, gamma=0.0001, kernel=rbf ..................................\n",
      "[CV] ...... C=10, gamma=0.0001, kernel=rbf, score=0.950, total=   0.2s\n",
      "[CV] C=10, gamma=0.0001, kernel=rbf ..................................\n",
      "[CV] ...... C=10, gamma=0.0001, kernel=rbf, score=0.950, total=   0.2s\n",
      "[CV] C=100, gamma=1, kernel=rbf ......................................\n",
      "[CV] .......... C=100, gamma=1, kernel=rbf, score=0.810, total=   0.4s\n",
      "[CV] C=100, gamma=1, kernel=rbf ......................................\n",
      "[CV] .......... C=100, gamma=1, kernel=rbf, score=0.850, total=   0.3s\n",
      "[CV] C=100, gamma=1, kernel=rbf ......................................\n",
      "[CV] .......... C=100, gamma=1, kernel=rbf, score=0.850, total=   0.3s\n",
      "[CV] C=100, gamma=1, kernel=rbf ......................................\n",
      "[CV] .......... C=100, gamma=1, kernel=rbf, score=0.800, total=   0.4s\n",
      "[CV] C=100, gamma=1, kernel=rbf ......................................\n",
      "[CV] .......... C=100, gamma=1, kernel=rbf, score=0.800, total=   0.4s\n",
      "[CV] C=100, gamma=0.1, kernel=rbf ....................................\n",
      "[CV] ........ C=100, gamma=0.1, kernel=rbf, score=0.810, total=   0.4s\n",
      "[CV] C=100, gamma=0.1, kernel=rbf ....................................\n",
      "[CV] ........ C=100, gamma=0.1, kernel=rbf, score=0.850, total=   0.4s\n",
      "[CV] C=100, gamma=0.1, kernel=rbf ....................................\n",
      "[CV] ........ C=100, gamma=0.1, kernel=rbf, score=0.850, total=   0.3s\n",
      "[CV] C=100, gamma=0.1, kernel=rbf ....................................\n",
      "[CV] ........ C=100, gamma=0.1, kernel=rbf, score=0.800, total=   0.4s\n",
      "[CV] C=100, gamma=0.1, kernel=rbf ....................................\n",
      "[CV] ........ C=100, gamma=0.1, kernel=rbf, score=0.800, total=   0.4s\n",
      "[CV] C=100, gamma=0.01, kernel=rbf ...................................\n",
      "[CV] ....... C=100, gamma=0.01, kernel=rbf, score=0.810, total=   0.3s\n",
      "[CV] C=100, gamma=0.01, kernel=rbf ...................................\n",
      "[CV] ....... C=100, gamma=0.01, kernel=rbf, score=0.850, total=   0.3s\n",
      "[CV] C=100, gamma=0.01, kernel=rbf ...................................\n",
      "[CV] ....... C=100, gamma=0.01, kernel=rbf, score=0.850, total=   0.3s\n",
      "[CV] C=100, gamma=0.01, kernel=rbf ...................................\n",
      "[CV] ....... C=100, gamma=0.01, kernel=rbf, score=0.800, total=   0.3s\n",
      "[CV] C=100, gamma=0.01, kernel=rbf ...................................\n",
      "[CV] ....... C=100, gamma=0.01, kernel=rbf, score=0.800, total=   0.4s\n",
      "[CV] C=100, gamma=0.001, kernel=rbf ..................................\n",
      "[CV] ...... C=100, gamma=0.001, kernel=rbf, score=0.905, total=   0.3s\n",
      "[CV] C=100, gamma=0.001, kernel=rbf ..................................\n",
      "[CV] ...... C=100, gamma=0.001, kernel=rbf, score=0.700, total=   0.3s\n",
      "[CV] C=100, gamma=0.001, kernel=rbf ..................................\n",
      "[CV] ...... C=100, gamma=0.001, kernel=rbf, score=0.800, total=   0.2s\n",
      "[CV] C=100, gamma=0.001, kernel=rbf ..................................\n",
      "[CV] ...... C=100, gamma=0.001, kernel=rbf, score=0.850, total=   0.2s\n",
      "[CV] C=100, gamma=0.001, kernel=rbf ..................................\n",
      "[CV] ...... C=100, gamma=0.001, kernel=rbf, score=0.850, total=   0.2s\n",
      "[CV] C=100, gamma=0.0001, kernel=rbf .................................\n",
      "[CV] ..... C=100, gamma=0.0001, kernel=rbf, score=0.905, total=   0.1s\n",
      "[CV] C=100, gamma=0.0001, kernel=rbf .................................\n",
      "[CV] ..... C=100, gamma=0.0001, kernel=rbf, score=0.750, total=   0.1s\n",
      "[CV] C=100, gamma=0.0001, kernel=rbf .................................\n",
      "[CV] ..... C=100, gamma=0.0001, kernel=rbf, score=0.800, total=   0.1s\n",
      "[CV] C=100, gamma=0.0001, kernel=rbf .................................\n",
      "[CV] ..... C=100, gamma=0.0001, kernel=rbf, score=0.800, total=   0.2s\n",
      "[CV] C=100, gamma=0.0001, kernel=rbf .................................\n",
      "[CV] ..... C=100, gamma=0.0001, kernel=rbf, score=0.950, total=   0.1s\n",
      "[CV] C=1000, gamma=1, kernel=rbf .....................................\n",
      "[CV] ......... C=1000, gamma=1, kernel=rbf, score=0.810, total=   0.3s\n",
      "[CV] C=1000, gamma=1, kernel=rbf .....................................\n",
      "[CV] ......... C=1000, gamma=1, kernel=rbf, score=0.850, total=   0.3s\n",
      "[CV] C=1000, gamma=1, kernel=rbf .....................................\n",
      "[CV] ......... C=1000, gamma=1, kernel=rbf, score=0.850, total=   0.3s\n",
      "[CV] C=1000, gamma=1, kernel=rbf .....................................\n",
      "[CV] ......... C=1000, gamma=1, kernel=rbf, score=0.800, total=   0.3s\n",
      "[CV] C=1000, gamma=1, kernel=rbf .....................................\n",
      "[CV] ......... C=1000, gamma=1, kernel=rbf, score=0.800, total=   0.3s\n",
      "[CV] C=1000, gamma=0.1, kernel=rbf ...................................\n",
      "[CV] ....... C=1000, gamma=0.1, kernel=rbf, score=0.810, total=   0.3s\n",
      "[CV] C=1000, gamma=0.1, kernel=rbf ...................................\n",
      "[CV] ....... C=1000, gamma=0.1, kernel=rbf, score=0.850, total=   0.3s\n",
      "[CV] C=1000, gamma=0.1, kernel=rbf ...................................\n",
      "[CV] ....... C=1000, gamma=0.1, kernel=rbf, score=0.850, total=   0.3s\n",
      "[CV] C=1000, gamma=0.1, kernel=rbf ...................................\n",
      "[CV] ....... C=1000, gamma=0.1, kernel=rbf, score=0.800, total=   0.3s\n",
      "[CV] C=1000, gamma=0.1, kernel=rbf ...................................\n",
      "[CV] ....... C=1000, gamma=0.1, kernel=rbf, score=0.800, total=   0.3s\n",
      "[CV] C=1000, gamma=0.01, kernel=rbf ..................................\n",
      "[CV] ...... C=1000, gamma=0.01, kernel=rbf, score=0.810, total=   0.3s\n",
      "[CV] C=1000, gamma=0.01, kernel=rbf ..................................\n",
      "[CV] ...... C=1000, gamma=0.01, kernel=rbf, score=0.850, total=   0.3s\n",
      "[CV] C=1000, gamma=0.01, kernel=rbf ..................................\n",
      "[CV] ...... C=1000, gamma=0.01, kernel=rbf, score=0.850, total=   0.3s\n",
      "[CV] C=1000, gamma=0.01, kernel=rbf ..................................\n",
      "[CV] ...... C=1000, gamma=0.01, kernel=rbf, score=0.800, total=   0.3s\n",
      "[CV] C=1000, gamma=0.01, kernel=rbf ..................................\n",
      "[CV] ...... C=1000, gamma=0.01, kernel=rbf, score=0.800, total=   0.3s\n",
      "[CV] C=1000, gamma=0.001, kernel=rbf .................................\n",
      "[CV] ..... C=1000, gamma=0.001, kernel=rbf, score=0.905, total=   0.2s\n",
      "[CV] C=1000, gamma=0.001, kernel=rbf .................................\n",
      "[CV] ..... C=1000, gamma=0.001, kernel=rbf, score=0.700, total=   0.2s\n",
      "[CV] C=1000, gamma=0.001, kernel=rbf .................................\n",
      "[CV] ..... C=1000, gamma=0.001, kernel=rbf, score=0.800, total=   0.2s\n",
      "[CV] C=1000, gamma=0.001, kernel=rbf .................................\n"
     ]
    },
    {
     "name": "stdout",
     "output_type": "stream",
     "text": [
      "[CV] ..... C=1000, gamma=0.001, kernel=rbf, score=0.850, total=   0.2s\n",
      "[CV] C=1000, gamma=0.001, kernel=rbf .................................\n",
      "[CV] ..... C=1000, gamma=0.001, kernel=rbf, score=0.850, total=   0.2s\n",
      "[CV] C=1000, gamma=0.0001, kernel=rbf ................................\n",
      "[CV] .... C=1000, gamma=0.0001, kernel=rbf, score=0.905, total=   0.1s\n",
      "[CV] C=1000, gamma=0.0001, kernel=rbf ................................\n",
      "[CV] .... C=1000, gamma=0.0001, kernel=rbf, score=0.750, total=   0.1s\n",
      "[CV] C=1000, gamma=0.0001, kernel=rbf ................................\n",
      "[CV] .... C=1000, gamma=0.0001, kernel=rbf, score=0.800, total=   0.1s\n",
      "[CV] C=1000, gamma=0.0001, kernel=rbf ................................\n",
      "[CV] .... C=1000, gamma=0.0001, kernel=rbf, score=0.800, total=   0.1s\n",
      "[CV] C=1000, gamma=0.0001, kernel=rbf ................................\n",
      "[CV] .... C=1000, gamma=0.0001, kernel=rbf, score=0.950, total=   0.1s\n"
     ]
    },
    {
     "name": "stderr",
     "output_type": "stream",
     "text": [
      "[Parallel(n_jobs=1)]: Done 125 out of 125 | elapsed:   31.6s finished\n"
     ]
    }
   ],
   "source": [
    "model = SVC(kernel = 'linear', random_state = 0, probability = True)\n",
    "\n",
    "param_grid = {'C': [0.1, 1, 10, 100, 1000],  \n",
    "              'gamma': [1, 0.1, 0.01, 0.001, 0.0001], \n",
    "              'kernel': ['rbf']}  \n",
    "  \n",
    "grid = GridSearchCV(model, param_grid, refit = True, verbose = 3) \n",
    "\n",
    "grid = grid.fit(train_select, y_train)\n"
   ]
  },
  {
   "cell_type": "code",
   "execution_count": 278,
   "metadata": {},
   "outputs": [
    {
     "name": "stdout",
     "output_type": "stream",
     "text": [
      "Best Parameters: {'C': 10, 'gamma': 0.0001, 'kernel': 'rbf'}\n",
      "Best model: SVC(C=10, gamma=0.0001, probability=True, random_state=0)\n"
     ]
    }
   ],
   "source": [
    "# print best parameter after tuning \n",
    "print('Best Parameters:', grid.best_params_) \n",
    "  \n",
    "# print how our model looks after hyper-parameter tuning \n",
    "print('Best model:', grid.best_estimator_)"
   ]
  },
  {
   "cell_type": "code",
   "execution_count": 279,
   "metadata": {},
   "outputs": [
    {
     "name": "stdout",
     "output_type": "stream",
     "text": [
      "Accuracy Score : 0.88\n",
      "Precision Score : 0.8787301587301587\n",
      "Recall Score : 0.88\n",
      "F1 Score : 0.8777142857142857\n",
      "Confusion Matrix : \n",
      " [[ 6  2]\n",
      " [ 1 16]]\n",
      "\n"
     ]
    }
   ],
   "source": [
    "model_hyper = SVC(C=1000, gamma=0.0001, probability=True, random_state=0)\n",
    "model_hyper.fit(train_select, y_train)\n",
    "\n",
    "y_pred = model_hyper.predict(testin)\n",
    "\n",
    "print('Accuracy Score : ' + str(accuracy_score(y_test,y_pred)))\n",
    "print('Precision Score : ' + str(precision_score(y_test,y_pred, average='weighted')))\n",
    "print('Recall Score : ' + str(recall_score(y_test,y_pred, average='weighted')))\n",
    "print('F1 Score : ' + str(f1_score(y_test,y_pred, average='weighted')))\n",
    "print('Confusion Matrix : \\n ' + str(confusion_matrix(y_test,y_pred)) + '\\n')\n",
    "accuracy_hyper = accuracy_score(y_test,y_pred)\n",
    "precision_hyper = precision_score(y_test,y_pred, average='weighted')\n",
    "recall_hyper = recall_score(y_test,y_pred, average='weighted')\n",
    "f1_hyper = f1_score(y_test,y_pred, average='weighted')"
   ]
  },
  {
   "cell_type": "code",
   "execution_count": 280,
   "metadata": {},
   "outputs": [
    {
     "name": "stdout",
     "output_type": "stream",
     "text": [
      "Accuracy Scores: [0.9047619 0.75      0.8       0.8       0.95     ] \n",
      "\n",
      "Accuracy Scores mean: 0.840952380952381\n",
      "Accuracy Scores std: 0.07428266171994338\n"
     ]
    }
   ],
   "source": [
    "accuracy = cross_val_score (estimator =  model_hyper, X = train_select, y = y_train, cv = 5, n_jobs = -1)\n",
    "print(f\"Accuracy Scores: {accuracy} \\n\")\n",
    "print(f'Accuracy Scores mean: {accuracy.mean()}')\n",
    "print(f'Accuracy Scores std: {accuracy.std()}')"
   ]
  },
  {
   "cell_type": "code",
   "execution_count": 281,
   "metadata": {},
   "outputs": [
    {
     "name": "stdout",
     "output_type": "stream",
     "text": [
      "SVM: accuracy: 0.96 precision: 0.9444444444444444 recall: 1.0 f1_SCORE: 0.9714285714285714\n",
      "SVM_Hyper: accuracy: 0.88 precision: 0.8787301587301587 recall: 0.88 f1_SCORE: 0.8777142857142857\n"
     ]
    }
   ],
   "source": [
    "print('SVM:', 'accuracy:', accuracy_svm, 'precision:', precision_svm,  'recall:', recall_svm, 'f1_SCORE:', f1_svm)\n",
    "print('SVM_Hyper:', 'accuracy:', accuracy_hyper, 'precision:', precision_hyper,  'recall:', recall_hyper, 'f1_SCORE:', f1_hyper)"
   ]
  },
  {
   "cell_type": "markdown",
   "metadata": {},
   "source": [
    "We also implemented Hyperparameter optimization  to improve our results. However, no improvement was observed."
   ]
  },
  {
   "cell_type": "markdown",
   "metadata": {},
   "source": [
    "### Naive Bayes"
   ]
  },
  {
   "cell_type": "code",
   "execution_count": 282,
   "metadata": {},
   "outputs": [
    {
     "name": "stdout",
     "output_type": "stream",
     "text": [
      "Accuracy Score : 0.88\n",
      "Precision Score : 1.0\n",
      "Recall Score : 0.8235294117647058\n",
      "F1 Score : 0.9032258064516129\n",
      "Confusion Matrix : \n",
      " [[ 8  0]\n",
      " [ 3 14]]\n",
      "\n"
     ]
    }
   ],
   "source": [
    "nb = GaussianNB()\n",
    "nb.fit(train_select, y_train)\n",
    "\n",
    "y_pred = nb.predict(testin)\n",
    "\n",
    "print('Accuracy Score : ' + str(accuracy_score(y_test,y_pred)))\n",
    "print('Precision Score : ' + str(precision_score(y_test,y_pred)))\n",
    "print('Recall Score : ' + str(recall_score(y_test,y_pred)))\n",
    "print('F1 Score : ' + str(f1_score(y_test,y_pred)))\n",
    "print('Confusion Matrix : \\n ' + str(confusion_matrix(y_test,y_pred)) + '\\n')"
   ]
  },
  {
   "cell_type": "markdown",
   "metadata": {},
   "source": [
    "##### Cross Validation"
   ]
  },
  {
   "cell_type": "code",
   "execution_count": 283,
   "metadata": {},
   "outputs": [
    {
     "name": "stdout",
     "output_type": "stream",
     "text": [
      "Accuracy Scores: [0.85714286 0.85       0.8        0.85       0.6       ] \n",
      "\n",
      "Accuracy Scores mean: 0.7914285714285715\n",
      "Accuracy Scores std: 0.09787538933120365\n"
     ]
    }
   ],
   "source": [
    "accuracy = cross_val_score (estimator =  nb, X = train_select, y = y_train, cv = 5, n_jobs = -1)\n",
    "print(f\"Accuracy Scores: {accuracy} \\n\")\n",
    "print(f'Accuracy Scores mean: {accuracy.mean()}')\n",
    "print(f'Accuracy Scores std: {accuracy.std()}')"
   ]
  },
  {
   "cell_type": "markdown",
   "metadata": {},
   "source": [
    "##### ROC curve, Precision-Recall curve and AUC"
   ]
  },
  {
   "cell_type": "code",
   "execution_count": 284,
   "metadata": {},
   "outputs": [
    {
     "name": "stdout",
     "output_type": "stream",
     "text": [
      "NO SKILL: ROC AUC=0.500\n",
      "NB: ROC AUC=0.912\n",
      "Logistic:  Precision-Recall f1=0.903 auc=0.969\n"
     ]
    },
    {
     "data": {
      "image/png": "[encoded data removed]",
      "text/plain": [
       "<Figure size 1080x288 with 2 Axes>"
      ]
     },
     "metadata": {
      "needs_background": "light"
     },
     "output_type": "display_data"
    }
   ],
   "source": [
    "fig, (ax1, ax2) = plt.subplots(1,2, figsize=(15,4))\n",
    "\n",
    "ns_probs = [1 for _ in range(len(y_test))]\n",
    "\n",
    "nb_probs = nb.predict_proba(testin)\n",
    "nb_probs = nb_probs[:, 1]\n",
    "\n",
    "ns_auc = roc_auc_score(y_test, ns_probs)\n",
    "nb_roc_auc = roc_auc_score(y_test, nb_probs)\n",
    "\n",
    "# summarize scores\n",
    "print('NO SKILL: ROC AUC=%.3f' % (ns_auc))\n",
    "print('NB: ROC AUC=%.3f' % (nb_roc_auc))\n",
    "\n",
    "ns_fpr, ns_tpr, _ = roc_curve(y_test, ns_probs)\n",
    "nb_fpr, nb_tpr, _ = roc_curve(y_test, nb_probs)\n",
    "\n",
    "ax1.plot(ns_fpr, ns_tpr, linestyle='--', label='NO SKILL')\n",
    "ax1.plot(nb_fpr, nb_tpr, marker='.', label='NB')\n",
    "ax1.set_xlabel('False Positive Rate')\n",
    "ax1.set_ylabel('True Positive Rate')\n",
    "ax1.set_title('ROC Curve')\n",
    "ax1.legend()\n",
    "\n",
    "#Precision-Recall Curve\n",
    "predd = nb.predict(testin)\n",
    "\n",
    "nb_precision,nb_recall, _ = precision_recall_curve(y_test, nb_probs)\n",
    "nb_f1, nb_auc = f1_score(y_test, predd), auc(nb_recall, nb_precision)\n",
    "\n",
    "print('Logistic:  Precision-Recall f1=%.3f auc=%.3f' % (nb_f1, nb_auc))\n",
    "\n",
    "no_model = len(y_test[y_test==1]) / len(y_test)\n",
    "ax2.plot([0, 1], [no_model, no_model], linestyle='--', label='NO SKILL')\n",
    "ax2.plot(nb_recall, nb_precision, marker='.', label='Naive Bayes classifiers')\n",
    "\n",
    "ax2.set_xlabel('Recall')\n",
    "ax2.set_ylabel('Precision')\n",
    "ax2.set_title('Precision-Recall Curve')\n",
    "plt.show()"
   ]
  },
  {
   "cell_type": "markdown",
   "metadata": {},
   "source": [
    "### Random Forest"
   ]
  },
  {
   "cell_type": "code",
   "execution_count": 285,
   "metadata": {},
   "outputs": [
    {
     "name": "stdout",
     "output_type": "stream",
     "text": [
      "Accuracy Score : 0.84\n",
      "Precision Score : 0.8095238095238095\n",
      "Recall Score : 1.0\n",
      "F1 Score : 0.8947368421052632\n",
      "Confusion Matrix : \n",
      " [[ 4  4]\n",
      " [ 0 17]]\n",
      "\n"
     ]
    }
   ],
   "source": [
    "rf = RandomForestClassifier(random_state = 0)\n",
    "rf.fit(train_select, y_train)\n",
    "\n",
    "y_pred = rf.predict(testin)\n",
    "\n",
    "print('Accuracy Score : ' + str(accuracy_score(y_test,y_pred)))\n",
    "print('Precision Score : ' + str(precision_score(y_test,y_pred)))\n",
    "print('Recall Score : ' + str(recall_score(y_test,y_pred)))\n",
    "print('F1 Score : ' + str(f1_score(y_test,y_pred)))\n",
    "print('Confusion Matrix : \\n ' + str(confusion_matrix(y_test,y_pred)) + '\\n')"
   ]
  },
  {
   "cell_type": "markdown",
   "metadata": {},
   "source": [
    "##### Cross Validation"
   ]
  },
  {
   "cell_type": "code",
   "execution_count": 286,
   "metadata": {},
   "outputs": [
    {
     "name": "stdout",
     "output_type": "stream",
     "text": [
      "Accuracy Scores: [0.9047619 0.7       0.8       0.9       0.75     ] \n",
      "\n",
      "Accuracy Scores mean: 0.8109523809523811\n",
      "Accuracy Scores std: 0.08108672326184113\n"
     ]
    }
   ],
   "source": [
    "accuracy = cross_val_score (estimator =  rf, X = train_select, y = y_train, cv = 5, n_jobs = -1)\n",
    "print(f\"Accuracy Scores: {accuracy} \\n\")\n",
    "print(f'Accuracy Scores mean: {accuracy.mean()}')\n",
    "print(f'Accuracy Scores std: {accuracy.std()}')"
   ]
  },
  {
   "cell_type": "markdown",
   "metadata": {},
   "source": [
    "##### ROC curve, Precision-Recall curve and AUC"
   ]
  },
  {
   "cell_type": "code",
   "execution_count": 287,
   "metadata": {
    "scrolled": true
   },
   "outputs": [
    {
     "name": "stdout",
     "output_type": "stream",
     "text": [
      "NO SKILL: ROC AUC=0.500\n",
      "RF: ROC AUC=0.886\n",
      "Logistic:  Precision-Recall f1=0.895 auc=0.938\n"
     ]
    },
    {
     "data": {
      "image/png": "[encoded data removed]",
      "text/plain": [
       "<Figure size 1080x288 with 2 Axes>"
      ]
     },
     "metadata": {
      "needs_background": "light"
     },
     "output_type": "display_data"
    }
   ],
   "source": [
    "fig, (ax1, ax2) = plt.subplots(1,2, figsize=(15,4))\n",
    "\n",
    "rf_probs = [1 for _ in range(len(y_test))]\n",
    "\n",
    "rf_probs = rf.predict_proba(testin)\n",
    "rf_probs = rf_probs[:, 1]\n",
    "\n",
    "ns_auc = roc_auc_score(y_test, ns_probs)\n",
    "rf_roc_auc = roc_auc_score(y_test, rf_probs)\n",
    "\n",
    "# summarize scores\n",
    "print('NO SKILL: ROC AUC=%.3f' % (ns_auc))\n",
    "print('RF: ROC AUC=%.3f' % (rf_roc_auc))\n",
    "\n",
    "ns_fpr, ns_tpr, _ = roc_curve(y_test, ns_probs)\n",
    "rf_fpr, rf_tpr, _ = roc_curve(y_test, rf_probs)\n",
    "\n",
    "ax1.plot(ns_fpr, ns_tpr, linestyle='--', label='NO SKILL')\n",
    "ax1.plot(rf_fpr, rf_tpr, marker='.', label='RF')\n",
    "ax1.set_xlabel('False Positive Rate')\n",
    "ax1.set_ylabel('True Positive Rate')\n",
    "ax1.set_title('ROC Curve')\n",
    "ax1.legend()\n",
    "\n",
    "#Precision-Recall Curve\n",
    "predd = rf.predict(testin)\n",
    "\n",
    "rf_precision, rf_recall, _ = precision_recall_curve(y_test,rf_probs)\n",
    "rf_f1, rf_auc = f1_score(y_test, predd), auc(rf_recall, rf_precision)\n",
    "\n",
    "print('Logistic:  Precision-Recall f1=%.3f auc=%.3f' % (rf_f1, rf_auc))\n",
    "\n",
    "no_model = len(y_test[y_test==1]) / len(y_test)\n",
    "ax2.plot([0, 1], [no_model, no_model], linestyle='--', label='NO v')\n",
    "ax2.plot(rf_recall, rf_precision, marker='.', label='Random forest')\n",
    "\n",
    "ax2.set_xlabel('Recall')\n",
    "ax2.set_ylabel('Precision')\n",
    "ax2.set_title('Precision-Recall Curve')\n",
    "plt.show()"
   ]
  },
  {
   "cell_type": "markdown",
   "metadata": {},
   "source": [
    "### Decision Tree"
   ]
  },
  {
   "cell_type": "code",
   "execution_count": 288,
   "metadata": {},
   "outputs": [
    {
     "name": "stdout",
     "output_type": "stream",
     "text": [
      "Accuracy Score : 0.88\n",
      "Precision Score : 0.8888888888888888\n",
      "Recall Score : 0.9411764705882353\n",
      "F1 Score : 0.9142857142857143\n",
      "Confusion Matrix : \n",
      " [[ 6  2]\n",
      " [ 1 16]]\n",
      "\n"
     ]
    }
   ],
   "source": [
    "dt = DecisionTreeClassifier(criterion = 'entropy', random_state = 0)\n",
    "dt.fit(train_select, y_train)\n",
    "\n",
    "y_pred = dt.predict(testin)\n",
    "\n",
    "print('Accuracy Score : ' + str(accuracy_score(y_test,y_pred)))\n",
    "print('Precision Score : ' + str(precision_score(y_test,y_pred)))\n",
    "print('Recall Score : ' + str(recall_score(y_test,y_pred)))\n",
    "print('F1 Score : ' + str(f1_score(y_test,y_pred)))\n",
    "print('Confusion Matrix : \\n ' + str(confusion_matrix(y_test,y_pred)) + '\\n')"
   ]
  },
  {
   "cell_type": "markdown",
   "metadata": {},
   "source": [
    "##### Cross Validation"
   ]
  },
  {
   "cell_type": "code",
   "execution_count": 289,
   "metadata": {},
   "outputs": [
    {
     "name": "stdout",
     "output_type": "stream",
     "text": [
      "Accuracy Scores: [0.85714286 0.7        0.85       0.9        0.75      ] \n",
      "\n",
      "Accuracy Scores mean: 0.8114285714285714\n",
      "Accuracy Scores std: 0.07431318173508546\n"
     ]
    }
   ],
   "source": [
    "accuracy = cross_val_score (estimator =  dt, X = train_select, y = y_train, cv = 5, n_jobs = -1)\n",
    "print(f\"Accuracy Scores: {accuracy} \\n\")\n",
    "print(f'Accuracy Scores mean: {accuracy.mean()}')\n",
    "print(f'Accuracy Scores std: {accuracy.std()}')"
   ]
  },
  {
   "cell_type": "markdown",
   "metadata": {},
   "source": [
    "##### ROC curve, Precision-Recall curve and AUC"
   ]
  },
  {
   "cell_type": "code",
   "execution_count": 290,
   "metadata": {},
   "outputs": [
    {
     "name": "stdout",
     "output_type": "stream",
     "text": [
      "NO SKILL: ROC AUC=0.500\n",
      "DT: ROC AUC=0.846\n",
      "Logistic:  Precision-Recall f1=0.914 auc=0.935\n"
     ]
    },
    {
     "data": {
      "image/png": "[encoded data removed]",
      "text/plain": [
       "<Figure size 1080x288 with 2 Axes>"
      ]
     },
     "metadata": {
      "needs_background": "light"
     },
     "output_type": "display_data"
    }
   ],
   "source": [
    "fig, (ax1, ax2) = plt.subplots(1,2, figsize=(15,4))\n",
    "\n",
    "dt_probs = [1 for _ in range(len(y_test))]\n",
    "\n",
    "dt_probs = dt.predict_proba(testin)\n",
    "dt_probs = dt_probs[:, 1]\n",
    "\n",
    "ns_auc = roc_auc_score(y_test, ns_probs)\n",
    "dt_roc_auc = roc_auc_score(y_test, dt_probs)\n",
    "\n",
    "# summarize scores\n",
    "print('NO SKILL: ROC AUC=%.3f' % (ns_auc))\n",
    "print('DT: ROC AUC=%.3f' % (dt_roc_auc))\n",
    "\n",
    "ns_fpr, ns_tpr, _ = roc_curve(y_test, ns_probs)\n",
    "dt_fpr, dt_tpr, _ = roc_curve(y_test, dt_probs)\n",
    "\n",
    "ax1.plot(ns_fpr, ns_tpr, linestyle='--', label='NO SKILL')\n",
    "ax1.plot(dt_fpr, dt_tpr, marker='.', label='DT')\n",
    "ax1.set_xlabel('False Positive Rate')\n",
    "ax1.set_ylabel('True Positive Rate')\n",
    "ax1.set_title('ROC Curve')\n",
    "ax1.legend()\n",
    "\n",
    "#Precision-Recall Curve\n",
    "predd = dt.predict(testin)\n",
    "\n",
    "dt_precision, dt_recall, _ = precision_recall_curve(y_test, dt_probs)\n",
    "dt_f1, dt_auc = f1_score(y_test, predd), auc(dt_recall, dt_precision)\n",
    "\n",
    "print('Logistic:  Precision-Recall f1=%.3f auc=%.3f' % (dt_f1, dt_auc))\n",
    "\n",
    "no_model = len(y_test[y_test==1]) / len(y_test)\n",
    "ax2.plot([0, 1], [no_model, no_model], linestyle='--', label='NO SKILL')\n",
    "ax2.plot(dt_recall, dt_precision, marker='.', label='Decision tree')\n",
    "\n",
    "ax2.set_xlabel('Recall')\n",
    "ax2.set_ylabel('Precision')\n",
    "ax2.set_title('Precision-Recall Curve')\n",
    "plt.show()"
   ]
  },
  {
   "cell_type": "markdown",
   "metadata": {},
   "source": [
    "### Summary\n",
    "We have compiled a summary of the AUC results from the different models."
   ]
  },
  {
   "cell_type": "code",
   "execution_count": 291,
   "metadata": {},
   "outputs": [
    {
     "name": "stdout",
     "output_type": "stream",
     "text": [
      "Logistic Regression  F1=1.000  : ROC AUC=1.000  : Precision-Recall AUC=1.000\n",
      "KNN  F1=0.875  : ROC AUC=0.893  : Precision-Recall AUC=0.950\n",
      "SVM  F1=0.971  : ROC AUC=1.000  : Precision-Recall AUC=1.000\n",
      "Naive Bayes  F1=0.903  : ROC AUC=0.912  : Precision-Recall AUC=0.969\n",
      "Random Forest  F1=0.895  : ROC AUC=0.886  : Precision-Recall AUC=0.938\n",
      "Decision Tree  F1=0.914  : ROC AUC=0.846  : Precision-Recall AUC=0.935\n"
     ]
    }
   ],
   "source": [
    "models = {'Logistic Regression' : (lr_f1, lr_roc_auc, lr_auc), 'KNN': (knn_f1, knn_roc_auc, knn_auc), 'SVM': (svm_f1, svm_roc_auc, svm_auc), 'Naive Bayes' : (nb_f1, nb_roc_auc, nb_auc), 'Random Forest':(rf_f1, rf_roc_auc,  rf_auc), 'Decision Tree': (dt_f1, dt_roc_auc, dt_auc)}\n",
    "\n",
    "for i in models:\n",
    "    print(i, ' F1=%.3f' % (models[i][0]), ' : ROC AUC=%.3f' % (models[i][1]), ' : Precision-Recall AUC=%.3f' % (models[i][2]))"
   ]
  },
  {
   "cell_type": "markdown",
   "metadata": {},
   "source": [
    "### Discussion\n",
    "\n",
    "Examination of the individual predictions from the distinct models, allowed us to identify that the majority predicts correctly the patients' health status. \n",
    "In the case, of the F1 Score the the values varies between 0.875-1.000 , that shows the precision and recall of the test. \n",
    "The precision is the number of correctly identified positive results divided by the number of all positive results, including those not identified correctly. \n",
    "The recall is the number of correctly identified positive results divided by the number of all samples that should have been identified as positive.\n",
    "This way the use of a combination of the two is useful when analyzing imbalanced observations.\n",
    "\n",
    "We also performed Receiver Operating Characteristics (ROC), Precision-Recall and respective Area Under Curve (AUC) . \n",
    "This results have been plotted in ROC curve and Precision-Recall curve of each model. \n",
    "In the case of ROC AUC the the values varies between 0.846 - 1.000 and  the Precision-Recall AUC values between 0.935-1.000.\n",
    "Higher values of the AUC, the better the model is, this implies that the models presented perform mostly correct predictions.\n",
    "\n",
    "In the case of the precision-recall curve, that show the precision/recall of the classification models in comparison to a no \n",
    "skill classifier: we also verify  that Logistic Regression and SVM shows the higher area under the precision-recall curve meaning a better model. In the  case of SVM model we also implemented Hyperparameter optimization  to improve our results. However, no improvement was observed.\n",
    "\n",
    "Having this into account, we have determined the Logistic Regression model has the higher AUC value in ROC and Precission-Recall and also has the higher F1 value, when compared to the other models.  Also, the metrics of this model are all 1.00, than it was possible to predict correctly all disease state from the pacients.\n",
    "Therefore we belive Logistic Regressio model is the best model for this end point."
   ]
  },
  {
   "cell_type": "markdown",
   "metadata": {},
   "source": [
    "## DISEASE STATE - BEST MODEL"
   ]
  },
  {
   "cell_type": "code",
   "execution_count": 165,
   "metadata": {},
   "outputs": [
    {
     "name": "stdout",
     "output_type": "stream",
     "text": [
      "Accuracy Score : 0.68\n",
      "Precision Score : 0.68\n",
      "Recall Score : 1.0\n",
      "F1 Score : 0.8095238095238095\n",
      "Confusion Matrix : \n",
      " [[ 0  8]\n",
      " [ 0 17]]\n",
      "\n"
     ]
    }
   ],
   "source": [
    "best = lr\n",
    "\n",
    "y_pred = best.predict(testin)\n",
    "\n",
    "print('Accuracy Score : ' + str(accuracy_score(y_test,y_pred)))\n",
    "print('Precision Score : ' + str(precision_score(y_test,y_pred)))\n",
    "print('Recall Score : ' + str(recall_score(y_test,y_pred)))\n",
    "print('F1 Score : ' + str(f1_score(y_test,y_pred)))\n",
    "print('Confusion Matrix : \\n ' + str(confusion_matrix(y_test,y_pred)) + '\\n') "
   ]
  },
  {
   "cell_type": "code",
   "execution_count": 166,
   "metadata": {},
   "outputs": [
    {
     "name": "stdout",
     "output_type": "stream",
     "text": [
      "Accuracy Scores: [0.80952381 0.85       0.85       0.8        0.8       ] \n",
      "\n",
      "Accuracy Scores mean: 0.8219047619047618\n",
      "Accuracy Scores std: 0.02320176707634251\n"
     ]
    }
   ],
   "source": [
    "accuracy = cross_val_score (estimator =  best, X = train_select, y = y_train, cv = 5, n_jobs = -1)\n",
    "print(f\"Accuracy Scores: {accuracy} \\n\")\n",
    "print(f'Accuracy Scores mean: {accuracy.mean()}')\n",
    "print(f'Accuracy Scores std: {accuracy.std()}')"
   ]
  },
  {
   "cell_type": "code",
   "execution_count": 167,
   "metadata": {},
   "outputs": [
    {
     "name": "stdout",
     "output_type": "stream",
     "text": [
      "Accuracy Score : 0.8316831683168316\n",
      "Precision Score : 0.83\n",
      "Recall Score : 1.0\n",
      "F1 Score : 0.9071038251366119\n",
      "Confusion Matrix : \n",
      "[[ 1 17]\n",
      " [ 0 83]]\n",
      "\n"
     ]
    }
   ],
   "source": [
    "y_pred = best.predict(train_select)\n",
    "\n",
    "print('Accuracy Score : ' + str(accuracy_score(y_train,y_pred)))\n",
    "print('Precision Score : ' + str(precision_score(y_train,y_pred)))\n",
    "print('Recall Score : ' + str(recall_score(y_train,y_pred)))\n",
    "print('F1 Score : ' + str(f1_score(y_train,y_pred)))\n",
    "\n",
    "print('Confusion Matrix : \\n' + str(confusion_matrix(y_train,y_pred)) + '\\n')"
   ]
  },
  {
   "cell_type": "markdown",
   "metadata": {},
   "source": [
    "### Ensemble"
   ]
  },
  {
   "cell_type": "code",
   "execution_count": 292,
   "metadata": {},
   "outputs": [
    {
     "name": "stderr",
     "output_type": "stream",
     "text": [
      "C:\\Users\\catia\\anaconda3\\lib\\site-packages\\sklearn\\linear_model\\_logistic.py:762: ConvergenceWarning: lbfgs failed to converge (status=1):\n",
      "STOP: TOTAL NO. of ITERATIONS REACHED LIMIT.\n",
      "\n",
      "Increase the number of iterations (max_iter) or scale the data as shown in:\n",
      "    https://scikit-learn.org/stable/modules/preprocessing.html\n",
      "Please also refer to the documentation for alternative solver options:\n",
      "    https://scikit-learn.org/stable/modules/linear_model.html#logistic-regression\n",
      "  n_iter_i = _check_optimize_result(\n"
     ]
    },
    {
     "name": "stdout",
     "output_type": "stream",
     "text": [
      "Accuracy Score : 1.0\n",
      "Precision Score : 1.0\n",
      "Recall Score : 1.0\n",
      "F1 Score : 1.0\n",
      "Confusion Matrix : \n",
      " [[ 8  0]\n",
      " [ 0 17]]\n",
      "\n"
     ]
    }
   ],
   "source": [
    "from sklearn.ensemble import VotingClassifier\n",
    "\n",
    "clf1 = LogisticRegression(max_iter = 150, random_state = 0)\n",
    "clf2 = SVC(kernel = 'linear', random_state = 0, probability = True)\n",
    "clf3 = DecisionTreeClassifier(criterion = 'entropy', random_state = 0)\n",
    "\n",
    "ensemble= VotingClassifier(estimators=[('lr', clf1), ('svc', clf2), ('dt', clf3)], voting='hard')\n",
    "\n",
    "ensemble.fit(train_select, y_train)\n",
    "y_pred = ensemble.predict(testin)\n",
    "\n",
    "print('Accuracy Score : ' + str(accuracy_score(y_test,y_pred)))\n",
    "print('Precision Score : ' + str(precision_score(y_test,y_pred)))\n",
    "print('Recall Score : ' + str(recall_score(y_test,y_pred)))\n",
    "print('F1 Score : ' + str(f1_score(y_test,y_pred)))\n",
    "print('Confusion Matrix : \\n ' + str(confusion_matrix(y_test,y_pred)) + '\\n') "
   ]
  },
  {
   "cell_type": "markdown",
   "metadata": {},
   "source": [
    "We performed ensemble of the of the 3 best models for this end point. \n",
    "The models chosen were Logistic Regression, SVM and Decision Tree. \n",
    "The first two have the best accuracy and standart deviation in cross validation results while the latter one presents the best AUC in Precision-Recall graphs.\n",
    "\n",
    "The Ensemble model presents the same results of the Logistic Regression model."
   ]
  },
  {
   "cell_type": "markdown",
   "metadata": {},
   "source": [
    "## APACHE II - Numeric"
   ]
  },
  {
   "cell_type": "markdown",
   "metadata": {},
   "source": [
    "As the number of cases to test for Coronavirus is increasing rapidly day by day, it is impossible to test due to the time and cost factors. Over recent years, machine learning has turned very reliable in the medical field. Using machine learning to predict COVID-19 in patients will reduce the time delay for the results of the medical tests and modulate health workers to give proper medical treatment to them.\n",
    "\n",
    "The main goal of this analysis is to develop a machine learning model with the ability to predict COVID-19 severity early on in admission would help clinicians prioritize patients for treatments\n",
    "To create the models we have split the omic data provided in to train and test datasets, where the former corresponds to 1/5 of the full data (Train and Test split section).\n",
    "\n",
    "We also selected 30% of the features in our dataset (Feature Selection section) to reduce dimensionality and possibly improve our models.\n",
    "\n",
    "For this end point we have performed:\n",
    "\n",
    " - Linear Regression\n",
    " - Neural Network Regression\n",
    " - Support Vector Regression \n",
    " - Random Forest Regression\n",
    " - Decision Tree Regression\n",
    "\n",
    "We performed cross-validation for each of our models and computed the resulting metrics from the test set prediction. We determine R<sup>2</sup> (coefficient of determination), xplained Variance Scores, Median Absolute Error (MAE) and the  Median Squared Error (MSE) measures.\n",
    "\n"
   ]
  },
  {
   "cell_type": "markdown",
   "metadata": {},
   "source": [
    "Train and Test split"
   ]
  },
  {
   "cell_type": "code",
   "execution_count": 168,
   "metadata": {},
   "outputs": [
    {
     "data": {
      "text/html": [
       "<div>\n",
       "<style scoped>\n",
       "    .dataframe tbody tr th:only-of-type {\n",
       "        vertical-align: middle;\n",
       "    }\n",
       "\n",
       "    .dataframe tbody tr th {\n",
       "        vertical-align: top;\n",
       "    }\n",
       "\n",
       "    .dataframe thead th {\n",
       "        text-align: right;\n",
       "    }\n",
       "</style>\n",
       "<table border=\"1\" class=\"dataframe\">\n",
       "  <thead>\n",
       "    <tr style=\"text-align: right;\">\n",
       "      <th></th>\n",
       "      <th>index</th>\n",
       "      <th>title</th>\n",
       "      <th>geo_accession</th>\n",
       "      <th>status</th>\n",
       "      <th>submission_date</th>\n",
       "      <th>last_update_date</th>\n",
       "      <th>type</th>\n",
       "      <th>channel_count</th>\n",
       "      <th>source_name_ch1</th>\n",
       "      <th>organism_ch1</th>\n",
       "      <th>...</th>\n",
       "      <th>supplementary_file_1</th>\n",
       "      <th>series_id</th>\n",
       "      <th>data_row_count</th>\n",
       "      <th>characteristics_ch1.14.fibrinogen</th>\n",
       "      <th>characteristics_ch1.15.sofa</th>\n",
       "      <th>characteristics_ch1.16.associated controlled-vocabulary terms</th>\n",
       "      <th>characteristics_ch1.17.cell type</th>\n",
       "      <th>characteristics_ch1.18.tissue of origin</th>\n",
       "      <th>characteristics_ch1.19.sample type</th>\n",
       "      <th>disease_state</th>\n",
       "    </tr>\n",
       "  </thead>\n",
       "  <tbody>\n",
       "    <tr>\n",
       "      <th>0</th>\n",
       "      <td>GSM4753021</td>\n",
       "      <td>COVID_01_39y_male_NonICU</td>\n",
       "      <td>GSM4753021</td>\n",
       "      <td>Public on Aug 29 2020</td>\n",
       "      <td>Aug 28 2020</td>\n",
       "      <td>Aug 29 2020</td>\n",
       "      <td>SRA</td>\n",
       "      <td>1</td>\n",
       "      <td>Leukocytes from whole blood</td>\n",
       "      <td>Homo sapiens</td>\n",
       "      <td>...</td>\n",
       "      <td>NONE</td>\n",
       "      <td>GSE157103</td>\n",
       "      <td>0</td>\n",
       "      <td>NaN</td>\n",
       "      <td>NaN</td>\n",
       "      <td>NaN</td>\n",
       "      <td>NaN</td>\n",
       "      <td>NaN</td>\n",
       "      <td>NaN</td>\n",
       "      <td>1</td>\n",
       "    </tr>\n",
       "    <tr>\n",
       "      <th>1</th>\n",
       "      <td>GSM4753022</td>\n",
       "      <td>COVID_02_63y_male_NonICU</td>\n",
       "      <td>GSM4753022</td>\n",
       "      <td>Public on Aug 29 2020</td>\n",
       "      <td>Aug 28 2020</td>\n",
       "      <td>Aug 29 2020</td>\n",
       "      <td>SRA</td>\n",
       "      <td>1</td>\n",
       "      <td>Leukocytes from whole blood</td>\n",
       "      <td>Homo sapiens</td>\n",
       "      <td>...</td>\n",
       "      <td>NONE</td>\n",
       "      <td>GSE157103</td>\n",
       "      <td>0</td>\n",
       "      <td>NaN</td>\n",
       "      <td>NaN</td>\n",
       "      <td>NaN</td>\n",
       "      <td>NaN</td>\n",
       "      <td>NaN</td>\n",
       "      <td>NaN</td>\n",
       "      <td>1</td>\n",
       "    </tr>\n",
       "    <tr>\n",
       "      <th>2</th>\n",
       "      <td>GSM4753023</td>\n",
       "      <td>COVID_03_33y_male_NonICU</td>\n",
       "      <td>GSM4753023</td>\n",
       "      <td>Public on Aug 29 2020</td>\n",
       "      <td>Aug 28 2020</td>\n",
       "      <td>Aug 29 2020</td>\n",
       "      <td>SRA</td>\n",
       "      <td>1</td>\n",
       "      <td>Leukocytes from whole blood</td>\n",
       "      <td>Homo sapiens</td>\n",
       "      <td>...</td>\n",
       "      <td>NONE</td>\n",
       "      <td>GSE157103</td>\n",
       "      <td>0</td>\n",
       "      <td>NaN</td>\n",
       "      <td>NaN</td>\n",
       "      <td>NaN</td>\n",
       "      <td>NaN</td>\n",
       "      <td>NaN</td>\n",
       "      <td>NaN</td>\n",
       "      <td>1</td>\n",
       "    </tr>\n",
       "    <tr>\n",
       "      <th>3</th>\n",
       "      <td>GSM4753024</td>\n",
       "      <td>COVID_04_49y_male_NonICU</td>\n",
       "      <td>GSM4753024</td>\n",
       "      <td>Public on Aug 29 2020</td>\n",
       "      <td>Aug 28 2020</td>\n",
       "      <td>Aug 29 2020</td>\n",
       "      <td>SRA</td>\n",
       "      <td>1</td>\n",
       "      <td>Leukocytes from whole blood</td>\n",
       "      <td>Homo sapiens</td>\n",
       "      <td>...</td>\n",
       "      <td>NONE</td>\n",
       "      <td>GSE157103</td>\n",
       "      <td>0</td>\n",
       "      <td>NaN</td>\n",
       "      <td>NaN</td>\n",
       "      <td>NaN</td>\n",
       "      <td>NaN</td>\n",
       "      <td>NaN</td>\n",
       "      <td>NaN</td>\n",
       "      <td>1</td>\n",
       "    </tr>\n",
       "    <tr>\n",
       "      <th>4</th>\n",
       "      <td>GSM4753025</td>\n",
       "      <td>COVID_05_49y_male_NonICU</td>\n",
       "      <td>GSM4753025</td>\n",
       "      <td>Public on Aug 29 2020</td>\n",
       "      <td>Aug 28 2020</td>\n",
       "      <td>Aug 29 2020</td>\n",
       "      <td>SRA</td>\n",
       "      <td>1</td>\n",
       "      <td>Leukocytes from whole blood</td>\n",
       "      <td>Homo sapiens</td>\n",
       "      <td>...</td>\n",
       "      <td>NONE</td>\n",
       "      <td>GSE157103</td>\n",
       "      <td>0</td>\n",
       "      <td>NaN</td>\n",
       "      <td>NaN</td>\n",
       "      <td>NaN</td>\n",
       "      <td>NaN</td>\n",
       "      <td>NaN</td>\n",
       "      <td>NaN</td>\n",
       "      <td>1</td>\n",
       "    </tr>\n",
       "    <tr>\n",
       "      <th>...</th>\n",
       "      <td>...</td>\n",
       "      <td>...</td>\n",
       "      <td>...</td>\n",
       "      <td>...</td>\n",
       "      <td>...</td>\n",
       "      <td>...</td>\n",
       "      <td>...</td>\n",
       "      <td>...</td>\n",
       "      <td>...</td>\n",
       "      <td>...</td>\n",
       "      <td>...</td>\n",
       "      <td>...</td>\n",
       "      <td>...</td>\n",
       "      <td>...</td>\n",
       "      <td>...</td>\n",
       "      <td>...</td>\n",
       "      <td>...</td>\n",
       "      <td>...</td>\n",
       "      <td>...</td>\n",
       "      <td>...</td>\n",
       "      <td>...</td>\n",
       "    </tr>\n",
       "    <tr>\n",
       "      <th>121</th>\n",
       "      <td>GSM4753142</td>\n",
       "      <td>NONCOVID_22_63y_male_NonICU</td>\n",
       "      <td>GSM4753142</td>\n",
       "      <td>Public on Aug 29 2020</td>\n",
       "      <td>Aug 28 2020</td>\n",
       "      <td>Aug 29 2020</td>\n",
       "      <td>SRA</td>\n",
       "      <td>1</td>\n",
       "      <td>Leukocytes from whole blood</td>\n",
       "      <td>Homo sapiens</td>\n",
       "      <td>...</td>\n",
       "      <td>NONE</td>\n",
       "      <td>GSE157103</td>\n",
       "      <td>0</td>\n",
       "      <td>NaN</td>\n",
       "      <td>NaN</td>\n",
       "      <td>NaN</td>\n",
       "      <td>NaN</td>\n",
       "      <td>NaN</td>\n",
       "      <td>NaN</td>\n",
       "      <td>0</td>\n",
       "    </tr>\n",
       "    <tr>\n",
       "      <th>122</th>\n",
       "      <td>GSM4753143</td>\n",
       "      <td>NONCOVID_23_42y_female_NonICU</td>\n",
       "      <td>GSM4753143</td>\n",
       "      <td>Public on Aug 29 2020</td>\n",
       "      <td>Aug 28 2020</td>\n",
       "      <td>Aug 29 2020</td>\n",
       "      <td>SRA</td>\n",
       "      <td>1</td>\n",
       "      <td>Leukocytes from whole blood</td>\n",
       "      <td>Homo sapiens</td>\n",
       "      <td>...</td>\n",
       "      <td>NONE</td>\n",
       "      <td>GSE157103</td>\n",
       "      <td>0</td>\n",
       "      <td>NaN</td>\n",
       "      <td>NaN</td>\n",
       "      <td>NaN</td>\n",
       "      <td>NaN</td>\n",
       "      <td>NaN</td>\n",
       "      <td>NaN</td>\n",
       "      <td>0</td>\n",
       "    </tr>\n",
       "    <tr>\n",
       "      <th>123</th>\n",
       "      <td>GSM4753144</td>\n",
       "      <td>NONCOVID_24_32y_female_NonICU</td>\n",
       "      <td>GSM4753144</td>\n",
       "      <td>Public on Aug 29 2020</td>\n",
       "      <td>Aug 28 2020</td>\n",
       "      <td>Aug 29 2020</td>\n",
       "      <td>SRA</td>\n",
       "      <td>1</td>\n",
       "      <td>Leukocytes from whole blood</td>\n",
       "      <td>Homo sapiens</td>\n",
       "      <td>...</td>\n",
       "      <td>NONE</td>\n",
       "      <td>GSE157103</td>\n",
       "      <td>0</td>\n",
       "      <td>NaN</td>\n",
       "      <td>NaN</td>\n",
       "      <td>NaN</td>\n",
       "      <td>NaN</td>\n",
       "      <td>NaN</td>\n",
       "      <td>NaN</td>\n",
       "      <td>0</td>\n",
       "    </tr>\n",
       "    <tr>\n",
       "      <th>124</th>\n",
       "      <td>GSM4753145</td>\n",
       "      <td>NONCOVID_25_62y_male_NonICU</td>\n",
       "      <td>GSM4753145</td>\n",
       "      <td>Public on Aug 29 2020</td>\n",
       "      <td>Aug 28 2020</td>\n",
       "      <td>Aug 29 2020</td>\n",
       "      <td>SRA</td>\n",
       "      <td>1</td>\n",
       "      <td>Leukocytes from whole blood</td>\n",
       "      <td>Homo sapiens</td>\n",
       "      <td>...</td>\n",
       "      <td>NONE</td>\n",
       "      <td>GSE157103</td>\n",
       "      <td>0</td>\n",
       "      <td>NaN</td>\n",
       "      <td>NaN</td>\n",
       "      <td>NaN</td>\n",
       "      <td>NaN</td>\n",
       "      <td>NaN</td>\n",
       "      <td>NaN</td>\n",
       "      <td>0</td>\n",
       "    </tr>\n",
       "    <tr>\n",
       "      <th>125</th>\n",
       "      <td>GSM4753146</td>\n",
       "      <td>NONCOVID_26_36y_male_ICU</td>\n",
       "      <td>GSM4753146</td>\n",
       "      <td>Public on Aug 29 2020</td>\n",
       "      <td>Aug 28 2020</td>\n",
       "      <td>Aug 29 2020</td>\n",
       "      <td>SRA</td>\n",
       "      <td>1</td>\n",
       "      <td>Leukocytes from whole blood</td>\n",
       "      <td>Homo sapiens</td>\n",
       "      <td>...</td>\n",
       "      <td>NONE</td>\n",
       "      <td>GSE157103</td>\n",
       "      <td>0</td>\n",
       "      <td>NaN</td>\n",
       "      <td>NaN</td>\n",
       "      <td>NaN</td>\n",
       "      <td>NaN</td>\n",
       "      <td>NaN</td>\n",
       "      <td>NaN</td>\n",
       "      <td>0</td>\n",
       "    </tr>\n",
       "  </tbody>\n",
       "</table>\n",
       "<p>126 rows × 63 columns</p>\n",
       "</div>"
      ],
      "text/plain": [
       "          index                          title geo_accession  \\\n",
       "0    GSM4753021       COVID_01_39y_male_NonICU    GSM4753021   \n",
       "1    GSM4753022       COVID_02_63y_male_NonICU    GSM4753022   \n",
       "2    GSM4753023       COVID_03_33y_male_NonICU    GSM4753023   \n",
       "3    GSM4753024       COVID_04_49y_male_NonICU    GSM4753024   \n",
       "4    GSM4753025       COVID_05_49y_male_NonICU    GSM4753025   \n",
       "..          ...                            ...           ...   \n",
       "121  GSM4753142    NONCOVID_22_63y_male_NonICU    GSM4753142   \n",
       "122  GSM4753143  NONCOVID_23_42y_female_NonICU    GSM4753143   \n",
       "123  GSM4753144  NONCOVID_24_32y_female_NonICU    GSM4753144   \n",
       "124  GSM4753145    NONCOVID_25_62y_male_NonICU    GSM4753145   \n",
       "125  GSM4753146       NONCOVID_26_36y_male_ICU    GSM4753146   \n",
       "\n",
       "                    status submission_date last_update_date type  \\\n",
       "0    Public on Aug 29 2020     Aug 28 2020      Aug 29 2020  SRA   \n",
       "1    Public on Aug 29 2020     Aug 28 2020      Aug 29 2020  SRA   \n",
       "2    Public on Aug 29 2020     Aug 28 2020      Aug 29 2020  SRA   \n",
       "3    Public on Aug 29 2020     Aug 28 2020      Aug 29 2020  SRA   \n",
       "4    Public on Aug 29 2020     Aug 28 2020      Aug 29 2020  SRA   \n",
       "..                     ...             ...              ...  ...   \n",
       "121  Public on Aug 29 2020     Aug 28 2020      Aug 29 2020  SRA   \n",
       "122  Public on Aug 29 2020     Aug 28 2020      Aug 29 2020  SRA   \n",
       "123  Public on Aug 29 2020     Aug 28 2020      Aug 29 2020  SRA   \n",
       "124  Public on Aug 29 2020     Aug 28 2020      Aug 29 2020  SRA   \n",
       "125  Public on Aug 29 2020     Aug 28 2020      Aug 29 2020  SRA   \n",
       "\n",
       "    channel_count              source_name_ch1  organism_ch1  ...  \\\n",
       "0               1  Leukocytes from whole blood  Homo sapiens  ...   \n",
       "1               1  Leukocytes from whole blood  Homo sapiens  ...   \n",
       "2               1  Leukocytes from whole blood  Homo sapiens  ...   \n",
       "3               1  Leukocytes from whole blood  Homo sapiens  ...   \n",
       "4               1  Leukocytes from whole blood  Homo sapiens  ...   \n",
       "..            ...                          ...           ...  ...   \n",
       "121             1  Leukocytes from whole blood  Homo sapiens  ...   \n",
       "122             1  Leukocytes from whole blood  Homo sapiens  ...   \n",
       "123             1  Leukocytes from whole blood  Homo sapiens  ...   \n",
       "124             1  Leukocytes from whole blood  Homo sapiens  ...   \n",
       "125             1  Leukocytes from whole blood  Homo sapiens  ...   \n",
       "\n",
       "    supplementary_file_1  series_id data_row_count  \\\n",
       "0                   NONE  GSE157103              0   \n",
       "1                   NONE  GSE157103              0   \n",
       "2                   NONE  GSE157103              0   \n",
       "3                   NONE  GSE157103              0   \n",
       "4                   NONE  GSE157103              0   \n",
       "..                   ...        ...            ...   \n",
       "121                 NONE  GSE157103              0   \n",
       "122                 NONE  GSE157103              0   \n",
       "123                 NONE  GSE157103              0   \n",
       "124                 NONE  GSE157103              0   \n",
       "125                 NONE  GSE157103              0   \n",
       "\n",
       "    characteristics_ch1.14.fibrinogen characteristics_ch1.15.sofa  \\\n",
       "0                                 NaN                         NaN   \n",
       "1                                 NaN                         NaN   \n",
       "2                                 NaN                         NaN   \n",
       "3                                 NaN                         NaN   \n",
       "4                                 NaN                         NaN   \n",
       "..                                ...                         ...   \n",
       "121                               NaN                         NaN   \n",
       "122                               NaN                         NaN   \n",
       "123                               NaN                         NaN   \n",
       "124                               NaN                         NaN   \n",
       "125                               NaN                         NaN   \n",
       "\n",
       "    characteristics_ch1.16.associated controlled-vocabulary terms  \\\n",
       "0                                                  NaN              \n",
       "1                                                  NaN              \n",
       "2                                                  NaN              \n",
       "3                                                  NaN              \n",
       "4                                                  NaN              \n",
       "..                                                 ...              \n",
       "121                                                NaN              \n",
       "122                                                NaN              \n",
       "123                                                NaN              \n",
       "124                                                NaN              \n",
       "125                                                NaN              \n",
       "\n",
       "    characteristics_ch1.17.cell type characteristics_ch1.18.tissue of origin  \\\n",
       "0                                NaN                                     NaN   \n",
       "1                                NaN                                     NaN   \n",
       "2                                NaN                                     NaN   \n",
       "3                                NaN                                     NaN   \n",
       "4                                NaN                                     NaN   \n",
       "..                               ...                                     ...   \n",
       "121                              NaN                                     NaN   \n",
       "122                              NaN                                     NaN   \n",
       "123                              NaN                                     NaN   \n",
       "124                              NaN                                     NaN   \n",
       "125                              NaN                                     NaN   \n",
       "\n",
       "    characteristics_ch1.19.sample type disease_state  \n",
       "0                                  NaN             1  \n",
       "1                                  NaN             1  \n",
       "2                                  NaN             1  \n",
       "3                                  NaN             1  \n",
       "4                                  NaN             1  \n",
       "..                                 ...           ...  \n",
       "121                                NaN             0  \n",
       "122                                NaN             0  \n",
       "123                                NaN             0  \n",
       "124                                NaN             0  \n",
       "125                                NaN             0  \n",
       "\n",
       "[126 rows x 63 columns]"
      ]
     },
     "execution_count": 168,
     "metadata": {},
     "output_type": "execute_result"
    }
   ],
   "source": [
    "metadata = metadata.reset_index()\n",
    "metadata"
   ]
  },
  {
   "cell_type": "code",
   "execution_count": 169,
   "metadata": {},
   "outputs": [
    {
     "name": "stdout",
     "output_type": "stream",
     "text": [
      "(19472, 126)\n",
      "(25,)\n"
     ]
    }
   ],
   "source": [
    "print(data_scaled.shape)\n",
    "print(y_test.shape)"
   ]
  },
  {
   "cell_type": "markdown",
   "metadata": {},
   "source": [
    "Feature Selection"
   ]
  },
  {
   "cell_type": "code",
   "execution_count": 170,
   "metadata": {},
   "outputs": [],
   "source": [
    "metadata['characteristics_ch1.4.apacheii'] = pd.to_numeric(metadata['characteristics_ch1.4.apacheii'],errors='coerce')\n",
    "np.random.seed(0)\n",
    "apac = metadata['characteristics_ch1.4.apacheii'].dropna()\n",
    "\n",
    "indices = np.random.permutation(len(data_scaled[apac.index]))\n",
    "train = data_scaled[apac.index]\n",
    "\n",
    "x_train = train[indices[:-25]]\n",
    "y_train = apac.iloc[indices[:-25]]\n",
    "\n",
    "x_test = data_scaled[indices[-25:]]\n",
    "y_test = apac.iloc[indices[-25:]]"
   ]
  },
  {
   "cell_type": "markdown",
   "metadata": {},
   "source": [
    "### Linear Regression"
   ]
  },
  {
   "cell_type": "code",
   "execution_count": 171,
   "metadata": {},
   "outputs": [
    {
     "name": "stdout",
     "output_type": "stream",
     "text": [
      "Explained Variance Score: -14162.702354841858\n",
      "Mean Absolute Error: 376.3298341940839\n",
      "Mean Squared Error: 853347.8832695489\n",
      "R^2 : -14773.028449957561\n"
     ]
    }
   ],
   "source": [
    "lreg = LinearRegression()\n",
    "lreg.fit(x_train, y_train)\n",
    "\n",
    "y_pred = lreg.predict(x_test)\n",
    "\n",
    "print('Explained Variance Score: ' + str(explained_variance_score(y_test, y_pred)))\n",
    "print('Mean Absolute Error: ' + str(mean_absolute_error(y_test, y_pred)))\n",
    "print('Mean Squared Error: ' + str(mean_squared_error(y_test,y_pred)))\n",
    "print('R^2 : ' + str(r2_score(y_test, y_pred)))\n",
    "lreg_r2 = r2_score(y_test, y_pred)"
   ]
  },
  {
   "cell_type": "markdown",
   "metadata": {},
   "source": [
    "##### Cross Validation"
   ]
  },
  {
   "cell_type": "code",
   "execution_count": 172,
   "metadata": {},
   "outputs": [
    {
     "name": "stdout",
     "output_type": "stream",
     "text": [
      "MSE: [-7.64683490e+04 -5.66514553e+05 -1.76046798e+02 -1.96832579e+04\n",
      " -1.25933686e+03] \n",
      "\n",
      "MSE mean: -132820.3086263194\n",
      "MSE std: 218617.94174908675\n"
     ]
    }
   ],
   "source": [
    "#MSE = 'mean_squared_error'\n",
    "mse = cross_val_score (estimator =  lreg, X = x_train, y = y_train, cv = 5, n_jobs = -1)\n",
    "print(f\"MSE: {mse} \\n\")\n",
    "print(f'MSE mean: {mse.mean()}')\n",
    "print(f'MSE std: {mse.std()}')\n",
    "lreg_mse = mse.mean()"
   ]
  },
  {
   "cell_type": "markdown",
   "metadata": {},
   "source": [
    "##### Cross Validation"
   ]
  },
  {
   "cell_type": "code",
   "execution_count": 173,
   "metadata": {},
   "outputs": [
    {
     "name": "stdout",
     "output_type": "stream",
     "text": [
      "MSE: [-7.64683490e+04 -5.66611423e+05 -1.76046798e+02 -1.96832579e+04\n",
      " -1.25933686e+03] \n",
      "\n",
      "MSE mean: -132839.68277213277\n",
      "MSE std: 218656.3762323834\n"
     ]
    }
   ],
   "source": [
    "#MSE = 'mean_squared_error'\n",
    "mse = cross_val_score (estimator =  lreg, X = x_train, y = y_train, cv = 5, n_jobs = -1)\n",
    "print(f\"MSE: {mse} \\n\")\n",
    "print(f'MSE mean: {mse.mean()}')\n",
    "print(f'MSE std: {mse.std()}')\n",
    "lreg_mse_over = mse.mean()"
   ]
  },
  {
   "cell_type": "markdown",
   "metadata": {},
   "source": [
    "### Neural Network Regression"
   ]
  },
  {
   "cell_type": "code",
   "execution_count": 174,
   "metadata": {},
   "outputs": [
    {
     "name": "stdout",
     "output_type": "stream",
     "text": [
      "Explained Variance Score: 0.1360393931163132\n",
      "Mean Absolute Error: 173.43081819534473\n",
      "Mean Squared Error: 46363.89494944419\n",
      "R^2 : 0.1294933622056107\n"
     ]
    }
   ],
   "source": [
    "data_scaled, apac = make_regression(n_samples = 126, random_state=1)\n",
    "x_train, x_test, y_train, y_test = train_test_split(data_scaled, apac, random_state=1)\n",
    "\n",
    "regr = MLPRegressor(random_state=1, max_iter=3000).fit(x_train, y_train)\n",
    "y_pred = regr.predict(x_test)\n",
    "\n",
    "print('Explained Variance Score: ' + str(explained_variance_score(y_test, y_pred)))\n",
    "print('Mean Absolute Error: ' + str(mean_absolute_error(y_test, y_pred)))\n",
    "print('Mean Squared Error: ' + str(mean_squared_error(y_test,y_pred)))\n",
    "print('R^2 : ' + str(r2_score(y_test, y_pred)))\n",
    "regr_r2 = r2_score(y_test, y_pred)"
   ]
  },
  {
   "cell_type": "markdown",
   "metadata": {},
   "source": [
    "##### Cross Validation"
   ]
  },
  {
   "cell_type": "code",
   "execution_count": 175,
   "metadata": {},
   "outputs": [
    {
     "name": "stdout",
     "output_type": "stream",
     "text": [
      "MSE: [ 0.03073947  0.37564675 -0.07571365  0.13728398  0.11120648] \n",
      "\n",
      "MSE mean: 0.11583260572348193\n",
      "MSE std: 0.14960999926694474\n"
     ]
    }
   ],
   "source": [
    "#MSE = 'mean_squared_error'\n",
    "mse = cross_val_score (estimator =  regr, X = x_train, y = y_train, cv = 5, n_jobs = -1)\n",
    "print(f\"MSE: {mse} \\n\")\n",
    "print(f'MSE mean: {mse.mean()}')\n",
    "print(f'MSE std: {mse.std()}')\n",
    "regr_mse = mse.mean()"
   ]
  },
  {
   "cell_type": "markdown",
   "metadata": {},
   "source": [
    "### Over-Sampling\n",
    "We also implemented over-sampling to improve our results. \n",
    "We are passing floats to a classifier which expects categorical values as the target vector.  It would be better to convert your training scores by using scikit's labelEncoder function."
   ]
  },
  {
   "cell_type": "code",
   "execution_count": 176,
   "metadata": {},
   "outputs": [
    {
     "name": "stdout",
     "output_type": "stream",
     "text": [
      "continuous\n",
      "multiclass\n",
      "Explained Variance Score: 0.058124416457437156\n",
      "Mean Absolute Error: 181.07489451321166\n",
      "Mean Squared Error: 51740.34271725606\n",
      "R^2 : 0.028547713123745377\n"
     ]
    }
   ],
   "source": [
    "lab_enc = preprocessing.LabelEncoder()\n",
    "\n",
    "y_encoded = lab_enc.fit_transform(y_train)\n",
    "\n",
    "print(utils.multiclass.type_of_target(y_train))\n",
    "print(utils.multiclass.type_of_target(y_train.astype('int')))\n",
    "\n",
    "\n",
    "# transform the dataset\n",
    "oversample = SMOTE()\n",
    "X, y = oversample.fit_resample(x_train, y_encoded )\n",
    "\n",
    "\n",
    "regr_over = MLPRegressor(random_state=1, max_iter=3000).fit(X, y)\n",
    "y_pred = regr_over.predict(x_test)\n",
    "\n",
    "print('Explained Variance Score: ' + str(explained_variance_score(y_test, y_pred)))\n",
    "print('Mean Absolute Error: ' + str(mean_absolute_error(y_test, y_pred)))\n",
    "print('Mean Squared Error: ' + str(mean_squared_error(y_test,y_pred)))\n",
    "print('R^2 : ' + str(r2_score(y_test, y_pred)))\n",
    "regr_r2_over = r2_score(y_test, y_pred)\n"
   ]
  },
  {
   "cell_type": "markdown",
   "metadata": {},
   "source": [
    "##### Cross Validation"
   ]
  },
  {
   "cell_type": "code",
   "execution_count": 177,
   "metadata": {},
   "outputs": [
    {
     "name": "stdout",
     "output_type": "stream",
     "text": [
      "MSE: [ 0.05613635 -0.20450708 -0.38798823 -0.90700112 -0.12932618] \n",
      "\n",
      "MSE mean: -0.3145372527226936\n",
      "MSE std: 0.3286996150638795\n"
     ]
    }
   ],
   "source": [
    "#MSE = 'mean_squared_error'\n",
    "mse = cross_val_score (estimator =  regr_over, X = X, y = y, cv = 5, n_jobs = -1)\n",
    "print(f\"MSE: {mse} \\n\")\n",
    "print(f'MSE mean: {mse.mean()}')\n",
    "print(f'MSE std: {mse.std()}')\n",
    "regr_mse_over = mse.mean()"
   ]
  },
  {
   "cell_type": "markdown",
   "metadata": {},
   "source": [
    "### Support Vector Regression "
   ]
  },
  {
   "cell_type": "code",
   "execution_count": 178,
   "metadata": {},
   "outputs": [
    {
     "name": "stdout",
     "output_type": "stream",
     "text": [
      "Explained Variance Score: 0.002063453342000532\n",
      "Mean Absolute Error: 182.22921292655553\n",
      "Mean Squared Error: 53898.66217328174\n",
      "R^2 : -0.011975875651525358\n"
     ]
    }
   ],
   "source": [
    "svr = SVR(kernel = 'rbf')\n",
    "svr.fit(x_train, y_train)\n",
    "\n",
    "y_pred = svr.predict(x_test)\n",
    "\n",
    "print('Explained Variance Score: ' + str(explained_variance_score(y_test, y_pred)))\n",
    "print('Mean Absolute Error: ' + str(mean_absolute_error(y_test, y_pred)))\n",
    "print('Mean Squared Error: ' + str(mean_squared_error(y_test,y_pred)))\n",
    "print('R^2 : ' + str(r2_score(y_test, y_pred)))\n",
    "svr_r2 = r2_score(y_test, y_pred)"
   ]
  },
  {
   "cell_type": "markdown",
   "metadata": {},
   "source": [
    "##### Cross Validation"
   ]
  },
  {
   "cell_type": "code",
   "execution_count": 179,
   "metadata": {},
   "outputs": [
    {
     "name": "stdout",
     "output_type": "stream",
     "text": [
      "MSE: [-0.00779796 -0.00330462 -0.05154368 -0.22694667 -0.00060086] \n",
      "\n",
      "MSE mean: -0.05803875845457544\n",
      "MSE std: 0.08647675464225815\n"
     ]
    }
   ],
   "source": [
    "#MSE = 'mean_squared_error'\n",
    "mse = cross_val_score (estimator =  svr, X = x_train, y = y_train, cv = 5, n_jobs = -1)\n",
    "print(f\"MSE: {mse} \\n\")\n",
    "print(f'MSE mean: {mse.mean()}')\n",
    "print(f'MSE std: {mse.std()}')\n",
    "svr_mse = mse.mean()"
   ]
  },
  {
   "cell_type": "markdown",
   "metadata": {},
   "source": [
    "### Over-Sampling\n",
    "We also implemented over-sampling to improve our results. \n",
    "We are passing floats to a classifier which expects categorical values as the target vector.  It would be better to convert your training scores by using scikit's labelEncoder function."
   ]
  },
  {
   "cell_type": "code",
   "execution_count": 180,
   "metadata": {},
   "outputs": [
    {
     "name": "stdout",
     "output_type": "stream",
     "text": [
      "continuous\n",
      "multiclass\n",
      "Explained Variance Score: 0.0020727934150380767\n",
      "Mean Absolute Error: 191.54590194052966\n",
      "Mean Squared Error: 56464.31284526155\n",
      "R^2 : -0.06014732334062489\n"
     ]
    }
   ],
   "source": [
    "lab_enc = preprocessing.LabelEncoder()\n",
    "\n",
    "y_encoded = lab_enc.fit_transform(y_train)\n",
    "\n",
    "print(utils.multiclass.type_of_target(y_train))\n",
    "print(utils.multiclass.type_of_target(y_train.astype('int')))\n",
    "\n",
    "\n",
    "# transform the dataset\n",
    "oversample = SMOTE()\n",
    "X, y = oversample.fit_resample(x_train, y_encoded )\n",
    "\n",
    "svr_over = SVR(kernel = 'rbf')\n",
    "svr_over.fit(X, y)\n",
    "\n",
    "y_pred = svr_over.predict(x_test)\n",
    "\n",
    "\n",
    "print('Explained Variance Score: ' + str(explained_variance_score(y_test, y_pred)))\n",
    "print('Mean Absolute Error: ' + str(mean_absolute_error(y_test, y_pred)))\n",
    "print('Mean Squared Error: ' + str(mean_squared_error(y_test,y_pred)))\n",
    "print('R^2 : ' + str(r2_score(y_test, y_pred)))\n",
    "svr_r2_over = r2_score(y_test, y_pred)\n"
   ]
  },
  {
   "cell_type": "markdown",
   "metadata": {},
   "source": [
    "##### Cross Validation"
   ]
  },
  {
   "cell_type": "code",
   "execution_count": 181,
   "metadata": {},
   "outputs": [
    {
     "name": "stdout",
     "output_type": "stream",
     "text": [
      "MSE: [-0.00934841 -0.00168714 -0.05341242 -0.21014694  0.00913582] \n",
      "\n",
      "MSE mean: -0.05309181775292689\n",
      "MSE std: 0.08135676776704433\n"
     ]
    }
   ],
   "source": [
    "#MSE = 'mean_squared_error'\n",
    "mse = cross_val_score (estimator =  svr_over, X = X, y = y, cv = 5, n_jobs = -1)\n",
    "print(f\"MSE: {mse} \\n\")\n",
    "print(f'MSE mean: {mse.mean()}')\n",
    "print(f'MSE std: {mse.std()}')\n",
    "svr_mse_over = mse.mean()"
   ]
  },
  {
   "cell_type": "markdown",
   "metadata": {},
   "source": [
    "### Random Forest Regression"
   ]
  },
  {
   "cell_type": "code",
   "execution_count": 182,
   "metadata": {},
   "outputs": [
    {
     "name": "stdout",
     "output_type": "stream",
     "text": [
      "Explained Variance Score: 0.5741710778015621\n",
      "Mean Absolute Error: 133.340707115354\n",
      "Mean Squared Error: 24298.261037641063\n",
      "R^2 : 0.5437873038235563\n"
     ]
    }
   ],
   "source": [
    "rf = RandomForestRegressor()\n",
    "rf.fit(x_train, y_train)\n",
    "\n",
    "y_pred = rf.predict(x_test)\n",
    "\n",
    "print('Explained Variance Score: ' + str(explained_variance_score(y_test, y_pred)))\n",
    "print('Mean Absolute Error: ' + str(mean_absolute_error(y_test, y_pred)))\n",
    "print('Mean Squared Error: ' + str(mean_squared_error(y_test,y_pred)))\n",
    "print('R^2 : ' + str(r2_score(y_test, y_pred)))\n",
    "rf_r2 = r2_score(y_test, y_pred)"
   ]
  },
  {
   "cell_type": "markdown",
   "metadata": {},
   "source": [
    "##### Cross Validation"
   ]
  },
  {
   "cell_type": "code",
   "execution_count": 183,
   "metadata": {},
   "outputs": [
    {
     "name": "stdout",
     "output_type": "stream",
     "text": [
      "MSE: [ 0.20426904  0.06794108  0.10423717 -0.0607673   0.22023059] \n",
      "\n",
      "MSE mean: 0.10718211539885054\n",
      "MSE std: 0.10194249805880426\n"
     ]
    }
   ],
   "source": [
    "#MSE = 'mean_squared_error'\n",
    "mse = cross_val_score (estimator =  rf, X = x_train, y = y_train, cv = 5, n_jobs = -1)\n",
    "print(f\"MSE: {mse} \\n\")\n",
    "print(f'MSE mean: {mse.mean()}')\n",
    "print(f'MSE std: {mse.std()}')\n",
    "rf_mse = mse.mean()"
   ]
  },
  {
   "cell_type": "markdown",
   "metadata": {},
   "source": [
    "### Over-Sampling\n",
    "We also implemented over-sampling to improve our results. \n",
    "We are passing floats to a classifier which expects categorical values as the target vector.  It would be better to convert your training scores by using scikit's labelEncoder function."
   ]
  },
  {
   "cell_type": "code",
   "execution_count": 184,
   "metadata": {},
   "outputs": [
    {
     "name": "stdout",
     "output_type": "stream",
     "text": [
      "continuous\n",
      "multiclass\n",
      "Explained Variance Score: 0.08002089901553056\n",
      "Mean Absolute Error: 185.93227063405425\n",
      "Mean Squared Error: 52341.41020693751\n",
      "R^2 : 0.017262353252650575\n"
     ]
    }
   ],
   "source": [
    "lab_enc = preprocessing.LabelEncoder()\n",
    "\n",
    "y_encoded = lab_enc.fit_transform(y_train)\n",
    "\n",
    "print(utils.multiclass.type_of_target(y_train))\n",
    "print(utils.multiclass.type_of_target(y_train.astype('int')))\n",
    "\n",
    "\n",
    "# transform the dataset\n",
    "oversample = SMOTE()\n",
    "X, y = oversample.fit_resample(x_train, y_encoded )\n",
    "\n",
    "rf_over = RandomForestRegressor()\n",
    "rf_over.fit(X, y)\n",
    "\n",
    "y_pred = rf_over.predict(x_test)\n",
    "\n",
    "print('Explained Variance Score: ' + str(explained_variance_score(y_test, y_pred)))\n",
    "print('Mean Absolute Error: ' + str(mean_absolute_error(y_test, y_pred)))\n",
    "print('Mean Squared Error: ' + str(mean_squared_error(y_test,y_pred)))\n",
    "print('R^2 : ' + str(r2_score(y_test, y_pred)))\n",
    "rf_r2_over = r2_score(y_test, y_pred)\n"
   ]
  },
  {
   "cell_type": "markdown",
   "metadata": {},
   "source": [
    "##### Cross Validation"
   ]
  },
  {
   "cell_type": "code",
   "execution_count": 185,
   "metadata": {},
   "outputs": [
    {
     "name": "stdout",
     "output_type": "stream",
     "text": [
      "MSE: [0.21062562 0.29012945 0.22147366 0.11494069 0.23496473] \n",
      "\n",
      "MSE mean: 0.21442682991848233\n",
      "MSE std: 0.05677022273505444\n"
     ]
    }
   ],
   "source": [
    "#MSE = 'mean_squared_error'\n",
    "mse = cross_val_score (estimator =  rf_over, X = X, y = y, cv = 5, n_jobs = -1)\n",
    "print(f\"MSE: {mse} \\n\")\n",
    "print(f'MSE mean: {mse.mean()}')\n",
    "print(f'MSE std: {mse.std()}')\n",
    "rf_mse_over = mse.mean()"
   ]
  },
  {
   "cell_type": "markdown",
   "metadata": {},
   "source": [
    "### Decision Tree Regression"
   ]
  },
  {
   "cell_type": "code",
   "execution_count": 186,
   "metadata": {},
   "outputs": [
    {
     "name": "stdout",
     "output_type": "stream",
     "text": [
      "Explained Variance Score: 0.017763113106279094\n",
      "Mean Absolute Error: 185.43717310794003\n",
      "Mean Squared Error: 53016.3809732962\n",
      "R^2 : 0.004589420293219515\n"
     ]
    }
   ],
   "source": [
    "dt = DecisionTreeRegressor()\n",
    "dt.fit(x_train, y_train)\n",
    "\n",
    "y_pred = dt.predict(x_test)\n",
    "\n",
    "print('Explained Variance Score: ' + str(explained_variance_score(y_test, y_pred)))\n",
    "print('Mean Absolute Error: ' + str(mean_absolute_error(y_test, y_pred)))\n",
    "print('Mean Squared Error: ' + str(mean_squared_error(y_test,y_pred)))\n",
    "print('R^2 : ' + str(r2_score(y_test, y_pred)))\n",
    "dt_r2 = r2_score(y_test, y_pred)"
   ]
  },
  {
   "cell_type": "markdown",
   "metadata": {},
   "source": [
    "#### Cross Validation"
   ]
  },
  {
   "cell_type": "code",
   "execution_count": 187,
   "metadata": {},
   "outputs": [
    {
     "name": "stdout",
     "output_type": "stream",
     "text": [
      "MSE: [ 0.51297628 -1.90470782 -1.61968066 -0.87278394 -0.88101254] \n",
      "\n",
      "MSE mean: -0.9530417361180155\n",
      "MSE std: 0.8379635014233691\n"
     ]
    }
   ],
   "source": [
    "#MSE = 'mean_squared_error'\n",
    "mse = cross_val_score (estimator =  dt, X = x_train, y = y_train, cv = 5, n_jobs = -1)\n",
    "print(f\"MSE: {mse} \\n\")\n",
    "print(f'MSE mean: {mse.mean()}')\n",
    "print(f'MSE std: {mse.std()}')\n",
    "dt_mse = mse.mean()"
   ]
  },
  {
   "cell_type": "markdown",
   "metadata": {},
   "source": [
    "### Over-Sampling\n",
    "We also implemented over-sampling to improve our results. \n",
    "We are passing floats to a classifier which expects categorical values as the target vector.  It would be better to convert your training scores by using scikit's labelEncoder function."
   ]
  },
  {
   "cell_type": "code",
   "execution_count": 188,
   "metadata": {},
   "outputs": [
    {
     "name": "stdout",
     "output_type": "stream",
     "text": [
      "continuous\n",
      "multiclass\n",
      "Explained Variance Score: 0.09202313104938731\n",
      "Mean Absolute Error: 186.57693738014805\n",
      "Mean Squared Error: 52037.09996488875\n",
      "R^2 : 0.022975938919711503\n"
     ]
    }
   ],
   "source": [
    "lab_enc = preprocessing.LabelEncoder()\n",
    "\n",
    "y_encoded = lab_enc.fit_transform(y_train)\n",
    "\n",
    "print(utils.multiclass.type_of_target(y_train))\n",
    "print(utils.multiclass.type_of_target(y_train.astype('int')))\n",
    "\n",
    "\n",
    "# transform the dataset\n",
    "oversample = SMOTE()\n",
    "X, y = oversample.fit_resample(x_train, y_encoded )\n",
    "\n",
    "dt_over = DecisionTreeRegressor()\n",
    "dt_over.fit(X, y)\n",
    "\n",
    "y_pred = dt_over.predict(x_test)\n",
    "\n",
    "\n",
    "print('Explained Variance Score: ' + str(explained_variance_score(y_test, y_pred)))\n",
    "print('Mean Absolute Error: ' + str(mean_absolute_error(y_test, y_pred)))\n",
    "print('Mean Squared Error: ' + str(mean_squared_error(y_test,y_pred)))\n",
    "print('R^2 : ' + str(r2_score(y_test, y_pred)))\n",
    "dt_r2_over = r2_score(y_test, y_pred)\n"
   ]
  },
  {
   "cell_type": "markdown",
   "metadata": {},
   "source": [
    "##### Cross Validation"
   ]
  },
  {
   "cell_type": "code",
   "execution_count": 189,
   "metadata": {},
   "outputs": [
    {
     "name": "stdout",
     "output_type": "stream",
     "text": [
      "MSE: [-0.12877422  0.10680481 -1.09394531 -0.32448371 -0.85840028] \n",
      "\n",
      "MSE mean: -0.45975974095356487\n",
      "MSE std: 0.4494334274089474\n"
     ]
    }
   ],
   "source": [
    "#MSE = 'mean_squared_error'\n",
    "mse = cross_val_score (estimator =  dt_over, X = X, y = y, cv = 5, n_jobs = -1)\n",
    "print(f\"MSE: {mse} \\n\")\n",
    "print(f'MSE mean: {mse.mean()}')\n",
    "print(f'MSE std: {mse.std()}')\n",
    "dt_mse_over = mse.mean()"
   ]
  },
  {
   "cell_type": "markdown",
   "metadata": {},
   "source": [
    "### Summary\n",
    "We have compiled a summary of the results from the different models."
   ]
  },
  {
   "cell_type": "code",
   "execution_count": 190,
   "metadata": {
    "scrolled": true
   },
   "outputs": [
    {
     "name": "stdout",
     "output_type": "stream",
     "text": [
      "Linear Regression  R^2=-14773.028   R^2 over=-14773.028   : MSE=-132820.309  : MSE over=-132820.309\n",
      "Neural Network Regression  R^2=0.129   R^2 over=0.129   : MSE=0.029  : MSE over=0.029\n",
      "Support Vector Regression  R^2=-0.012   R^2 over=-0.012   : MSE=-0.060  : MSE over=-0.060\n",
      "Random Forest Regression  R^2=0.544   R^2 over=0.544   : MSE=0.017  : MSE over=0.017\n",
      "Decision Tree Regression  R^2=0.005   R^2 over=0.005   : MSE=0.023  : MSE over=0.023\n"
     ]
    }
   ],
   "source": [
    "models = {'Linear Regression' : (lreg_r2, lreg_mse, lreg_mse_over), 'Neural Network Regression': ( regr_r2, regr_r2_over, regr_mse, regr_mse_over), 'Support Vector Regression': ( svr_r2, svr_r2_over, svr_mse, svr_mse_over), 'Random Forest Regression' : (rf_r2,rf_r2_over, rf_mse, rf_mse_over),  'Decision Tree Regression': (dt_r2, dt_r2_over, dt_mse, dt_mse_over)}\n",
    "\n",
    "for i in models:\n",
    "    print(i, ' R^2=%.3f ' % (models[i][0]), ' R^2 over=%.3f ' % (models[i][0]), ' : MSE=%.3f' % (models[i][1]), ' : MSE over=%.3f' % (models[i][1]))"
   ]
  },
  {
   "cell_type": "markdown",
   "metadata": {},
   "source": [
    "### Discussion\n",
    "**R<sup>2</sup>**\n",
    "\n",
    "In the models LR, SVR and DTR we have negative R<sup>2</sup> scores, which means that our models do not follow the tendency of our data.\n",
    "In the other models de values of R<sup>2</sup> varies between 0.129-0.537. \n",
    "The coefficient of determination (R<sup>2</sup>) measures how well the model fits with the data, in this case the best model is Random Forest Regression. \n",
    "We also implemented over-sampling to improve our results. However, no improvement was observed.\n",
    "\n",
    "**Explained Variance Scores**\n",
    "\n",
    "The Explained Variance Scores measure how much our models take into account the variance of our data set.\n",
    "In the case of LR and DTR the values are negative, so the models are nonspecific.\n",
    "In the NNR and SVR are also very low, with low specification. The model with the best result is Random Forest Regression with a value of 0.568. \n",
    "We also implemented over-sampling to improve our results. However, no improvement was observed.\n",
    "\n",
    "**MAE and MSE**\n",
    "\n",
    "The mean absolute error (MAE) is a quantity used to measure how close predictions are to the outcomes. \n",
    "The mean absolute error is an average of the all absolute errors. \n",
    "The mean absolute error is a common measure of estimate error in time series analysis. The mean squared error of an estimator measures the average of the squares of the errors, which means the difference between the estimator and estimated.\n",
    "MSE is a function, equivalent to the expected value of the squared error loss or quadratic loss. The difference occurs because of the randomness. The MSE is a measure of the quality of an estimator, it is always positive, and values which are closer to zero are better. \n",
    "Our MAE and MSE are also very high,  means our model prediction errors are too high for the predictions to be relevant.\n",
    "We also implemented over-sampling to improve our results. However, no improvement was observed.\n",
    "\n",
    "\n",
    "From our results we can acess that the model with the best results is the Random Forest Regression model, but this and the other regression models do not successfully fit with our data.\n",
    "One possible reason for the bad scores can be the few training examples, overfitting, data imbalance, etc."
   ]
  },
  {
   "cell_type": "markdown",
   "metadata": {},
   "source": [
    "# Apache II (Multiclass)"
   ]
  },
  {
   "cell_type": "markdown",
   "metadata": {},
   "source": [
    "In order to obtain better results we convert the APACHE II variable into a multiclass variable.\n",
    "When G_1 includes values lower than 9, the G_2 values between 10-19, the G_3 values between 20-29 and G_4 values higher than 30. \n",
    "\n",
    "The main goal of this analysis is to develop a machine learning model with the ability to predict COVID-19 severity early on in admission would help clinicians prioritize patients for treatments. \n",
    "To create the models we have split the omic data provided in to train and test datasets, where the former corresponds to 1/5 of the full data (Train and Test split section).\n",
    "\n",
    "We also selected 30% of the features in our dataset (Feature Selection section) to reduce dimensionality and possibly improve our models.\n",
    "\n",
    "For this end point we have performed:\n",
    "\n",
    "For this end point we have performed:\n",
    "\n",
    "- Logistic Regression\n",
    "- K-Nearest Neighbors (KNN)\n",
    "- Support Vector Machine (SVM)\n",
    "- Naive Bayes\n",
    "- Random Forest\n",
    "- Decision Tree\n",
    "\n",
    "We performed cross-validation for each of our models and computed the resulting metrics from the test set prediction.\n"
   ]
  },
  {
   "cell_type": "code",
   "execution_count": 200,
   "metadata": {},
   "outputs": [
    {
     "data": {
      "text/plain": [
       "0      15.0\n",
       "1       NaN\n",
       "2       NaN\n",
       "3       NaN\n",
       "4      19.0\n",
       "       ... \n",
       "121     4.0\n",
       "122     NaN\n",
       "123     NaN\n",
       "124     NaN\n",
       "125    40.0\n",
       "Name: characteristics_ch1.4.apacheii, Length: 126, dtype: float64"
      ]
     },
     "execution_count": 200,
     "metadata": {},
     "output_type": "execute_result"
    }
   ],
   "source": [
    "metadata['characteristics_ch1.4.apacheii'] = pd.to_numeric(metadata['characteristics_ch1.4.apacheii'],errors='coerce')\n",
    "\n",
    "metadata['characteristics_ch1.4.apacheii']"
   ]
  },
  {
   "cell_type": "code",
   "execution_count": 201,
   "metadata": {},
   "outputs": [
    {
     "name": "stdout",
     "output_type": "stream",
     "text": [
      "['G_2', 'NA', 'NA', 'NA', 'NA', 'NA', 'NA', 'G_4', 'G_4', 'G_4', 'NA', 'G_3', 'NA', 'G_3', 'G_3', 'NA', 'NA', 'NA', 'NA', 'G_1', 'NA', 'G_3', 'G_3', 'NA', 'G_2', 'G_2', 'NA', 'G_2', 'G_2', 'G_3', 'G_3', 'G_3', 'NA', 'NA', 'NA', 'G_3', 'NA', 'G_1', 'G_4', 'G_2', 'NA', 'G_3', 'G_3', 'G_3', 'G_2', 'G_2', 'G_3', 'G_4', 'G_2', 'G_4', 'NA', 'G_3', 'NA', 'G_4', 'NA', 'NA', 'NA', 'NA', 'NA', 'NA', 'G_3', 'G_2', 'G_3', 'NA', 'NA', 'NA', 'NA', 'NA', 'NA', 'G_3', 'NA', 'NA', 'G_3', 'NA', 'G_4', 'G_1', 'NA', 'NA', 'G_3', 'NA', 'NA', 'NA', 'G_2', 'NA', 'G_1', 'G_2', 'G_2', 'NA', 'G_3', 'G_2', 'NA', 'NA', 'NA', 'G_2', 'NA', 'G_2', 'NA', 'G_2', 'G_3', 'NA', 'NA', 'G_2', 'G_3', 'NA', 'NA', 'G_2', 'G_3', 'G_3', 'NA', 'NA', 'NA', 'G_2', 'NA', 'G_3', 'G_2', 'G_2', 'G_2', 'G_3', 'G_3', 'G_2', 'NA', 'G_1', 'NA', 'NA', 'NA', 'G_4']\n"
     ]
    },
    {
     "data": {
      "text/plain": [
       "126"
      ]
     },
     "execution_count": 201,
     "metadata": {},
     "output_type": "execute_result"
    }
   ],
   "source": [
    "apach=[]\n",
    "for j in metadata['characteristics_ch1.4.apacheii']:\n",
    "    if j < 9:\n",
    "        apach.append('G_1')\n",
    "    elif j > 10 and j < 19:\n",
    "        apach.append('G_2')\n",
    "    elif j > 20 and j < 29:\n",
    "        apach.append('G_3')\n",
    "    elif j > 30 and j < 44:\n",
    "        apach.append('G_4')\n",
    "    else:\n",
    "        apach.append('NA')\n",
    "print(apach)\n",
    "\n",
    "metadata['apacheii'] = apach\n",
    "\n",
    "len(apach)"
   ]
  },
  {
   "cell_type": "code",
   "execution_count": 202,
   "metadata": {},
   "outputs": [
    {
     "name": "stdout",
     "output_type": "stream",
     "text": [
      "(126, 19472)\n"
     ]
    }
   ],
   "source": [
    "from sklearn.preprocessing import label_binarize\n",
    "np.random.seed(0)\n",
    "apac = metadata[metadata['apacheii'] != 'NA']\n",
    "apach = apac['apacheii']\n",
    "\n",
    "indices = np.random.permutation(len(data_scaled[apach.index]))\n",
    "data_scaled = preprocessing.scale(rna_seq_tmp)\n",
    "\n",
    "data_scaled = data_scaled.T\n",
    "print(data_scaled.shape)\n",
    "train = data_scaled[apach.index]\n",
    "\n",
    "train = data_scaled[ind]\n",
    "x_train = train[indices[:-14]].tolist()\n",
    "y_train = apach.iloc[indices[:-14]].values\n",
    "x_test = data_scaled[indices[-14:]]\n",
    "y_test = apach.iloc[indices[-14:]].values"
   ]
  },
  {
   "cell_type": "code",
   "execution_count": 203,
   "metadata": {},
   "outputs": [
    {
     "name": "stdout",
     "output_type": "stream",
     "text": [
      "(126, 19472)\n",
      "(14,)\n"
     ]
    }
   ],
   "source": [
    "print(data_scaled.shape)\n",
    "print(y_test.shape)"
   ]
  },
  {
   "cell_type": "markdown",
   "metadata": {},
   "source": [
    "Feature Selection"
   ]
  },
  {
   "cell_type": "code",
   "execution_count": 204,
   "metadata": {},
   "outputs": [
    {
     "name": "stdout",
     "output_type": "stream",
     "text": [
      "Number of features selected: (5842,)\n"
     ]
    },
    {
     "data": {
      "text/plain": [
       "(14, 5842)"
      ]
     },
     "execution_count": 204,
     "metadata": {},
     "output_type": "execute_result"
    }
   ],
   "source": [
    "selector = SelectPercentile(f_classif, percentile = 30)\n",
    "train_select = selector.fit_transform(x_train, y_train)\n",
    "index_top_feat = selector.get_support(indices= True)\n",
    "print('Number of features selected:', index_top_feat.shape)\n",
    "\n",
    "testin = x_test[:,index_top_feat]\n",
    "testin.shape"
   ]
  },
  {
   "cell_type": "markdown",
   "metadata": {},
   "source": [
    "# Logistic regression"
   ]
  },
  {
   "cell_type": "code",
   "execution_count": 205,
   "metadata": {},
   "outputs": [
    {
     "name": "stdout",
     "output_type": "stream",
     "text": [
      "Accuracy Score : 0.35714285714285715\n",
      "Precision Score : 0.35714285714285715\n",
      "Recall Score : 0.35714285714285715\n",
      "F1 Score : 0.35714285714285715\n",
      "Confusion Matrix : \n",
      "[[0 0 0 0]\n",
      " [1 0 3 0]\n",
      " [1 2 4 1]\n",
      " [0 1 0 1]]\n",
      "\n"
     ]
    }
   ],
   "source": [
    "lr = LogisticRegression(max_iter = 101, random_state = 0, solver = 'liblinear')\n",
    "lr.fit(train_select, y_train)\n",
    "\n",
    "y_pred = lr.predict(testin)\n",
    "\n",
    "print('Accuracy Score : ' + str(accuracy_score(y_test,y_pred)))\n",
    "print('Precision Score : ' + str(precision_score(y_test,y_pred, average='micro')))\n",
    "print('Recall Score : ' + str(recall_score(y_test,y_pred, average='micro')))\n",
    "print('F1 Score : ' + str(f1_score(y_test,y_pred, average='micro')))\n",
    "print('Confusion Matrix : \\n' + str(confusion_matrix(y_test,y_pred)) + '\\n')\n"
   ]
  },
  {
   "cell_type": "markdown",
   "metadata": {},
   "source": [
    "#### Cross Validation"
   ]
  },
  {
   "cell_type": "code",
   "execution_count": 206,
   "metadata": {},
   "outputs": [
    {
     "name": "stdout",
     "output_type": "stream",
     "text": [
      "Accuracy Scores: [0.54545455 0.4        0.4        0.4        0.3       ] \n",
      "\n",
      "Accuracy Scores mean: 0.40909090909090906\n",
      "Accuracy Scores sd: 0.07841403146490117\n"
     ]
    }
   ],
   "source": [
    "accuracy = cross_val_score (estimator =  lr, X = train_select, y = y_train , cv = 5, n_jobs = -1)\n",
    "print(f\"Accuracy Scores: {accuracy} \\n\")\n",
    "print(f'Accuracy Scores mean: {accuracy.mean()}')\n",
    "print(f'Accuracy Scores sd: {accuracy.std()}')"
   ]
  },
  {
   "cell_type": "markdown",
   "metadata": {},
   "source": [
    "# K-Nearest Neighbors (KNN)"
   ]
  },
  {
   "cell_type": "code",
   "execution_count": 207,
   "metadata": {},
   "outputs": [
    {
     "name": "stdout",
     "output_type": "stream",
     "text": [
      "Accuracy Score : 0.21428571428571427\n",
      "Precision Score : 0.21428571428571427\n",
      "Recall Score : 0.21428571428571427\n",
      "F1 Score : 0.21428571428571427\n",
      "Confusion Matrix : \n",
      "[[0 0 0 0]\n",
      " [3 1 0 0]\n",
      " [1 6 1 0]\n",
      " [0 1 0 1]]\n",
      "\n"
     ]
    }
   ],
   "source": [
    "knn = KNeighborsClassifier(n_neighbors = 2, metric = 'minkowski', p = 2)\n",
    "knn.fit(train_select, y_train)\n",
    "\n",
    "y_pred = knn.predict(testin)\n",
    "\n",
    "print('Accuracy Score : ' + str(accuracy_score(y_test,y_pred)))\n",
    "print('Precision Score : ' + str(precision_score(y_test,y_pred, average='micro')))\n",
    "print('Recall Score : ' + str(recall_score(y_test,y_pred, average='micro')))\n",
    "print('F1 Score : ' + str(f1_score(y_test,y_pred, average='micro')))\n",
    "print('Confusion Matrix : \\n' + str(confusion_matrix(y_test,y_pred)) + '\\n')"
   ]
  },
  {
   "cell_type": "markdown",
   "metadata": {},
   "source": [
    "#### Cross Validation"
   ]
  },
  {
   "cell_type": "code",
   "execution_count": 208,
   "metadata": {},
   "outputs": [
    {
     "name": "stdout",
     "output_type": "stream",
     "text": [
      "Accuracy Scores: [0.36363636 0.4        0.3        0.5        0.1       ] \n",
      "\n",
      "Accuracy Scores mean: 0.33272727272727276\n",
      "Accuracy Scores std: 0.13318724779499955\n"
     ]
    }
   ],
   "source": [
    "accuracy = cross_val_score (estimator =  knn, X = train_select, y = y_train, cv = 5, n_jobs = -1)\n",
    "print(f\"Accuracy Scores: {accuracy} \\n\")\n",
    "print(f'Accuracy Scores mean: {accuracy.mean()}')\n",
    "print(f'Accuracy Scores std: {accuracy.std()}')"
   ]
  },
  {
   "cell_type": "markdown",
   "metadata": {},
   "source": [
    "# Support Vector Machine (SVM)"
   ]
  },
  {
   "cell_type": "code",
   "execution_count": 209,
   "metadata": {},
   "outputs": [
    {
     "name": "stdout",
     "output_type": "stream",
     "text": [
      "Accuracy Score : 0.35714285714285715\n",
      "Precision Score : 0.35714285714285715\n",
      "Recall Score : 0.35714285714285715\n",
      "F1 Score : 0.35714285714285715\n",
      "Confusion Matrix : \n",
      "[[0 0 0 0]\n",
      " [2 0 2 0]\n",
      " [1 2 4 1]\n",
      " [0 1 0 1]]\n",
      "\n"
     ]
    }
   ],
   "source": [
    "svm = SVC(kernel = 'linear', random_state = 0, probability = True)\n",
    "svm.fit(train_select, y_train)\n",
    "\n",
    "y_pred = svm.predict(testin)\n",
    "\n",
    "print('Accuracy Score : ' + str(accuracy_score(y_test,y_pred)))\n",
    "print('Precision Score : ' + str(precision_score(y_test,y_pred, average='micro')))\n",
    "print('Recall Score : ' + str(recall_score(y_test,y_pred, average='micro')))\n",
    "print('F1 Score : ' + str(f1_score(y_test,y_pred, average='micro')))\n",
    "print('Confusion Matrix : \\n' + str(confusion_matrix(y_test,y_pred)) + '\\n')"
   ]
  },
  {
   "cell_type": "markdown",
   "metadata": {},
   "source": [
    "#### Cross Validation"
   ]
  },
  {
   "cell_type": "code",
   "execution_count": 210,
   "metadata": {},
   "outputs": [
    {
     "name": "stdout",
     "output_type": "stream",
     "text": [
      "Accuracy Scores: [0.45454545 0.7        0.3        0.5        0.3       ] \n",
      "\n",
      "Accuracy Scores mean: 0.45090909090909087\n",
      "Accuracy Scores std: 0.14833511312269917\n"
     ]
    }
   ],
   "source": [
    "accuracy = cross_val_score (estimator =  svm, X = train_select, y = y_train, cv = 5, n_jobs = -1)\n",
    "print(f\"Accuracy Scores: {accuracy} \\n\")\n",
    "print(f'Accuracy Scores mean: {accuracy.mean()}')\n",
    "print(f'Accuracy Scores std: {accuracy.std()}')"
   ]
  },
  {
   "cell_type": "markdown",
   "metadata": {},
   "source": [
    "### Naive Bayes"
   ]
  },
  {
   "cell_type": "code",
   "execution_count": 211,
   "metadata": {},
   "outputs": [
    {
     "name": "stdout",
     "output_type": "stream",
     "text": [
      "Accuracy Score : 0.35714285714285715\n",
      "Precision Score : 0.35714285714285715\n",
      "Recall Score : 0.35714285714285715\n",
      "F1 Score : 0.35714285714285715\n",
      "Confusion Matrix : \n",
      "[[0 0 0 0]\n",
      " [0 1 1 2]\n",
      " [2 1 3 2]\n",
      " [0 1 0 1]]\n",
      "\n"
     ]
    }
   ],
   "source": [
    "nb = GaussianNB()\n",
    "nb.fit(train_select, y_train)\n",
    "\n",
    "y_pred = nb.predict(testin)\n",
    "\n",
    "print('Accuracy Score : ' + str(accuracy_score(y_test,y_pred)))\n",
    "print('Precision Score : ' + str(precision_score(y_test,y_pred, average='micro')))\n",
    "print('Recall Score : ' + str(recall_score(y_test,y_pred, average='micro')))\n",
    "print('F1 Score : ' + str(f1_score(y_test,y_pred, average='micro')))\n",
    "print('Confusion Matrix : \\n' + str(confusion_matrix(y_test,y_pred)) + '\\n')"
   ]
  },
  {
   "cell_type": "markdown",
   "metadata": {},
   "source": [
    "##### Cross Validation"
   ]
  },
  {
   "cell_type": "code",
   "execution_count": 212,
   "metadata": {},
   "outputs": [
    {
     "name": "stdout",
     "output_type": "stream",
     "text": [
      "Accuracy Scores: [0.27272727 0.2        0.6        0.3        0.4       ] \n",
      "\n",
      "Accuracy Scores mean: 0.3545454545454546\n",
      "Accuracy Scores std: 0.13846860192479832\n"
     ]
    }
   ],
   "source": [
    "accuracy = cross_val_score (estimator =  nb, X = train_select, y = y_train, cv = 5, n_jobs = -1)\n",
    "print(f\"Accuracy Scores: {accuracy} \\n\")\n",
    "print(f'Accuracy Scores mean: {accuracy.mean()}')\n",
    "print(f'Accuracy Scores std: {accuracy.std()}')"
   ]
  },
  {
   "cell_type": "markdown",
   "metadata": {},
   "source": [
    "### Random Forest"
   ]
  },
  {
   "cell_type": "code",
   "execution_count": 213,
   "metadata": {},
   "outputs": [
    {
     "name": "stdout",
     "output_type": "stream",
     "text": [
      "Accuracy Score : 0.21428571428571427\n",
      "Precision Score : 0.21428571428571427\n",
      "Recall Score : 0.21428571428571427\n",
      "F1 Score : 0.21428571428571427\n",
      "Confusion Matrix : \n",
      "[[1 3 0]\n",
      " [6 2 0]\n",
      " [2 0 0]]\n",
      "\n"
     ]
    }
   ],
   "source": [
    "rf = RandomForestClassifier(random_state = 0)\n",
    "rf.fit(train_select, y_train)\n",
    "\n",
    "y_pred = rf.predict(testin)\n",
    "\n",
    "print('Accuracy Score : ' + str(accuracy_score(y_test,y_pred)))\n",
    "print('Precision Score : ' + str(precision_score(y_test,y_pred, average='micro')))\n",
    "print('Recall Score : ' + str(recall_score(y_test,y_pred, average='micro')))\n",
    "print('F1 Score : ' + str(f1_score(y_test,y_pred, average='micro')))\n",
    "print('Confusion Matrix : \\n' + str(confusion_matrix(y_test,y_pred)) + '\\n')"
   ]
  },
  {
   "cell_type": "markdown",
   "metadata": {},
   "source": [
    "##### Cross Validation"
   ]
  },
  {
   "cell_type": "code",
   "execution_count": 214,
   "metadata": {},
   "outputs": [
    {
     "name": "stdout",
     "output_type": "stream",
     "text": [
      "Accuracy Scores: [0.54545455 0.4        0.5        0.3        0.4       ] \n",
      "\n",
      "Accuracy Scores mean: 0.4290909090909091\n",
      "Accuracy Scores std: 0.08593674398615615\n"
     ]
    }
   ],
   "source": [
    "accuracy = cross_val_score (estimator =  rf, X = train_select, y = y_train, cv = 5, n_jobs = -1)\n",
    "print(f\"Accuracy Scores: {accuracy} \\n\")\n",
    "print(f'Accuracy Scores mean: {accuracy.mean()}')\n",
    "print(f'Accuracy Scores std: {accuracy.std()}')"
   ]
  },
  {
   "cell_type": "markdown",
   "metadata": {},
   "source": [
    "### Decision Tree"
   ]
  },
  {
   "cell_type": "code",
   "execution_count": 215,
   "metadata": {},
   "outputs": [
    {
     "name": "stdout",
     "output_type": "stream",
     "text": [
      "Accuracy Score : 0.35714285714285715\n",
      "Precision Score : 0.35714285714285715\n",
      "Recall Score : 0.35714285714285715\n",
      "F1 Score : 0.35714285714285715\n",
      "Confusion Matrix : \n",
      "[[0 0 0 0]\n",
      " [0 1 2 1]\n",
      " [2 1 3 2]\n",
      " [0 1 0 1]]\n",
      "\n"
     ]
    }
   ],
   "source": [
    "dt = DecisionTreeClassifier(criterion = 'entropy', random_state = 0)\n",
    "dt.fit(train_select, y_train)\n",
    "\n",
    "y_pred = dt.predict(testin)\n",
    "\n",
    "print('Accuracy Score : ' + str(accuracy_score(y_test,y_pred)))\n",
    "print('Precision Score : ' + str(precision_score(y_test,y_pred, average='micro')))\n",
    "print('Recall Score : ' + str(recall_score(y_test,y_pred, average='micro')))\n",
    "print('F1 Score : ' + str(f1_score(y_test,y_pred, average='micro')))\n",
    "print('Confusion Matrix : \\n' + str(confusion_matrix(y_test,y_pred)) + '\\n')"
   ]
  },
  {
   "cell_type": "markdown",
   "metadata": {},
   "source": [
    "##### Cross Validation"
   ]
  },
  {
   "cell_type": "code",
   "execution_count": 216,
   "metadata": {},
   "outputs": [
    {
     "name": "stdout",
     "output_type": "stream",
     "text": [
      "Accuracy Scores: [0.54545455 0.5        0.3        0.3        0.3       ] \n",
      "\n",
      "Accuracy Scores mean: 0.3890909090909091\n",
      "Accuracy Scores std: 0.11005633418488403\n"
     ]
    }
   ],
   "source": [
    "accuracy = cross_val_score (estimator =  dt, X = train_select, y = y_train, cv = 5, n_jobs = -1)\n",
    "print(f\"Accuracy Scores: {accuracy} \\n\")\n",
    "print(f'Accuracy Scores mean: {accuracy.mean()}')\n",
    "print(f'Accuracy Scores std: {accuracy.std()}')"
   ]
  },
  {
   "cell_type": "markdown",
   "metadata": {},
   "source": [
    "## Ferritin (ng/ml) - Numeric"
   ]
  },
  {
   "cell_type": "markdown",
   "metadata": {},
   "source": [
    "Ferritin is a key mediator of immune dysregulation, especially under extreme hyperferritinemia, via direct immune-suppressive and pro-inflammatory effects, contributing to the cytokine storm. It has been reported that fatal outcomes by COVID-19 are accompanied by cytokine storm syndrome, thereby it has been suggested that disease severity is dependent of the cytokine storm syndrome. Many individuals with diabetes exhibit elevated serum ferritin levels, and it is known that they face a higher probability to experience serious complications from COVID-19. On this basis, we briefly review evidence supporting the hypothesis that ferritin levels might be a crucial factor influencing the severity of COVID-19.\n",
    "\n",
    "The main goal of this analysis is to develop a machine learning model with the ability to predict COVID-19 severity early on in admission would help clinicians prioritize patients for treatments\n",
    "To create the models we have split the omic data provided in to train and test datasets, where the former corresponds to 1/5 of the full data (Train and Test split section).\n",
    "\n",
    "We also selected 30% of the features in our dataset (Feature Selection section) to reduce dimensionality and possibly improve our models.\n",
    "\n",
    "For this end point we have performed:\n",
    "\n",
    " - Linear Regression\n",
    " - Neural Network Regression\n",
    " - Support Vector Regression \n",
    " - Random Forest Regression\n",
    " - Decision Tree Regression\n",
    "\n",
    "We performed cross-validation for each of our models and computed the resulting metrics from the test set prediction. We determine R<sup>2</sup> (coefficient of determination), xplained Variance Scores, Median Absolute Error (MAE) and the  Median Squared Error (MSE) measures.\n"
   ]
  },
  {
   "cell_type": "markdown",
   "metadata": {},
   "source": [
    "Train and Test split"
   ]
  },
  {
   "cell_type": "code",
   "execution_count": 111,
   "metadata": {},
   "outputs": [],
   "source": [
    "metadata['characteristics_ch1.10.ferritin (ng/ml)'] = pd.to_numeric(metadata['characteristics_ch1.10.ferritin (ng/ml)'],errors='coerce')\n",
    "np.random.seed(0)\n",
    "ferri = metadata['characteristics_ch1.10.ferritin (ng/ml)'].dropna()\n",
    "\n",
    "indices = np.random.permutation(len(data_scaled[ferri.index]))\n",
    "train = data_scaled[ferri.index]\n",
    "\n",
    "x_train = train[indices[:-25]]\n",
    "y_train = ferri.iloc[indices[:-25]]\n",
    "\n",
    "x_test = data_scaled[indices[-25:]]\n",
    "y_test = ferri.iloc[indices[-25:]]"
   ]
  },
  {
   "cell_type": "markdown",
   "metadata": {},
   "source": [
    "### Linear Regression"
   ]
  },
  {
   "cell_type": "code",
   "execution_count": 112,
   "metadata": {},
   "outputs": [
    {
     "name": "stdout",
     "output_type": "stream",
     "text": [
      "Explained Variance Score: -0.08369425496585348\n",
      "Mean Absolute Error: 834.252745554173\n",
      "Mean Squared Error: 1654135.337863738\n",
      "R^2 : -0.09469737833898884\n"
     ]
    }
   ],
   "source": [
    "lreg = LinearRegression()\n",
    "lreg.fit(x_train, y_train)\n",
    "\n",
    "y_pred = lreg.predict(x_test)\n",
    "\n",
    "print('Explained Variance Score: ' + str(explained_variance_score(y_test, y_pred)))\n",
    "print('Mean Absolute Error: ' + str(mean_absolute_error(y_test, y_pred)))\n",
    "print('Mean Squared Error: ' + str(mean_squared_error(y_test,y_pred)))\n",
    "print('R^2 : ' + str(r2_score(y_test, y_pred)))\n",
    "lreg_r2 = r2_score(y_test, y_pred)"
   ]
  },
  {
   "cell_type": "markdown",
   "metadata": {},
   "source": [
    "##### Cross Validation"
   ]
  },
  {
   "cell_type": "code",
   "execution_count": 113,
   "metadata": {},
   "outputs": [
    {
     "name": "stdout",
     "output_type": "stream",
     "text": [
      "MSE: [-23.6368855   -7.66350549  -2.37597556  -1.60716184  -1.4818142 ] \n",
      "\n",
      "MSE mean: -7.3530685191560945\n",
      "MSE std: 8.455975306112418\n"
     ]
    }
   ],
   "source": [
    "#MSE = 'mean_squared_error'\n",
    "mse = cross_val_score (estimator =  lreg, X = x_train, y = y_train, cv = 5, n_jobs = -1)\n",
    "print(f\"MSE: {mse} \\n\")\n",
    "print(f'MSE mean: {mse.mean()}')\n",
    "print(f'MSE std: {mse.std()}')\n",
    "lreg_mse = mse.mean()"
   ]
  },
  {
   "cell_type": "markdown",
   "metadata": {},
   "source": [
    "### Neural Network Regression"
   ]
  },
  {
   "cell_type": "code",
   "execution_count": 115,
   "metadata": {},
   "outputs": [
    {
     "name": "stdout",
     "output_type": "stream",
     "text": [
      "Explained Variance Score: 0.13603939311631352\n",
      "Mean Absolute Error: 173.43081819534473\n",
      "Mean Squared Error: 46363.894949444184\n",
      "R^2 : 0.1294933622056108\n"
     ]
    }
   ],
   "source": [
    "data_scaled, apac = make_regression(n_samples = 126, random_state=1)\n",
    "x_train, x_test, y_train, y_test = train_test_split(data_scaled, apac, random_state=1)\n",
    "\n",
    "regr = MLPRegressor(random_state=1, max_iter=3000).fit(x_train, y_train)\n",
    "y_pred = regr.predict(x_test)\n",
    "\n",
    "print('Explained Variance Score: ' + str(explained_variance_score(y_test, y_pred)))\n",
    "print('Mean Absolute Error: ' + str(mean_absolute_error(y_test, y_pred)))\n",
    "print('Mean Squared Error: ' + str(mean_squared_error(y_test,y_pred)))\n",
    "print('R^2 : ' + str(r2_score(y_test, y_pred)))\n",
    "regr_r2 = r2_score(y_test, y_pred)"
   ]
  },
  {
   "cell_type": "markdown",
   "metadata": {},
   "source": [
    "##### Cross Validation"
   ]
  },
  {
   "cell_type": "code",
   "execution_count": 116,
   "metadata": {},
   "outputs": [
    {
     "name": "stdout",
     "output_type": "stream",
     "text": [
      "MSE: [ 0.03073947  0.37564675 -0.07571365  0.13728398  0.11120648] \n",
      "\n",
      "MSE mean: 0.1158326057234819\n",
      "MSE std: 0.14960999926694474\n"
     ]
    }
   ],
   "source": [
    "#MSE = 'mean_squared_error'\n",
    "mse = cross_val_score (estimator =  regr, X = x_train, y = y_train, cv = 5, n_jobs = -1)\n",
    "print(f\"MSE: {mse} \\n\")\n",
    "print(f'MSE mean: {mse.mean()}')\n",
    "print(f'MSE std: {mse.std()}')\n",
    "regr_mse = mse.mean()"
   ]
  },
  {
   "cell_type": "markdown",
   "metadata": {},
   "source": [
    "### Support Vector Regression "
   ]
  },
  {
   "cell_type": "code",
   "execution_count": 117,
   "metadata": {},
   "outputs": [
    {
     "name": "stdout",
     "output_type": "stream",
     "text": [
      "Explained Variance Score: 0.002063453342000643\n",
      "Mean Absolute Error: 182.22921292655553\n",
      "Mean Squared Error: 53898.66217328174\n",
      "R^2 : -0.011975875651525358\n"
     ]
    }
   ],
   "source": [
    "svr = SVR(kernel = 'rbf')\n",
    "svr.fit(x_train, y_train)\n",
    "\n",
    "y_pred = svr.predict(x_test)\n",
    "\n",
    "print('Explained Variance Score: ' + str(explained_variance_score(y_test, y_pred)))\n",
    "print('Mean Absolute Error: ' + str(mean_absolute_error(y_test, y_pred)))\n",
    "print('Mean Squared Error: ' + str(mean_squared_error(y_test,y_pred)))\n",
    "print('R^2 : ' + str(r2_score(y_test, y_pred)))\n",
    "svr_r2 = r2_score(y_test, y_pred)"
   ]
  },
  {
   "cell_type": "markdown",
   "metadata": {},
   "source": [
    "##### Cross Validation"
   ]
  },
  {
   "cell_type": "code",
   "execution_count": 118,
   "metadata": {},
   "outputs": [
    {
     "name": "stdout",
     "output_type": "stream",
     "text": [
      "MSE: [-0.00779796 -0.00330462 -0.05154368 -0.22694667 -0.00060086] \n",
      "\n",
      "MSE mean: -0.0580387584545754\n",
      "MSE std: 0.0864767546422582\n"
     ]
    }
   ],
   "source": [
    "#MSE = 'mean_squared_error'\n",
    "mse = cross_val_score (estimator =  svr, X = x_train, y = y_train, cv = 5, n_jobs = -1)\n",
    "print(f\"MSE: {mse} \\n\")\n",
    "print(f'MSE mean: {mse.mean()}')\n",
    "print(f'MSE std: {mse.std()}')\n",
    "svr_mse = mse.mean()"
   ]
  },
  {
   "cell_type": "markdown",
   "metadata": {},
   "source": [
    "### Over-Sampling\n",
    "We also implemented over-sampling to improve our results. \n",
    "We are passing floats to a classifier which expects categorical values as the target vector.  It would be better to convert your training scores by using scikit's labelEncoder function."
   ]
  },
  {
   "cell_type": "code",
   "execution_count": 119,
   "metadata": {},
   "outputs": [
    {
     "name": "stdout",
     "output_type": "stream",
     "text": [
      "continuous\n",
      "multiclass\n",
      "Explained Variance Score: 0.0020727934150380767\n",
      "Mean Absolute Error: 191.54590194052966\n",
      "Mean Squared Error: 56464.31284526155\n",
      "R^2 : -0.06014732334062489\n"
     ]
    }
   ],
   "source": [
    "lab_enc = preprocessing.LabelEncoder()\n",
    "\n",
    "y_encoded = lab_enc.fit_transform(y_train)\n",
    "\n",
    "print(utils.multiclass.type_of_target(y_train))\n",
    "print(utils.multiclass.type_of_target(y_train.astype('int')))\n",
    "\n",
    "\n",
    "# transform the dataset\n",
    "oversample = SMOTE()\n",
    "X, y = oversample.fit_resample(x_train, y_encoded )\n",
    "\n",
    "svr_over = SVR(kernel = 'rbf')\n",
    "svr_over.fit(X, y)\n",
    "\n",
    "y_pred = svr_over.predict(x_test)\n",
    "\n",
    "\n",
    "print('Explained Variance Score: ' + str(explained_variance_score(y_test, y_pred)))\n",
    "print('Mean Absolute Error: ' + str(mean_absolute_error(y_test, y_pred)))\n",
    "print('Mean Squared Error: ' + str(mean_squared_error(y_test,y_pred)))\n",
    "print('R^2 : ' + str(r2_score(y_test, y_pred)))\n",
    "svr_r2_over = r2_score(y_test, y_pred)\n"
   ]
  },
  {
   "cell_type": "markdown",
   "metadata": {},
   "source": [
    "##### Cross Validation"
   ]
  },
  {
   "cell_type": "code",
   "execution_count": 120,
   "metadata": {},
   "outputs": [
    {
     "name": "stdout",
     "output_type": "stream",
     "text": [
      "MSE: [-0.00934841 -0.00168714 -0.05341242 -0.21014694  0.00913582] \n",
      "\n",
      "MSE mean: -0.05309181775292689\n",
      "MSE std: 0.08135676776704433\n"
     ]
    }
   ],
   "source": [
    "#MSE = 'mean_squared_error'\n",
    "mse = cross_val_score (estimator =  svr_over, X = X, y = y, cv = 5, n_jobs = -1)\n",
    "print(f\"MSE: {mse} \\n\")\n",
    "print(f'MSE mean: {mse.mean()}')\n",
    "print(f'MSE std: {mse.std()}')\n",
    "svr_mse_over = mse.mean()"
   ]
  },
  {
   "cell_type": "markdown",
   "metadata": {},
   "source": [
    "## Random Forest Regression"
   ]
  },
  {
   "cell_type": "code",
   "execution_count": 121,
   "metadata": {},
   "outputs": [
    {
     "name": "stdout",
     "output_type": "stream",
     "text": [
      "Explained Variance Score: 0.5177462258070924\n",
      "Mean Absolute Error: 135.5105860163963\n",
      "Mean Squared Error: 26981.77864944109\n",
      "R^2 : 0.49340284202936724\n"
     ]
    }
   ],
   "source": [
    "rf = RandomForestRegressor()\n",
    "rf.fit(x_train, y_train)\n",
    "\n",
    "y_pred = rf.predict(x_test)\n",
    "\n",
    "print('Explained Variance Score: ' + str(explained_variance_score(y_test, y_pred)))\n",
    "print('Mean Absolute Error: ' + str(mean_absolute_error(y_test, y_pred)))\n",
    "print('Mean Squared Error: ' + str(mean_squared_error(y_test,y_pred)))\n",
    "print('R^2 : ' + str(r2_score(y_test, y_pred)))\n",
    "rf_r2 = r2_score(y_test, y_pred)"
   ]
  },
  {
   "cell_type": "markdown",
   "metadata": {},
   "source": [
    "#### Cross Validation"
   ]
  },
  {
   "cell_type": "code",
   "execution_count": 122,
   "metadata": {},
   "outputs": [
    {
     "name": "stdout",
     "output_type": "stream",
     "text": [
      "MSE: [ 0.30365847  0.26663406  0.17377382 -0.01201714  0.12556508] \n",
      "\n",
      "MSE mean: 0.1715228577882675\n",
      "MSE std: 0.11163339636887305\n"
     ]
    }
   ],
   "source": [
    "#MSE = 'mean_squared_error'\n",
    "mse = cross_val_score (estimator =  rf, X = x_train, y = y_train, cv = 5, n_jobs = -1)\n",
    "print(f\"MSE: {mse} \\n\")\n",
    "print(f'MSE mean: {mse.mean()}')\n",
    "print(f'MSE std: {mse.std()}')\n",
    "rf_mse = mse.mean()"
   ]
  },
  {
   "cell_type": "markdown",
   "metadata": {},
   "source": [
    "## Decision Tree Regression"
   ]
  },
  {
   "cell_type": "code",
   "execution_count": 123,
   "metadata": {},
   "outputs": [
    {
     "name": "stdout",
     "output_type": "stream",
     "text": [
      "Explained Variance Score: -0.16681511817848138\n",
      "Mean Absolute Error: 200.94681888881067\n",
      "Mean Squared Error: 62240.35026938417\n",
      "R^2 : -0.16859547946146503\n"
     ]
    }
   ],
   "source": [
    "dt = DecisionTreeRegressor()\n",
    "dt.fit(x_train, y_train)\n",
    "\n",
    "y_pred = dt.predict(x_test)\n",
    "\n",
    "print('Explained Variance Score: ' + str(explained_variance_score(y_test, y_pred)))\n",
    "print('Mean Absolute Error: ' + str(mean_absolute_error(y_test, y_pred)))\n",
    "print('Mean Squared Error: ' + str(mean_squared_error(y_test,y_pred)))\n",
    "print('R^2 : ' + str(r2_score(y_test, y_pred)))\n",
    "dt_r2 = r2_score(y_test, y_pred)"
   ]
  },
  {
   "cell_type": "markdown",
   "metadata": {},
   "source": [
    "#### Cross Validation"
   ]
  },
  {
   "cell_type": "code",
   "execution_count": 124,
   "metadata": {},
   "outputs": [
    {
     "name": "stdout",
     "output_type": "stream",
     "text": [
      "MSE: [ 0.26196571 -1.88846341 -2.77313792 -1.18064624 -0.8732798 ] \n",
      "\n",
      "MSE mean: -1.290712333472285\n",
      "MSE std: 1.015092659125167\n"
     ]
    }
   ],
   "source": [
    "#MSE = 'mean_squared_error'\n",
    "mse = cross_val_score (estimator =  dt, X = x_train, y = y_train, cv = 5, n_jobs = -1)\n",
    "print(f\"MSE: {mse} \\n\")\n",
    "print(f'MSE mean: {mse.mean()}')\n",
    "print(f'MSE std: {mse.std()}')\n",
    "dt_mse = mse.mean()"
   ]
  },
  {
   "cell_type": "markdown",
   "metadata": {},
   "source": [
    "### Over-Sampling\n",
    "We also implemented over-sampling to improve our results. \n",
    "We are passing floats to a classifier which expects categorical values as the target vector.  It would be better to convert your training scores by using scikit's labelEncoder function."
   ]
  },
  {
   "cell_type": "code",
   "execution_count": 125,
   "metadata": {},
   "outputs": [
    {
     "name": "stdout",
     "output_type": "stream",
     "text": [
      "continuous\n",
      "multiclass\n",
      "Explained Variance Score: 0.11526806605189188\n",
      "Mean Absolute Error: 183.98754209401596\n",
      "Mean Squared Error: 50623.07568340776\n",
      "R^2 : 0.049524992323741746\n"
     ]
    }
   ],
   "source": [
    "lab_enc = preprocessing.LabelEncoder()\n",
    "\n",
    "y_encoded = lab_enc.fit_transform(y_train)\n",
    "\n",
    "print(utils.multiclass.type_of_target(y_train))\n",
    "print(utils.multiclass.type_of_target(y_train.astype('int')))\n",
    "\n",
    "\n",
    "# transform the dataset\n",
    "oversample = SMOTE()\n",
    "X, y = oversample.fit_resample(x_train, y_encoded )\n",
    "\n",
    "dt_over = DecisionTreeRegressor()\n",
    "dt_over.fit(X, y)\n",
    "\n",
    "y_pred = dt_over.predict(x_test)\n",
    "\n",
    "\n",
    "print('Explained Variance Score: ' + str(explained_variance_score(y_test, y_pred)))\n",
    "print('Mean Absolute Error: ' + str(mean_absolute_error(y_test, y_pred)))\n",
    "print('Mean Squared Error: ' + str(mean_squared_error(y_test,y_pred)))\n",
    "print('R^2 : ' + str(r2_score(y_test, y_pred)))\n",
    "dt_r2_over = r2_score(y_test, y_pred)"
   ]
  },
  {
   "cell_type": "markdown",
   "metadata": {},
   "source": [
    "#### Cross Validation"
   ]
  },
  {
   "cell_type": "code",
   "execution_count": 126,
   "metadata": {},
   "outputs": [
    {
     "name": "stdout",
     "output_type": "stream",
     "text": [
      "MSE: [-0.22929599 -0.26733565 -0.5778702  -0.31736945 -0.62828947] \n",
      "\n",
      "MSE mean: -0.40403215476765164\n",
      "MSE std: 0.1656744381355689\n"
     ]
    }
   ],
   "source": [
    "#MSE = 'mean_squared_error'\n",
    "mse = cross_val_score (estimator =  dt_over, X = X, y = y, cv = 5, n_jobs = -1)\n",
    "print(f\"MSE: {mse} \\n\")\n",
    "print(f'MSE mean: {mse.mean()}')\n",
    "print(f'MSE std: {mse.std()}')\n",
    "dt_mse_over = mse.mean()"
   ]
  },
  {
   "cell_type": "markdown",
   "metadata": {},
   "source": [
    "## Summary"
   ]
  },
  {
   "cell_type": "code",
   "execution_count": 128,
   "metadata": {
    "scrolled": true
   },
   "outputs": [
    {
     "name": "stdout",
     "output_type": "stream",
     "text": [
      "Neural Network Regression  R^2=0.129   : MSE=0.116\n",
      "Random Forest Regression  R^2=0.493   : MSE=0.172\n",
      "Linear Regression  R^2=-0.095   R^2 over=-0.095   : MSE=-7.353  : MSE over=-7.353\n",
      "Support Vector Regression  R^2=-0.012   R^2 over=-0.012   : MSE=-0.060  : MSE over=-0.060\n",
      "Decision Tree Regression  R^2=-0.169   R^2 over=-0.169   : MSE=0.050  : MSE over=0.050\n"
     ]
    }
   ],
   "source": [
    "\n",
    "models = { 'Neural Network Regression': ( regr_r2, regr_mse), 'Random Forest Regression' : (rf_r2, rf_mse)}\n",
    "\n",
    "for i in models:\n",
    "    print(i, ' R^2=%.3f ' % (models[i][0]), ' : MSE=%.3f' % (models[i][1]))\n",
    "    \n",
    "models = {'Linear Regression' : (lreg_r2, lreg_mse, lreg_mse_over),'Support Vector Regression': ( svr_r2, svr_r2_over, svr_mse, svr_mse_over), 'Decision Tree Regression': (dt_r2, dt_r2_over, dt_mse, dt_mse_over)}\n",
    "\n",
    "for i in models:\n",
    "    print(i, ' R^2=%.3f ' % (models[i][0]), ' R^2 over=%.3f ' % (models[i][0]), ' : MSE=%.3f' % (models[i][1]), ' : MSE over=%.3f' % (models[i][1]))\n",
    "\n"
   ]
  },
  {
   "cell_type": "markdown",
   "metadata": {},
   "source": [
    "### Discussion\n",
    "\n",
    "**R<sup>2</sup>**\n",
    "\n",
    "In the models LR, SVR and DTR we have negative R<sup>2</sup> scores, which means that our models do not follow the tendency of our data.\n",
    "In the other models de values of R<sup>2</sup> varies between 0.129-0.493. \n",
    "The coefficient of determination (R<sup>2</sup>) measures how well the model fits with the data, in this case the best model is Random Forest Regression. \n",
    "We also implemented over-sampling to improve our results. However, no improvement was observed.\n",
    "\n",
    "**Explained Variance Scores**\n",
    "\n",
    "The Explained Variance Scores measure how much our models take into account the variance of our data set.\n",
    "In the case of LR and DTR the values are negative, so the models are nonspecific.\n",
    "In the NNR and SVR are also very low, with low specification. The model with the best result is Random Forest Regression with a value of 0.172. \n",
    "We also implemented over-sampling to improve our results. However, no improvement was observed.\n",
    "\n",
    "**MAE and MSE**\n",
    "\n",
    "The mean absolute error (MAE) is a quantity used to measure how close predictions are to the outcomes. \n",
    "The mean absolute error is an average of the all absolute errors. \n",
    "The mean absolute error is a common measure of estimate error in time series analysis. The mean squared error of an estimator measures the average of the squares of the errors, which means the difference between the estimator and estimated.\n",
    "MSE is a function, equivalent to the expected value of the squared error loss or quadratic loss. The difference occurs because of the randomness. The MSE is a measure of the quality of an estimator, it is always positive, and values which are closer to zero are better. \n",
    "Our MAE and MSE are also very high,  means our model prediction errors are too high for the predictions to be relevant.\n",
    "We also implemented over-sampling to improve our results. However, no improvement was observed.\n",
    "\n",
    "\n",
    "From our results we can acess that the model with the best results is the Random Forest Regression model, but this and the other regression models do not successfully fit with our data.\n",
    "One possible reason for the bad scores can be the few training examples, overfitting, data imbalance, etc."
   ]
  },
  {
   "cell_type": "code",
   "execution_count": null,
   "metadata": {},
   "outputs": [],
   "source": []
  }
 ],
 "metadata": {
  "kernelspec": {
   "display_name": "Python 3",
   "language": "python",
   "name": "python3"
  },
  "language_info": {
   "codemirror_mode": {
    "name": "ipython",
    "version": 3
   },
   "file_extension": ".py",
   "mimetype": "text/x-python",
   "name": "python",
   "nbconvert_exporter": "python",
   "pygments_lexer": "ipython3",
   "version": "3.8.3"
  }
 },
 "nbformat": 4,
 "nbformat_minor": 4
}
