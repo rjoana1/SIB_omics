{
 "cells": [
  {
   "cell_type": "code",
   "execution_count": 2,
   "metadata": {},
   "outputs": [],
   "source": [
    "#import packages\n",
    "import pandas as pd\n",
    "import numpy as np\n",
    "from IPython.display import display\n",
    "from sklearn import preprocessing\n",
    "from scipy import stats\n",
    "import statsmodels.api as sm\n",
    "from statsmodels.stats.multitest import multipletests\n",
    "import matplotlib.pyplot as plt \n",
    "import operator\n",
    "import collections\n",
    "from sklearn.decomposition import PCA\n",
    "from scipy.cluster.hierarchy import dendrogram, linkage\n",
    "from sklearn.manifold import TSNE\n",
    "import seaborn as sns\n",
    "%matplotlib inline\n",
    "from sklearn.metrics import confusion_matrix\n",
    "from sklearn.tree import DecisionTreeClassifier, DecisionTreeRegressor\n",
    "from sklearn.neighbors import KNeighborsClassifier\n",
    "from sklearn import preprocessing\n",
    "from sklearn.naive_bayes import GaussianNB\n",
    "from sklearn.model_selection import GridSearchCV\n",
    "from sklearn.svm import SVC, SVR\n",
    "from sklearn.metrics import accuracy_score,recall_score,precision_score,f1_score\n",
    "from sklearn.metrics import mean_squared_error, r2_score, mean_absolute_error, explained_variance_score\n",
    "from sklearn.model_selection import cross_val_score\n",
    "from sklearn.metrics import confusion_matrix, precision_recall_curve\n",
    "from sklearn.ensemble import RandomForestClassifier, RandomForestRegressor\n",
    "from sklearn.linear_model import LinearRegression, LogisticRegression\n",
    "from sklearn.model_selection import LeaveOneOut, StratifiedKFold\n",
    "from sklearn.feature_selection import SelectKBest, SelectPercentile, f_regression, chi2, f_classif\n",
    "#from imblearn.over_sampling import SMOTE\n",
    "from itertools import cycle\n",
    "from sklearn.metrics import roc_curve, auc, roc_auc_score\n",
    "from sklearn.multiclass import OneVsRestClassifier\n",
    "from scipy import interp\n",
    "from sklearn.neural_network import MLPClassifier\n",
    "#from keras.layers import Dense, Activation\n",
    "#from keras.models import Sequential\n",
    "from sklearn.model_selection import train_test_split\n",
    "from sklearn.model_selection import StratifiedKFold\n",
    "from sklearn.preprocessing import label_binarize\n",
    "from sklearn.neural_network import MLPRegressor\n",
    "from sklearn.datasets import make_regression\n",
    "from sklearn.model_selection import train_test_split\n",
    "\n",
    "from tensorflow.keras.models import Sequential\n",
    "from tensorflow.keras.layers import Dense, Flatten, Dropout\n",
    "from tensorflow.keras.wrappers.scikit_learn import KerasClassifier\n",
    "from sklearn.model_selection import StratifiedKFold\n",
    "import tensorflow as tf\n",
    "from tensorflow.keras.utils import to_categorical\n",
    "from sklearn.preprocessing import label_binarize"
   ]
  },
  {
   "cell_type": "markdown",
   "metadata": {},
   "source": [
    "# Deep Learning"
   ]
  },
  {
   "cell_type": "code",
   "execution_count": 12,
   "metadata": {},
   "outputs": [
    {
     "name": "stderr",
     "output_type": "stream",
     "text": [
      "26-Jan-2021 01:40:16 DEBUG utils - Directory ./ already exists. Skipping.\n",
      "26-Jan-2021 01:40:16 INFO GEOparse - File already exist: using local version.\n",
      "26-Jan-2021 01:40:16 INFO GEOparse - Parsing ./GSE157103_family.soft.gz: \n",
      "26-Jan-2021 01:40:16 DEBUG GEOparse - DATABASE: GeoMiame\n",
      "26-Jan-2021 01:40:16 DEBUG GEOparse - SERIES: GSE157103\n",
      "26-Jan-2021 01:40:16 DEBUG GEOparse - PLATFORM: GPL24676\n",
      "26-Jan-2021 01:40:16 DEBUG GEOparse - SAMPLE: GSM4753021\n",
      "26-Jan-2021 01:40:16 DEBUG GEOparse - SAMPLE: GSM4753022\n",
      "26-Jan-2021 01:40:16 DEBUG GEOparse - SAMPLE: GSM4753023\n",
      "26-Jan-2021 01:40:16 DEBUG GEOparse - SAMPLE: GSM4753024\n",
      "26-Jan-2021 01:40:16 DEBUG GEOparse - SAMPLE: GSM4753025\n",
      "26-Jan-2021 01:40:16 DEBUG GEOparse - SAMPLE: GSM4753026\n",
      "26-Jan-2021 01:40:16 DEBUG GEOparse - SAMPLE: GSM4753027\n",
      "26-Jan-2021 01:40:16 DEBUG GEOparse - SAMPLE: GSM4753028\n",
      "26-Jan-2021 01:40:16 DEBUG GEOparse - SAMPLE: GSM4753029\n",
      "26-Jan-2021 01:40:16 DEBUG GEOparse - SAMPLE: GSM4753030\n",
      "26-Jan-2021 01:40:16 DEBUG GEOparse - SAMPLE: GSM4753031\n",
      "26-Jan-2021 01:40:16 DEBUG GEOparse - SAMPLE: GSM4753032\n",
      "26-Jan-2021 01:40:16 DEBUG GEOparse - SAMPLE: GSM4753033\n",
      "26-Jan-2021 01:40:16 DEBUG GEOparse - SAMPLE: GSM4753034\n",
      "26-Jan-2021 01:40:16 DEBUG GEOparse - SAMPLE: GSM4753035\n",
      "26-Jan-2021 01:40:16 DEBUG GEOparse - SAMPLE: GSM4753036\n",
      "26-Jan-2021 01:40:16 DEBUG GEOparse - SAMPLE: GSM4753037\n",
      "26-Jan-2021 01:40:16 DEBUG GEOparse - SAMPLE: GSM4753038\n",
      "26-Jan-2021 01:40:16 DEBUG GEOparse - SAMPLE: GSM4753039\n",
      "26-Jan-2021 01:40:16 DEBUG GEOparse - SAMPLE: GSM4753040\n",
      "26-Jan-2021 01:40:16 DEBUG GEOparse - SAMPLE: GSM4753041\n",
      "26-Jan-2021 01:40:16 DEBUG GEOparse - SAMPLE: GSM4753042\n",
      "26-Jan-2021 01:40:16 DEBUG GEOparse - SAMPLE: GSM4753043\n",
      "26-Jan-2021 01:40:16 DEBUG GEOparse - SAMPLE: GSM4753044\n",
      "26-Jan-2021 01:40:16 DEBUG GEOparse - SAMPLE: GSM4753045\n",
      "26-Jan-2021 01:40:16 DEBUG GEOparse - SAMPLE: GSM4753046\n",
      "26-Jan-2021 01:40:17 DEBUG GEOparse - SAMPLE: GSM4753047\n",
      "26-Jan-2021 01:40:17 DEBUG GEOparse - SAMPLE: GSM4753048\n",
      "26-Jan-2021 01:40:17 DEBUG GEOparse - SAMPLE: GSM4753049\n",
      "26-Jan-2021 01:40:17 DEBUG GEOparse - SAMPLE: GSM4753050\n",
      "26-Jan-2021 01:40:17 DEBUG GEOparse - SAMPLE: GSM4753051\n",
      "26-Jan-2021 01:40:17 DEBUG GEOparse - SAMPLE: GSM4753052\n",
      "26-Jan-2021 01:40:17 DEBUG GEOparse - SAMPLE: GSM4753053\n",
      "26-Jan-2021 01:40:17 DEBUG GEOparse - SAMPLE: GSM4753054\n",
      "26-Jan-2021 01:40:17 DEBUG GEOparse - SAMPLE: GSM4753055\n",
      "26-Jan-2021 01:40:17 DEBUG GEOparse - SAMPLE: GSM4753056\n",
      "26-Jan-2021 01:40:17 DEBUG GEOparse - SAMPLE: GSM4753057\n",
      "26-Jan-2021 01:40:17 DEBUG GEOparse - SAMPLE: GSM4753058\n",
      "26-Jan-2021 01:40:17 DEBUG GEOparse - SAMPLE: GSM4753059\n",
      "26-Jan-2021 01:40:17 DEBUG GEOparse - SAMPLE: GSM4753060\n",
      "26-Jan-2021 01:40:17 DEBUG GEOparse - SAMPLE: GSM4753061\n",
      "26-Jan-2021 01:40:17 DEBUG GEOparse - SAMPLE: GSM4753062\n",
      "26-Jan-2021 01:40:17 DEBUG GEOparse - SAMPLE: GSM4753063\n",
      "26-Jan-2021 01:40:17 DEBUG GEOparse - SAMPLE: GSM4753064\n",
      "26-Jan-2021 01:40:17 DEBUG GEOparse - SAMPLE: GSM4753065\n",
      "26-Jan-2021 01:40:17 DEBUG GEOparse - SAMPLE: GSM4753066\n",
      "26-Jan-2021 01:40:17 DEBUG GEOparse - SAMPLE: GSM4753067\n",
      "26-Jan-2021 01:40:17 DEBUG GEOparse - SAMPLE: GSM4753068\n",
      "26-Jan-2021 01:40:17 DEBUG GEOparse - SAMPLE: GSM4753069\n",
      "26-Jan-2021 01:40:17 DEBUG GEOparse - SAMPLE: GSM4753070\n",
      "26-Jan-2021 01:40:17 DEBUG GEOparse - SAMPLE: GSM4753071\n",
      "26-Jan-2021 01:40:17 DEBUG GEOparse - SAMPLE: GSM4753072\n",
      "26-Jan-2021 01:40:17 DEBUG GEOparse - SAMPLE: GSM4753073\n",
      "26-Jan-2021 01:40:17 DEBUG GEOparse - SAMPLE: GSM4753074\n",
      "26-Jan-2021 01:40:17 DEBUG GEOparse - SAMPLE: GSM4753075\n",
      "26-Jan-2021 01:40:17 DEBUG GEOparse - SAMPLE: GSM4753076\n",
      "26-Jan-2021 01:40:17 DEBUG GEOparse - SAMPLE: GSM4753077\n",
      "26-Jan-2021 01:40:17 DEBUG GEOparse - SAMPLE: GSM4753078\n",
      "26-Jan-2021 01:40:17 DEBUG GEOparse - SAMPLE: GSM4753079\n",
      "26-Jan-2021 01:40:17 DEBUG GEOparse - SAMPLE: GSM4753080\n",
      "26-Jan-2021 01:40:17 DEBUG GEOparse - SAMPLE: GSM4753081\n",
      "26-Jan-2021 01:40:17 DEBUG GEOparse - SAMPLE: GSM4753082\n",
      "26-Jan-2021 01:40:17 DEBUG GEOparse - SAMPLE: GSM4753083\n",
      "26-Jan-2021 01:40:17 DEBUG GEOparse - SAMPLE: GSM4753084\n",
      "26-Jan-2021 01:40:17 DEBUG GEOparse - SAMPLE: GSM4753085\n",
      "26-Jan-2021 01:40:17 DEBUG GEOparse - SAMPLE: GSM4753086\n",
      "26-Jan-2021 01:40:17 DEBUG GEOparse - SAMPLE: GSM4753087\n",
      "26-Jan-2021 01:40:17 DEBUG GEOparse - SAMPLE: GSM4753088\n",
      "26-Jan-2021 01:40:17 DEBUG GEOparse - SAMPLE: GSM4753089\n",
      "26-Jan-2021 01:40:17 DEBUG GEOparse - SAMPLE: GSM4753090\n",
      "26-Jan-2021 01:40:17 DEBUG GEOparse - SAMPLE: GSM4753091\n",
      "26-Jan-2021 01:40:17 DEBUG GEOparse - SAMPLE: GSM4753092\n",
      "26-Jan-2021 01:40:17 DEBUG GEOparse - SAMPLE: GSM4753093\n",
      "26-Jan-2021 01:40:17 DEBUG GEOparse - SAMPLE: GSM4753094\n",
      "26-Jan-2021 01:40:17 DEBUG GEOparse - SAMPLE: GSM4753095\n",
      "26-Jan-2021 01:40:17 DEBUG GEOparse - SAMPLE: GSM4753096\n",
      "26-Jan-2021 01:40:17 DEBUG GEOparse - SAMPLE: GSM4753097\n",
      "26-Jan-2021 01:40:17 DEBUG GEOparse - SAMPLE: GSM4753098\n",
      "26-Jan-2021 01:40:17 DEBUG GEOparse - SAMPLE: GSM4753099\n",
      "26-Jan-2021 01:40:17 DEBUG GEOparse - SAMPLE: GSM4753100\n",
      "26-Jan-2021 01:40:17 DEBUG GEOparse - SAMPLE: GSM4753101\n",
      "26-Jan-2021 01:40:17 DEBUG GEOparse - SAMPLE: GSM4753102\n",
      "26-Jan-2021 01:40:17 DEBUG GEOparse - SAMPLE: GSM4753103\n",
      "26-Jan-2021 01:40:17 DEBUG GEOparse - SAMPLE: GSM4753104\n",
      "26-Jan-2021 01:40:17 DEBUG GEOparse - SAMPLE: GSM4753105\n",
      "26-Jan-2021 01:40:17 DEBUG GEOparse - SAMPLE: GSM4753106\n",
      "26-Jan-2021 01:40:17 DEBUG GEOparse - SAMPLE: GSM4753107\n",
      "26-Jan-2021 01:40:17 DEBUG GEOparse - SAMPLE: GSM4753108\n",
      "26-Jan-2021 01:40:17 DEBUG GEOparse - SAMPLE: GSM4753109\n",
      "26-Jan-2021 01:40:17 DEBUG GEOparse - SAMPLE: GSM4753110\n",
      "26-Jan-2021 01:40:17 DEBUG GEOparse - SAMPLE: GSM4753111\n",
      "26-Jan-2021 01:40:17 DEBUG GEOparse - SAMPLE: GSM4753112\n",
      "26-Jan-2021 01:40:17 DEBUG GEOparse - SAMPLE: GSM4753113\n",
      "26-Jan-2021 01:40:17 DEBUG GEOparse - SAMPLE: GSM4753114\n",
      "26-Jan-2021 01:40:17 DEBUG GEOparse - SAMPLE: GSM4753115\n",
      "26-Jan-2021 01:40:17 DEBUG GEOparse - SAMPLE: GSM4753116\n",
      "26-Jan-2021 01:40:17 DEBUG GEOparse - SAMPLE: GSM4753117\n",
      "26-Jan-2021 01:40:17 DEBUG GEOparse - SAMPLE: GSM4753118\n",
      "26-Jan-2021 01:40:17 DEBUG GEOparse - SAMPLE: GSM4753119\n",
      "26-Jan-2021 01:40:17 DEBUG GEOparse - SAMPLE: GSM4753120\n",
      "26-Jan-2021 01:40:17 DEBUG GEOparse - SAMPLE: GSM4753121\n",
      "26-Jan-2021 01:40:17 DEBUG GEOparse - SAMPLE: GSM4753122\n",
      "26-Jan-2021 01:40:17 DEBUG GEOparse - SAMPLE: GSM4753123\n",
      "26-Jan-2021 01:40:17 DEBUG GEOparse - SAMPLE: GSM4753124\n",
      "26-Jan-2021 01:40:17 DEBUG GEOparse - SAMPLE: GSM4753125\n",
      "26-Jan-2021 01:40:17 DEBUG GEOparse - SAMPLE: GSM4753126\n",
      "26-Jan-2021 01:40:17 DEBUG GEOparse - SAMPLE: GSM4753127\n",
      "26-Jan-2021 01:40:17 DEBUG GEOparse - SAMPLE: GSM4753128\n",
      "26-Jan-2021 01:40:17 DEBUG GEOparse - SAMPLE: GSM4753129\n",
      "26-Jan-2021 01:40:17 DEBUG GEOparse - SAMPLE: GSM4753130\n",
      "26-Jan-2021 01:40:17 DEBUG GEOparse - SAMPLE: GSM4753131\n",
      "26-Jan-2021 01:40:17 DEBUG GEOparse - SAMPLE: GSM4753132\n",
      "26-Jan-2021 01:40:17 DEBUG GEOparse - SAMPLE: GSM4753133\n",
      "26-Jan-2021 01:40:17 DEBUG GEOparse - SAMPLE: GSM4753134\n",
      "26-Jan-2021 01:40:18 DEBUG GEOparse - SAMPLE: GSM4753135\n",
      "26-Jan-2021 01:40:18 DEBUG GEOparse - SAMPLE: GSM4753136\n",
      "26-Jan-2021 01:40:18 DEBUG GEOparse - SAMPLE: GSM4753137\n",
      "26-Jan-2021 01:40:18 DEBUG GEOparse - SAMPLE: GSM4753138\n",
      "26-Jan-2021 01:40:18 DEBUG GEOparse - SAMPLE: GSM4753139\n",
      "26-Jan-2021 01:40:18 DEBUG GEOparse - SAMPLE: GSM4753140\n",
      "26-Jan-2021 01:40:18 DEBUG GEOparse - SAMPLE: GSM4753141\n",
      "26-Jan-2021 01:40:18 DEBUG GEOparse - SAMPLE: GSM4753142\n",
      "26-Jan-2021 01:40:18 DEBUG GEOparse - SAMPLE: GSM4753143\n",
      "26-Jan-2021 01:40:18 DEBUG GEOparse - SAMPLE: GSM4753144\n",
      "26-Jan-2021 01:40:18 DEBUG GEOparse - SAMPLE: GSM4753145\n",
      "26-Jan-2021 01:40:18 DEBUG GEOparse - SAMPLE: GSM4753146\n"
     ]
    },
    {
     "name": "stdout",
     "output_type": "stream",
     "text": [
      "                                 title geo_accession                 status  \\\n",
      "GSM4753021    COVID_01_39y_male_NonICU    GSM4753021  Public on Aug 29 2020   \n",
      "GSM4753022    COVID_02_63y_male_NonICU    GSM4753022  Public on Aug 29 2020   \n",
      "GSM4753023    COVID_03_33y_male_NonICU    GSM4753023  Public on Aug 29 2020   \n",
      "GSM4753024    COVID_04_49y_male_NonICU    GSM4753024  Public on Aug 29 2020   \n",
      "GSM4753025    COVID_05_49y_male_NonICU    GSM4753025  Public on Aug 29 2020   \n",
      "GSM4753026     COVID_06_:y_male_NonICU    GSM4753026  Public on Aug 29 2020   \n",
      "GSM4753027  COVID_07_38y_female_NonICU    GSM4753027  Public on Aug 29 2020   \n",
      "GSM4753028       COVID_08_78y_male_ICU    GSM4753028  Public on Aug 29 2020   \n",
      "GSM4753029     COVID_09_64y_female_ICU    GSM4753029  Public on Aug 29 2020   \n",
      "GSM4753030       COVID_10_62y_male_ICU    GSM4753030  Public on Aug 29 2020   \n",
      "GSM4753031  COVID_11_52y_female_NonICU    GSM4753031  Public on Aug 29 2020   \n",
      "GSM4753032       COVID_12_50y_male_ICU    GSM4753032  Public on Aug 29 2020   \n",
      "GSM4753033    COVID_13_37y_male_NonICU    GSM4753033  Public on Aug 29 2020   \n",
      "GSM4753034       COVID_14_55y_male_ICU    GSM4753034  Public on Aug 29 2020   \n",
      "GSM4753035       COVID_15_68y_male_ICU    GSM4753035  Public on Aug 29 2020   \n",
      "GSM4753036    COVID_16_48y_male_NonICU    GSM4753036  Public on Aug 29 2020   \n",
      "GSM4753037    COVID_17_54y_male_NonICU    GSM4753037  Public on Aug 29 2020   \n",
      "GSM4753038  COVID_18_70y_female_NonICU    GSM4753038  Public on Aug 29 2020   \n",
      "GSM4753039    COVID_19_51y_male_NonICU    GSM4753039  Public on Aug 29 2020   \n",
      "GSM4753040       COVID_20_62y_male_ICU    GSM4753040  Public on Aug 29 2020   \n",
      "GSM4753041       COVID_21_66y_male_ICU    GSM4753041  Public on Aug 29 2020   \n",
      "GSM4753042       COVID_22_43y_male_ICU    GSM4753042  Public on Aug 29 2020   \n",
      "GSM4753043       COVID_23_76y_male_ICU    GSM4753043  Public on Aug 29 2020   \n",
      "GSM4753044       COVID_24_55y_male_ICU    GSM4753044  Public on Aug 29 2020   \n",
      "GSM4753045       COVID_25_55y_male_ICU    GSM4753045  Public on Aug 29 2020   \n",
      "GSM4753046     COVID_26_41y_female_ICU    GSM4753046  Public on Aug 29 2020   \n",
      "GSM4753047     COVID_27_71y_female_ICU    GSM4753047  Public on Aug 29 2020   \n",
      "GSM4753048       COVID_28_63y_male_ICU    GSM4753048  Public on Aug 29 2020   \n",
      "GSM4753049     COVID_29_63y_female_ICU    GSM4753049  Public on Aug 29 2020   \n",
      "GSM4753050       COVID_30_54y_male_ICU    GSM4753050  Public on Aug 29 2020   \n",
      "GSM4753051       COVID_31_50y_male_ICU    GSM4753051  Public on Aug 29 2020   \n",
      "GSM4753052       COVID_32_72y_male_ICU    GSM4753052  Public on Aug 29 2020   \n",
      "GSM4753053    COVID_33_81y_male_NonICU    GSM4753053  Public on Aug 29 2020   \n",
      "GSM4753054  COVID_34_64y_female_NonICU    GSM4753054  Public on Aug 29 2020   \n",
      "GSM4753055  COVID_35_58y_female_NonICU    GSM4753055  Public on Aug 29 2020   \n",
      "\n",
      "           submission_date last_update_date type channel_count  \\\n",
      "GSM4753021     Aug 28 2020      Aug 29 2020  SRA             1   \n",
      "GSM4753022     Aug 28 2020      Aug 29 2020  SRA             1   \n",
      "GSM4753023     Aug 28 2020      Aug 29 2020  SRA             1   \n",
      "GSM4753024     Aug 28 2020      Aug 29 2020  SRA             1   \n",
      "GSM4753025     Aug 28 2020      Aug 29 2020  SRA             1   \n",
      "GSM4753026     Aug 28 2020      Aug 29 2020  SRA             1   \n",
      "GSM4753027     Aug 28 2020      Aug 29 2020  SRA             1   \n",
      "GSM4753028     Aug 28 2020      Aug 29 2020  SRA             1   \n",
      "GSM4753029     Aug 28 2020      Aug 29 2020  SRA             1   \n",
      "GSM4753030     Aug 28 2020      Aug 29 2020  SRA             1   \n",
      "GSM4753031     Aug 28 2020      Aug 29 2020  SRA             1   \n",
      "GSM4753032     Aug 28 2020      Aug 29 2020  SRA             1   \n",
      "GSM4753033     Aug 28 2020      Aug 29 2020  SRA             1   \n",
      "GSM4753034     Aug 28 2020      Aug 29 2020  SRA             1   \n",
      "GSM4753035     Aug 28 2020      Aug 29 2020  SRA             1   \n",
      "GSM4753036     Aug 28 2020      Aug 29 2020  SRA             1   \n",
      "GSM4753037     Aug 28 2020      Aug 29 2020  SRA             1   \n",
      "GSM4753038     Aug 28 2020      Aug 29 2020  SRA             1   \n",
      "GSM4753039     Aug 28 2020      Aug 29 2020  SRA             1   \n",
      "GSM4753040     Aug 28 2020      Aug 29 2020  SRA             1   \n",
      "GSM4753041     Aug 28 2020      Aug 29 2020  SRA             1   \n",
      "GSM4753042     Aug 28 2020      Aug 29 2020  SRA             1   \n",
      "GSM4753043     Aug 28 2020      Aug 29 2020  SRA             1   \n",
      "GSM4753044     Aug 28 2020      Aug 29 2020  SRA             1   \n",
      "GSM4753045     Aug 28 2020      Aug 29 2020  SRA             1   \n",
      "GSM4753046     Aug 28 2020      Aug 29 2020  SRA             1   \n",
      "GSM4753047     Aug 28 2020      Aug 29 2020  SRA             1   \n",
      "GSM4753048     Aug 28 2020      Aug 29 2020  SRA             1   \n",
      "GSM4753049     Aug 28 2020      Aug 29 2020  SRA             1   \n",
      "GSM4753050     Aug 28 2020      Aug 29 2020  SRA             1   \n",
      "GSM4753051     Aug 28 2020      Aug 29 2020  SRA             1   \n",
      "GSM4753052     Aug 28 2020      Aug 29 2020  SRA             1   \n",
      "GSM4753053     Aug 28 2020      Aug 29 2020  SRA             1   \n",
      "GSM4753054     Aug 28 2020      Aug 29 2020  SRA             1   \n",
      "GSM4753055     Aug 28 2020      Aug 29 2020  SRA             1   \n",
      "\n",
      "                        source_name_ch1  organism_ch1 taxid_ch1  ...  \\\n",
      "GSM4753021  Leukocytes from whole blood  Homo sapiens      9606  ...   \n",
      "GSM4753022  Leukocytes from whole blood  Homo sapiens      9606  ...   \n",
      "GSM4753023  Leukocytes from whole blood  Homo sapiens      9606  ...   \n",
      "GSM4753024  Leukocytes from whole blood  Homo sapiens      9606  ...   \n",
      "GSM4753025  Leukocytes from whole blood  Homo sapiens      9606  ...   \n",
      "GSM4753026  Leukocytes from whole blood  Homo sapiens      9606  ...   \n",
      "GSM4753027  Leukocytes from whole blood  Homo sapiens      9606  ...   \n",
      "GSM4753028  Leukocytes from whole blood  Homo sapiens      9606  ...   \n",
      "GSM4753029  Leukocytes from whole blood  Homo sapiens      9606  ...   \n",
      "GSM4753030  Leukocytes from whole blood  Homo sapiens      9606  ...   \n",
      "GSM4753031  Leukocytes from whole blood  Homo sapiens      9606  ...   \n",
      "GSM4753032  Leukocytes from whole blood  Homo sapiens      9606  ...   \n",
      "GSM4753033  Leukocytes from whole blood  Homo sapiens      9606  ...   \n",
      "GSM4753034  Leukocytes from whole blood  Homo sapiens      9606  ...   \n",
      "GSM4753035  Leukocytes from whole blood  Homo sapiens      9606  ...   \n",
      "GSM4753036  Leukocytes from whole blood  Homo sapiens      9606  ...   \n",
      "GSM4753037  Leukocytes from whole blood  Homo sapiens      9606  ...   \n",
      "GSM4753038  Leukocytes from whole blood  Homo sapiens      9606  ...   \n",
      "GSM4753039  Leukocytes from whole blood  Homo sapiens      9606  ...   \n",
      "GSM4753040  Leukocytes from whole blood  Homo sapiens      9606  ...   \n",
      "GSM4753041  Leukocytes from whole blood  Homo sapiens      9606  ...   \n",
      "GSM4753042  Leukocytes from whole blood  Homo sapiens      9606  ...   \n",
      "GSM4753043  Leukocytes from whole blood  Homo sapiens      9606  ...   \n",
      "GSM4753044  Leukocytes from whole blood  Homo sapiens      9606  ...   \n",
      "GSM4753045  Leukocytes from whole blood  Homo sapiens      9606  ...   \n",
      "GSM4753046  Leukocytes from whole blood  Homo sapiens      9606  ...   \n",
      "GSM4753047  Leukocytes from whole blood  Homo sapiens      9606  ...   \n",
      "GSM4753048  Leukocytes from whole blood  Homo sapiens      9606  ...   \n",
      "GSM4753049  Leukocytes from whole blood  Homo sapiens      9606  ...   \n",
      "GSM4753050  Leukocytes from whole blood  Homo sapiens      9606  ...   \n",
      "GSM4753051  Leukocytes from whole blood  Homo sapiens      9606  ...   \n",
      "GSM4753052  Leukocytes from whole blood  Homo sapiens      9606  ...   \n",
      "GSM4753053  Leukocytes from whole blood  Homo sapiens      9606  ...   \n",
      "GSM4753054  Leukocytes from whole blood  Homo sapiens      9606  ...   \n",
      "GSM4753055  Leukocytes from whole blood  Homo sapiens      9606  ...   \n",
      "\n",
      "                                                     relation  \\\n",
      "GSM4753021  BioSample: https://www.ncbi.nlm.nih.gov/biosam...   \n",
      "GSM4753022  BioSample: https://www.ncbi.nlm.nih.gov/biosam...   \n",
      "GSM4753023  BioSample: https://www.ncbi.nlm.nih.gov/biosam...   \n",
      "GSM4753024  BioSample: https://www.ncbi.nlm.nih.gov/biosam...   \n",
      "GSM4753025  BioSample: https://www.ncbi.nlm.nih.gov/biosam...   \n",
      "GSM4753026  BioSample: https://www.ncbi.nlm.nih.gov/biosam...   \n",
      "GSM4753027  BioSample: https://www.ncbi.nlm.nih.gov/biosam...   \n",
      "GSM4753028  BioSample: https://www.ncbi.nlm.nih.gov/biosam...   \n",
      "GSM4753029  BioSample: https://www.ncbi.nlm.nih.gov/biosam...   \n",
      "GSM4753030  BioSample: https://www.ncbi.nlm.nih.gov/biosam...   \n",
      "GSM4753031  BioSample: https://www.ncbi.nlm.nih.gov/biosam...   \n",
      "GSM4753032  BioSample: https://www.ncbi.nlm.nih.gov/biosam...   \n",
      "GSM4753033  BioSample: https://www.ncbi.nlm.nih.gov/biosam...   \n",
      "GSM4753034  BioSample: https://www.ncbi.nlm.nih.gov/biosam...   \n",
      "GSM4753035  BioSample: https://www.ncbi.nlm.nih.gov/biosam...   \n",
      "GSM4753036  BioSample: https://www.ncbi.nlm.nih.gov/biosam...   \n",
      "GSM4753037  BioSample: https://www.ncbi.nlm.nih.gov/biosam...   \n",
      "GSM4753038  BioSample: https://www.ncbi.nlm.nih.gov/biosam...   \n",
      "GSM4753039  BioSample: https://www.ncbi.nlm.nih.gov/biosam...   \n",
      "GSM4753040  BioSample: https://www.ncbi.nlm.nih.gov/biosam...   \n",
      "GSM4753041  BioSample: https://www.ncbi.nlm.nih.gov/biosam...   \n",
      "GSM4753042  BioSample: https://www.ncbi.nlm.nih.gov/biosam...   \n",
      "GSM4753043  BioSample: https://www.ncbi.nlm.nih.gov/biosam...   \n",
      "GSM4753044  BioSample: https://www.ncbi.nlm.nih.gov/biosam...   \n",
      "GSM4753045  BioSample: https://www.ncbi.nlm.nih.gov/biosam...   \n",
      "GSM4753046  BioSample: https://www.ncbi.nlm.nih.gov/biosam...   \n",
      "GSM4753047  BioSample: https://www.ncbi.nlm.nih.gov/biosam...   \n",
      "GSM4753048  BioSample: https://www.ncbi.nlm.nih.gov/biosam...   \n",
      "GSM4753049  BioSample: https://www.ncbi.nlm.nih.gov/biosam...   \n",
      "GSM4753050  BioSample: https://www.ncbi.nlm.nih.gov/biosam...   \n",
      "GSM4753051  BioSample: https://www.ncbi.nlm.nih.gov/biosam...   \n",
      "GSM4753052  BioSample: https://www.ncbi.nlm.nih.gov/biosam...   \n",
      "GSM4753053  BioSample: https://www.ncbi.nlm.nih.gov/biosam...   \n",
      "GSM4753054  BioSample: https://www.ncbi.nlm.nih.gov/biosam...   \n",
      "GSM4753055  BioSample: https://www.ncbi.nlm.nih.gov/biosam...   \n",
      "\n",
      "           supplementary_file_1  series_id data_row_count  \\\n",
      "GSM4753021                 NONE  GSE157103              0   \n",
      "GSM4753022                 NONE  GSE157103              0   \n",
      "GSM4753023                 NONE  GSE157103              0   \n",
      "GSM4753024                 NONE  GSE157103              0   \n",
      "GSM4753025                 NONE  GSE157103              0   \n",
      "GSM4753026                 NONE  GSE157103              0   \n",
      "GSM4753027                 NONE  GSE157103              0   \n",
      "GSM4753028                 NONE  GSE157103              0   \n",
      "GSM4753029                 NONE  GSE157103              0   \n",
      "GSM4753030                 NONE  GSE157103              0   \n",
      "GSM4753031                 NONE  GSE157103              0   \n",
      "GSM4753032                 NONE  GSE157103              0   \n",
      "GSM4753033                 NONE  GSE157103              0   \n",
      "GSM4753034                 NONE  GSE157103              0   \n",
      "GSM4753035                 NONE  GSE157103              0   \n",
      "GSM4753036                 NONE  GSE157103              0   \n",
      "GSM4753037                 NONE  GSE157103              0   \n",
      "GSM4753038                 NONE  GSE157103              0   \n",
      "GSM4753039                 NONE  GSE157103              0   \n",
      "GSM4753040                 NONE  GSE157103              0   \n",
      "GSM4753041                 NONE  GSE157103              0   \n",
      "GSM4753042                 NONE  GSE157103              0   \n",
      "GSM4753043                 NONE  GSE157103              0   \n",
      "GSM4753044                 NONE  GSE157103              0   \n",
      "GSM4753045                 NONE  GSE157103              0   \n",
      "GSM4753046                 NONE  GSE157103              0   \n",
      "GSM4753047                 NONE  GSE157103              0   \n",
      "GSM4753048                 NONE  GSE157103              0   \n",
      "GSM4753049                 NONE  GSE157103              0   \n",
      "GSM4753050                 NONE  GSE157103              0   \n",
      "GSM4753051                 NONE  GSE157103              0   \n",
      "GSM4753052                 NONE  GSE157103              0   \n",
      "GSM4753053                 NONE  GSE157103              0   \n",
      "GSM4753054                 NONE  GSE157103              0   \n",
      "GSM4753055                 NONE  GSE157103              0   \n",
      "\n",
      "           characteristics_ch1.14.fibrinogen characteristics_ch1.15.sofa  \\\n",
      "GSM4753021                               NaN                         NaN   \n",
      "GSM4753022                               NaN                         NaN   \n",
      "GSM4753023                               NaN                         NaN   \n",
      "GSM4753024                               NaN                         NaN   \n",
      "GSM4753025                               NaN                         NaN   \n",
      "GSM4753026                               NaN                         NaN   \n",
      "GSM4753027                               NaN                         NaN   \n",
      "GSM4753028                               NaN                         NaN   \n",
      "GSM4753029                               NaN                         NaN   \n",
      "GSM4753030                               NaN                         NaN   \n",
      "GSM4753031                               NaN                         NaN   \n",
      "GSM4753032                               NaN                         NaN   \n",
      "GSM4753033                               NaN                         NaN   \n",
      "GSM4753034                               NaN                         NaN   \n",
      "GSM4753035                               NaN                         NaN   \n",
      "GSM4753036                               NaN                         NaN   \n",
      "GSM4753037                               NaN                         NaN   \n",
      "GSM4753038                               NaN                         NaN   \n",
      "GSM4753039                               NaN                         NaN   \n",
      "GSM4753040                               NaN                         NaN   \n",
      "GSM4753041                               NaN                         NaN   \n",
      "GSM4753042                               NaN                         NaN   \n",
      "GSM4753043                               NaN                         NaN   \n",
      "GSM4753044                               NaN                         NaN   \n",
      "GSM4753045                               NaN                         NaN   \n",
      "GSM4753046                               NaN                         NaN   \n",
      "GSM4753047                               NaN                         NaN   \n",
      "GSM4753048                               NaN                         NaN   \n",
      "GSM4753049                               NaN                         NaN   \n",
      "GSM4753050                               NaN                         NaN   \n",
      "GSM4753051                               NaN                         NaN   \n",
      "GSM4753052                               NaN                         NaN   \n",
      "GSM4753053                               NaN                         NaN   \n",
      "GSM4753054                               NaN                         NaN   \n",
      "GSM4753055                               NaN                         NaN   \n",
      "\n",
      "           characteristics_ch1.16.associated controlled-vocabulary terms  \\\n",
      "GSM4753021                                                NaN              \n",
      "GSM4753022                                                NaN              \n",
      "GSM4753023                                                NaN              \n",
      "GSM4753024                                                NaN              \n",
      "GSM4753025                                                NaN              \n",
      "GSM4753026                                                NaN              \n",
      "GSM4753027                                                NaN              \n",
      "GSM4753028                                                NaN              \n",
      "GSM4753029                                                NaN              \n",
      "GSM4753030                                                NaN              \n",
      "GSM4753031                                                NaN              \n",
      "GSM4753032                                                NaN              \n",
      "GSM4753033                                                NaN              \n",
      "GSM4753034                                                NaN              \n",
      "GSM4753035                                                NaN              \n",
      "GSM4753036                                                NaN              \n",
      "GSM4753037                                                NaN              \n",
      "GSM4753038                                                NaN              \n",
      "GSM4753039                                                NaN              \n",
      "GSM4753040                                                NaN              \n",
      "GSM4753041                                                NaN              \n",
      "GSM4753042                                                NaN              \n",
      "GSM4753043                                                NaN              \n",
      "GSM4753044                                                NaN              \n",
      "GSM4753045                                                NaN              \n",
      "GSM4753046                                                NaN              \n",
      "GSM4753047                                                NaN              \n",
      "GSM4753048                                                NaN              \n",
      "GSM4753049                                                NaN              \n",
      "GSM4753050                                                NaN              \n",
      "GSM4753051                                                NaN              \n",
      "GSM4753052                                                NaN              \n",
      "GSM4753053                                                NaN              \n",
      "GSM4753054                                                NaN              \n",
      "GSM4753055                                                NaN              \n",
      "\n",
      "           characteristics_ch1.17.cell type  \\\n",
      "GSM4753021                              NaN   \n",
      "GSM4753022                              NaN   \n",
      "GSM4753023                              NaN   \n",
      "GSM4753024                              NaN   \n",
      "GSM4753025                              NaN   \n",
      "GSM4753026                              NaN   \n",
      "GSM4753027                              NaN   \n",
      "GSM4753028                              NaN   \n",
      "GSM4753029                              NaN   \n",
      "GSM4753030                              NaN   \n",
      "GSM4753031                              NaN   \n",
      "GSM4753032                              NaN   \n",
      "GSM4753033                              NaN   \n",
      "GSM4753034                              NaN   \n",
      "GSM4753035                              NaN   \n",
      "GSM4753036                              NaN   \n",
      "GSM4753037                              NaN   \n",
      "GSM4753038                              NaN   \n",
      "GSM4753039                              NaN   \n",
      "GSM4753040                              NaN   \n",
      "GSM4753041                              NaN   \n",
      "GSM4753042                              NaN   \n",
      "GSM4753043                              NaN   \n",
      "GSM4753044                              NaN   \n",
      "GSM4753045                              NaN   \n",
      "GSM4753046                              NaN   \n",
      "GSM4753047                              NaN   \n",
      "GSM4753048                              NaN   \n",
      "GSM4753049                              NaN   \n",
      "GSM4753050                              NaN   \n",
      "GSM4753051                              NaN   \n",
      "GSM4753052                              NaN   \n",
      "GSM4753053                              NaN   \n",
      "GSM4753054                              NaN   \n",
      "GSM4753055                              NaN   \n",
      "\n",
      "           characteristics_ch1.18.tissue of origin  \\\n",
      "GSM4753021                                     NaN   \n",
      "GSM4753022                                     NaN   \n",
      "GSM4753023                                     NaN   \n",
      "GSM4753024                                     NaN   \n",
      "GSM4753025                                     NaN   \n",
      "GSM4753026                                     NaN   \n",
      "GSM4753027                                     NaN   \n",
      "GSM4753028                                     NaN   \n",
      "GSM4753029                                     NaN   \n",
      "GSM4753030                                     NaN   \n",
      "GSM4753031                                     NaN   \n",
      "GSM4753032                                     NaN   \n",
      "GSM4753033                                     NaN   \n",
      "GSM4753034                                     NaN   \n",
      "GSM4753035                                     NaN   \n",
      "GSM4753036                                     NaN   \n",
      "GSM4753037                                     NaN   \n",
      "GSM4753038                                     NaN   \n",
      "GSM4753039                                     NaN   \n",
      "GSM4753040                                     NaN   \n",
      "GSM4753041                                     NaN   \n",
      "GSM4753042                                     NaN   \n",
      "GSM4753043                                     NaN   \n",
      "GSM4753044                                     NaN   \n",
      "GSM4753045                                     NaN   \n",
      "GSM4753046                                     NaN   \n",
      "GSM4753047                                     NaN   \n",
      "GSM4753048                                     NaN   \n",
      "GSM4753049                                     NaN   \n",
      "GSM4753050                                     NaN   \n",
      "GSM4753051                                     NaN   \n",
      "GSM4753052                                     NaN   \n",
      "GSM4753053                                     NaN   \n",
      "GSM4753054                                     NaN   \n",
      "GSM4753055                                     NaN   \n",
      "\n",
      "           characteristics_ch1.19.sample type  \n",
      "GSM4753021                                NaN  \n",
      "GSM4753022                                NaN  \n",
      "GSM4753023                                NaN  \n",
      "GSM4753024                                NaN  \n",
      "GSM4753025                                NaN  \n",
      "GSM4753026                                NaN  \n",
      "GSM4753027                                NaN  \n",
      "GSM4753028                                NaN  \n",
      "GSM4753029                                NaN  \n",
      "GSM4753030                                NaN  \n",
      "GSM4753031                                NaN  \n",
      "GSM4753032                                NaN  \n",
      "GSM4753033                                NaN  \n",
      "GSM4753034                                NaN  \n",
      "GSM4753035                                NaN  \n",
      "GSM4753036                                NaN  \n",
      "GSM4753037                                NaN  \n",
      "GSM4753038                                NaN  \n",
      "GSM4753039                                NaN  \n",
      "GSM4753040                                NaN  \n",
      "GSM4753041                                NaN  \n",
      "GSM4753042                                NaN  \n",
      "GSM4753043                                NaN  \n",
      "GSM4753044                                NaN  \n",
      "GSM4753045                                NaN  \n",
      "GSM4753046                                NaN  \n",
      "GSM4753047                                NaN  \n",
      "GSM4753048                                NaN  \n",
      "GSM4753049                                NaN  \n",
      "GSM4753050                                NaN  \n",
      "GSM4753051                                NaN  \n",
      "GSM4753052                                NaN  \n",
      "GSM4753053                                NaN  \n",
      "GSM4753054                                NaN  \n",
      "GSM4753055                                NaN  \n",
      "\n",
      "[35 rows x 61 columns]\n"
     ]
    }
   ],
   "source": [
    "path = \"C:\\\\Users\\\\Joana\\\\Desktop\\\\Uminho\\\\2_1\\\\SIB\\\\trab\\\\dataset\"\n",
    "rna_seq_tmp = pd.read_csv(\"GSE157103_genes.tpm.tsv\", sep='\\t', index_col = 0)\n",
    "\n",
    "import GEOparse\n",
    "\n",
    "#download and load to the memory the experiment with specific GEO accession\n",
    "gse157103 = GEOparse.get_GEO(\"GSE157103\")\n",
    "\n",
    "metadata = gse157103.phenotype_data\n",
    "print(metadata.head(35))"
   ]
  },
  {
   "cell_type": "markdown",
   "metadata": {},
   "source": [
    "## Disease State"
   ]
  },
  {
   "cell_type": "code",
   "execution_count": 13,
   "metadata": {},
   "outputs": [
    {
     "data": {
      "text/plain": [
       "(19472, 126)"
      ]
     },
     "execution_count": 13,
     "metadata": {},
     "output_type": "execute_result"
    }
   ],
   "source": [
    "data_scaled = preprocessing.scale(rna_seq_tmp)\n",
    "data_scaled.shape"
   ]
  },
  {
   "cell_type": "markdown",
   "metadata": {},
   "source": [
    "#### Train and Test Split"
   ]
  },
  {
   "cell_type": "code",
   "execution_count": 14,
   "metadata": {},
   "outputs": [],
   "source": [
    "disease_state=[]\n",
    "for j in metadata[\"characteristics_ch1.0.disease state\"]:\n",
    "    if j == 'COVID-19':\n",
    "        disease_state.append(int(1))\n",
    "    if j == 'non-COVID-19':\n",
    "        disease_state.append(int(0))\n",
    "   \n",
    "metadata['disease_state'] = disease_state\n",
    "\n",
    "disease_state = metadata['disease_state']\n",
    "\n",
    "ind = list(range(126))\n",
    "np.random.seed(0)\n",
    "indices = np.random.permutation(126)\n",
    "data_scaled = data_scaled.T\n",
    "train = data_scaled[ind]\n",
    "x_train = train[indices[:-25]]\n",
    "y_train = disease_state.iloc[indices[:-25]].values\n",
    "x_test = data_scaled[indices[-25:]]\n",
    "y_test = disease_state.iloc[indices[-25:]].values"
   ]
  },
  {
   "cell_type": "code",
   "execution_count": 15,
   "metadata": {},
   "outputs": [
    {
     "name": "stdout",
     "output_type": "stream",
     "text": [
      "(126, 19472)\n",
      "(25,)\n"
     ]
    }
   ],
   "source": [
    "print(data_scaled.shape)\n",
    "print(y_test.shape)"
   ]
  },
  {
   "cell_type": "markdown",
   "metadata": {},
   "source": [
    "Foram selecionados os dados de RNA-seq e do disease_state do doente (2 tipos de outputs: COVID-19, non-COVID-19)."
   ]
  },
  {
   "cell_type": "markdown",
   "metadata": {},
   "source": [
    "#### Feature Selection"
   ]
  },
  {
   "cell_type": "code",
   "execution_count": 16,
   "metadata": {},
   "outputs": [
    {
     "name": "stdout",
     "output_type": "stream",
     "text": [
      "Number of features selected: (5842,)\n"
     ]
    },
    {
     "data": {
      "text/plain": [
       "(25, 5842)"
      ]
     },
     "execution_count": 16,
     "metadata": {},
     "output_type": "execute_result"
    }
   ],
   "source": [
    "selector = SelectPercentile(f_classif, percentile = 30)\n",
    "train_select = selector.fit_transform(x_train, y_train)\n",
    "index_top_feat = selector.get_support(indices= True)\n",
    "print('Number of features selected:', index_top_feat.shape)\n",
    "\n",
    "testin = x_test[:,index_top_feat]\n",
    "testin.shape"
   ]
  },
  {
   "cell_type": "markdown",
   "metadata": {},
   "source": [
    "### Multi-Layer Perceptron (MLP)"
   ]
  },
  {
   "cell_type": "code",
   "execution_count": 20,
   "metadata": {},
   "outputs": [
    {
     "name": "stdout",
     "output_type": "stream",
     "text": [
      "Accuracy Score : 0.6\n",
      "Precision Score : 0.6666666666666666\n",
      "Recall Score : 0.8235294117647058\n",
      "F1 Score : 0.7368421052631577\n",
      "Confusion Matrix : \n",
      "[[ 1  7]\n",
      " [ 3 14]]\n"
     ]
    }
   ],
   "source": [
    "mlp = MLPClassifier(solver='lbfgs', random_state=1)\n",
    "mlp.fit(x_train, y_train)\n",
    "y_pred = mlp.predict(x_test)\n",
    "\n",
    "print('Accuracy Score : ' + str(accuracy_score(y_test, y_pred)))\n",
    "print('Precision Score : ' + str(precision_score(y_test, y_pred)))\n",
    "print('Recall Score : ' + str(recall_score(y_test, y_pred)))\n",
    "print('F1 Score : ' + str(f1_score(y_test, y_pred)))\n",
    "print('Confusion Matrix : \\n' + str(confusion_matrix(y_test,y_pred)))"
   ]
  },
  {
   "cell_type": "markdown",
   "metadata": {},
   "source": [
    "### Cross Validation MLP"
   ]
  },
  {
   "cell_type": "code",
   "execution_count": 199,
   "metadata": {
    "scrolled": true
   },
   "outputs": [
    {
     "name": "stdout",
     "output_type": "stream",
     "text": [
      "Accuracy Scores: [0.61904762 0.7        0.6        0.5        0.65      ] \n",
      "\n",
      "Accuracy Scores mean: 0.6138095238095238\n",
      "Accuracy Scores sd: 0.06619561473716246\n"
     ]
    }
   ],
   "source": [
    "accuracy = cross_val_score (estimator =  mlp, X = train_select, y = y_train , cv = 5, n_jobs = -1)\n",
    "print(f\"Accuracy Scores: {accuracy} \\n\")\n",
    "print(f'Accuracy Scores mean: {accuracy.mean()}')\n",
    "print(f'Accuracy Scores sd: {accuracy.std()}')"
   ]
  },
  {
   "cell_type": "markdown",
   "metadata": {},
   "source": [
    "#### Preprocessing for DNN"
   ]
  },
  {
   "cell_type": "code",
   "execution_count": 146,
   "metadata": {},
   "outputs": [],
   "source": [
    "x_train = x_train.astype('float32')\n",
    "x_test = x_test.astype('float32')\n",
    "y_train = y_train.astype('float32')\n",
    "y_test = y_test.astype('float32')"
   ]
  },
  {
   "cell_type": "markdown",
   "metadata": {},
   "source": [
    "### Deep Neural Network (DNN)"
   ]
  },
  {
   "cell_type": "code",
   "execution_count": 165,
   "metadata": {},
   "outputs": [],
   "source": [
    "model = Sequential()\n",
    "model.add(Dense(16, activation = tf.nn.relu, input_shape=(19472,)))\n",
    "model.add(Dense(16, activation = tf.nn.relu))\n",
    "model.add(Dense(1, activation = tf.nn.sigmoid))\n",
    "model.compile(optimizer = 'rmsprop', loss = 'binary_crossentropy', metrics = ['accuracy'], experimental_run_tf_function = False)"
   ]
  },
  {
   "cell_type": "markdown",
   "metadata": {},
   "source": [
    "#### Validation Set"
   ]
  },
  {
   "cell_type": "code",
   "execution_count": 166,
   "metadata": {},
   "outputs": [
    {
     "name": "stdout",
     "output_type": "stream",
     "text": [
      "[[-0.06180409 -0.06241185 -0.06135435 ...  0.38333148 -0.04459232\n",
      "  -0.05799951]\n",
      " [-0.0726122  -0.07291034 -0.07272577 ...  0.53202784 -0.05162889\n",
      "  -0.06784198]\n",
      " [-0.05591123 -0.05615177 -0.0559987  ...  0.20924608 -0.04287805\n",
      "  -0.05101286]\n",
      " ...\n",
      " [-0.03697962 -0.03763178 -0.0375292  ...  0.17699526 -0.03388735\n",
      "  -0.03611496]\n",
      " [-0.04437932 -0.04474526 -0.04468426 ...  0.20966838 -0.02937588\n",
      "  -0.04271517]\n",
      " [-0.02147003 -0.02155397 -0.0215246  ...  0.0969228  -0.01582089\n",
      "  -0.02055089]]\n",
      "[[-0.0598201  -0.06019518 -0.06011313 ...  0.41903841 -0.04232033\n",
      "  -0.05732348]\n",
      " [-0.02937141 -0.02950354 -0.02944035 ...  0.06091594 -0.02475823\n",
      "  -0.02749856]\n",
      " [-0.0203417  -0.02037344 -0.02036947 ...  0.02723196 -0.02007988\n",
      "  -0.02021872]\n",
      " ...\n",
      " [-0.05302346 -0.05309584 -0.05307516 ...  0.27601182 -0.04253785\n",
      "  -0.04830803]\n",
      " [-0.0675092  -0.06806586 -0.06782729 ...  0.38164827 -0.05065039\n",
      "  -0.06302942]\n",
      " [-0.05193495 -0.05222989 -0.05212818 ...  0.399439   -0.04459206\n",
      "  -0.05025687]]\n",
      "[1. 1. 1. 1. 1. 1. 1. 1. 1. 0. 1. 1. 1. 1. 1. 1. 0. 1. 1. 1. 1. 1. 1. 1.\n",
      " 1. 1. 0. 1. 1. 1. 1. 0. 1. 1. 0. 1. 1. 1. 1. 1. 0. 1. 0. 1. 0. 1. 1. 1.\n",
      " 0. 1. 1. 1. 0. 1. 1. 1. 1. 1. 1. 1. 1. 1. 1. 1. 1. 1. 1. 0. 1. 1. 1. 1.\n",
      " 1. 1. 1. 1. 1. 0. 1. 1. 0. 1. 0. 1. 1.]\n",
      "[1. 1. 1. 0. 1. 0. 0. 1. 1. 1. 1. 0. 1. 1. 1. 1.]\n"
     ]
    }
   ],
   "source": [
    "x_val = x_train[:85]\n",
    "print(x_val)\n",
    "partial_x_train = x_train[85:]\n",
    "print(partial_x_train)\n",
    "y_val = y_train[:85]\n",
    "print(y_val)\n",
    "partial_y_train = y_train[85:]\n",
    "print(partial_y_train)"
   ]
  },
  {
   "cell_type": "code",
   "execution_count": 167,
   "metadata": {},
   "outputs": [
    {
     "name": "stdout",
     "output_type": "stream",
     "text": [
      "Epoch 1/20\n",
      "1/1 [==============================] - 1s 1s/step - loss: 0.6696 - accuracy: 0.5000 - val_loss: 1.5747 - val_accuracy: 0.1647\n",
      "Epoch 2/20\n",
      "1/1 [==============================] - 0s 80ms/step - loss: 1.0729 - accuracy: 0.2500 - val_loss: 0.4324 - val_accuracy: 0.8353\n",
      "Epoch 3/20\n",
      "1/1 [==============================] - 0s 88ms/step - loss: 0.5392 - accuracy: 0.7500 - val_loss: 0.4389 - val_accuracy: 0.8353\n",
      "Epoch 4/20\n",
      "1/1 [==============================] - 0s 80ms/step - loss: 0.4900 - accuracy: 0.7500 - val_loss: 0.4168 - val_accuracy: 0.8353\n",
      "Epoch 5/20\n",
      "1/1 [==============================] - 0s 89ms/step - loss: 0.4655 - accuracy: 0.7500 - val_loss: 0.4417 - val_accuracy: 0.8118\n",
      "Epoch 6/20\n",
      "1/1 [==============================] - 0s 100ms/step - loss: 0.4519 - accuracy: 0.8125 - val_loss: 0.4030 - val_accuracy: 0.8118\n",
      "Epoch 7/20\n",
      "1/1 [==============================] - 0s 195ms/step - loss: 0.3820 - accuracy: 0.8125 - val_loss: 0.4381 - val_accuracy: 0.8235\n",
      "Epoch 8/20\n",
      "1/1 [==============================] - 0s 151ms/step - loss: 0.3630 - accuracy: 0.8125 - val_loss: 0.3910 - val_accuracy: 0.8118\n",
      "Epoch 9/20\n",
      "1/1 [==============================] - 0s 105ms/step - loss: 0.3557 - accuracy: 0.8125 - val_loss: 0.4700 - val_accuracy: 0.8235\n",
      "Epoch 10/20\n",
      "1/1 [==============================] - 0s 78ms/step - loss: 0.3261 - accuracy: 0.8750 - val_loss: 0.3911 - val_accuracy: 0.8235\n",
      "Epoch 11/20\n",
      "1/1 [==============================] - 0s 80ms/step - loss: 0.3263 - accuracy: 0.8125 - val_loss: 0.4541 - val_accuracy: 0.8235\n",
      "Epoch 12/20\n",
      "1/1 [==============================] - 0s 90ms/step - loss: 0.2900 - accuracy: 0.8750 - val_loss: 0.4090 - val_accuracy: 0.8471\n",
      "Epoch 13/20\n",
      "1/1 [==============================] - 0s 81ms/step - loss: 0.2722 - accuracy: 0.8750 - val_loss: 0.4554 - val_accuracy: 0.8000\n",
      "Epoch 14/20\n",
      "1/1 [==============================] - 0s 79ms/step - loss: 0.2571 - accuracy: 0.8750 - val_loss: 0.4076 - val_accuracy: 0.8471\n",
      "Epoch 15/20\n",
      "1/1 [==============================] - 0s 80ms/step - loss: 0.2447 - accuracy: 0.8750 - val_loss: 0.4636 - val_accuracy: 0.8000\n",
      "Epoch 16/20\n",
      "1/1 [==============================] - 0s 90ms/step - loss: 0.2300 - accuracy: 0.9375 - val_loss: 0.4104 - val_accuracy: 0.8353\n",
      "Epoch 17/20\n",
      "1/1 [==============================] - 0s 110ms/step - loss: 0.2165 - accuracy: 0.8750 - val_loss: 0.5042 - val_accuracy: 0.8118\n",
      "Epoch 18/20\n",
      "1/1 [==============================] - 0s 100ms/step - loss: 0.2058 - accuracy: 1.0000 - val_loss: 0.3943 - val_accuracy: 0.8471\n",
      "Epoch 19/20\n",
      "1/1 [==============================] - 0s 110ms/step - loss: 0.2158 - accuracy: 0.8750 - val_loss: 0.6489 - val_accuracy: 0.7882\n",
      "Epoch 20/20\n",
      "1/1 [==============================] - 0s 155ms/step - loss: 0.2287 - accuracy: 1.0000 - val_loss: 0.4113 - val_accuracy: 0.8235\n",
      "\n",
      "history dict_: \n",
      " {'loss': [0.6695563793182373, 1.0729050636291504, 0.5392287969589233, 0.4899632930755615, 0.4654795527458191, 0.45187240839004517, 0.38199734687805176, 0.36296457052230835, 0.355651319026947, 0.3261103928089142, 0.32633543014526367, 0.29000329971313477, 0.2722281813621521, 0.25706225633621216, 0.24465404450893402, 0.23002079129219055, 0.21652746200561523, 0.20575663447380066, 0.21575897932052612, 0.2286808341741562], 'accuracy': [0.5, 0.25, 0.75, 0.75, 0.75, 0.8125, 0.8125, 0.8125, 0.8125, 0.875, 0.8125, 0.875, 0.875, 0.875, 0.875, 0.9375, 0.875, 1.0, 0.875, 1.0], 'val_loss': [1.574698567390442, 0.4324401319026947, 0.4389430284500122, 0.41683056950569153, 0.44171881675720215, 0.40302756428718567, 0.4381157457828522, 0.39095810055732727, 0.4699608385562897, 0.3910655379295349, 0.45413917303085327, 0.40895408391952515, 0.455413281917572, 0.4076319932937622, 0.46364372968673706, 0.4103614389896393, 0.504228949546814, 0.3943463861942291, 0.648870050907135, 0.4113176167011261], 'val_accuracy': [0.16470588743686676, 0.8352941274642944, 0.8352941274642944, 0.8352941274642944, 0.8117647171020508, 0.8117647171020508, 0.8235294222831726, 0.8117647171020508, 0.8235294222831726, 0.8235294222831726, 0.8235294222831726, 0.8470588326454163, 0.800000011920929, 0.8470588326454163, 0.800000011920929, 0.8352941274642944, 0.8117647171020508, 0.8470588326454163, 0.7882353067398071, 0.8235294222831726]}\n"
     ]
    }
   ],
   "source": [
    "history = model.fit(partial_x_train, partial_y_train, epochs=20, batch_size=512, validation_data=(x_val, y_val))\n",
    "print('\\nhistory dict_: \\n', history.history)"
   ]
  },
  {
   "cell_type": "code",
   "execution_count": 168,
   "metadata": {},
   "outputs": [
    {
     "name": "stdout",
     "output_type": "stream",
     "text": [
      "test loss, test acc: [0.7248357534408569, 0.7200000286102295]\n"
     ]
    }
   ],
   "source": [
    "res = model.evaluate(x_test, y_test, verbose = 0)\n",
    "print('test loss, test acc:', res)"
   ]
  },
  {
   "cell_type": "markdown",
   "metadata": {},
   "source": [
    "Este modelo apresenta uma accuracy de 72% para uma classificação categórica entre 2 possíveis disease_status."
   ]
  },
  {
   "cell_type": "code",
   "execution_count": 169,
   "metadata": {},
   "outputs": [],
   "source": [
    "history_dict = history.history\n",
    "acc_values = history_dict['accuracy']\n",
    "val_acc_values = history_dict['val_accuracy']\n",
    "epochs = range(1, len(acc_values) + 1)"
   ]
  },
  {
   "cell_type": "code",
   "execution_count": 170,
   "metadata": {},
   "outputs": [
    {
     "data": {
      "image/png": "[encoded data removed]",
      "text/plain": [
       "<Figure size 1080x288 with 2 Axes>"
      ]
     },
     "metadata": {
      "needs_background": "light"
     },
     "output_type": "display_data"
    }
   ],
   "source": [
    "fig, (ax1, ax2) = plt.subplots(1,2, figsize=(15,4))\n",
    "ax1.plot(epochs, acc_values, 'bo', label='Training accuracy')\n",
    "ax1.plot(epochs, val_acc_values, 'b', label='Validation accuracy')\n",
    "ax1.set_title('Training and validation accuracy')\n",
    "ax1.set_xlabel('Epochs')\n",
    "ax1.set_ylabel('Acc')\n",
    "ax1.legend()\n",
    "\n",
    "loss_values = history_dict['loss']\n",
    "val_loss_values = history_dict['val_loss']\n",
    "epochs = range(1, len(loss_values) + 1)\n",
    "ax2.plot(epochs, loss_values, 'bo', label='Training loss')\n",
    "ax2.plot(epochs, val_loss_values, 'b', label='Validation loss')\n",
    "ax2.set_title('Training and validation loss')\n",
    "ax2.set_xlabel('Epochs')\n",
    "ax2.set_ylabel('Loss')\n",
    "ax2.legend()\n",
    "plt.show()"
   ]
  },
  {
   "cell_type": "markdown",
   "metadata": {},
   "source": [
    "Verifica-se uma tendência de overfitting: a partir de ephoc 2 os valores de validation loss tendem a oscilar, enquanto que os do treino tendem a descer."
   ]
  },
  {
   "cell_type": "markdown",
   "metadata": {},
   "source": [
    "### DNN tuning"
   ]
  },
  {
   "cell_type": "code",
   "execution_count": 189,
   "metadata": {},
   "outputs": [
    {
     "name": "stdout",
     "output_type": "stream",
     "text": [
      "Epoch 1/3\n",
      "WARNING:tensorflow:5 out of the last 12 calls to <function Model.make_train_function.<locals>.train_function at 0x000002621903BAF8> triggered tf.function retracing. Tracing is expensive and the excessive number of tracings could be due to (1) creating @tf.function repeatedly in a loop, (2) passing tensors with different shapes, (3) passing Python objects instead of tensors. For (1), please define your @tf.function outside of the loop. For (2), @tf.function has experimental_relax_shapes=True option that relaxes argument shapes that can avoid unnecessary retracing. For (3), please refer to https://www.tensorflow.org/guide/function#controlling_retracing and https://www.tensorflow.org/api_docs/python/tf/function for  more details.\n",
      "1/1 [==============================] - 1s 640ms/step - loss: 1.6915 - accuracy: 0.1782\n",
      "Epoch 2/3\n",
      "1/1 [==============================] - 0s 20ms/step - loss: 0.5961 - accuracy: 0.7723\n",
      "Epoch 3/3\n",
      "1/1 [==============================] - 0s 20ms/step - loss: 0.5404 - accuracy: 0.8218\n",
      "WARNING:tensorflow:9 out of the last 30 calls to <function Model.make_test_function.<locals>.test_function at 0x00000262190B93A8> triggered tf.function retracing. Tracing is expensive and the excessive number of tracings could be due to (1) creating @tf.function repeatedly in a loop, (2) passing tensors with different shapes, (3) passing Python objects instead of tensors. For (1), please define your @tf.function outside of the loop. For (2), @tf.function has experimental_relax_shapes=True option that relaxes argument shapes that can avoid unnecessary retracing. For (3), please refer to https://www.tensorflow.org/guide/function#controlling_retracing and https://www.tensorflow.org/api_docs/python/tf/function for  more details.\n",
      "1/1 [==============================] - 0s 120ms/step - loss: 0.6621 - accuracy: 0.6800\n"
     ]
    }
   ],
   "source": [
    "model = Sequential()\n",
    "model.add(Dense(16, activation = tf.nn.relu, input_shape=(19472,)))\n",
    "model.add(Dense(16, activation = tf.nn.relu))\n",
    "model.add(Dense(1, activation = tf.nn.sigmoid))\n",
    "\n",
    "model.compile(optimizer = 'rmsprop', loss = 'binary_crossentropy', metrics = ['accuracy'], experimental_run_tf_function = False)\n",
    "\n",
    "model.fit(x_train, y_train, epochs=3, batch_size=512)\n",
    "res = model.evaluate(x_test, y_test)"
   ]
  },
  {
   "cell_type": "code",
   "execution_count": 190,
   "metadata": {},
   "outputs": [
    {
     "name": "stdout",
     "output_type": "stream",
     "text": [
      "test loss, test acc: [0.6621199250221252, 0.6800000071525574]\n"
     ]
    }
   ],
   "source": [
    "print('test loss, test acc:', res)"
   ]
  },
  {
   "cell_type": "markdown",
   "metadata": {},
   "source": [
    "Verificou-se uma redução ligeira com a otimização do modelo para 68%."
   ]
  },
  {
   "cell_type": "markdown",
   "metadata": {},
   "source": [
    "## APACHE II - Numeric"
   ]
  },
  {
   "cell_type": "markdown",
   "metadata": {},
   "source": [
    "#### Train and Test Split"
   ]
  },
  {
   "cell_type": "code",
   "execution_count": 1,
   "metadata": {},
   "outputs": [
    {
     "ename": "NameError",
     "evalue": "name 'metadata' is not defined",
     "output_type": "error",
     "traceback": [
      "\u001b[1;31m---------------------------------------------------------------------------\u001b[0m",
      "\u001b[1;31mNameError\u001b[0m                                 Traceback (most recent call last)",
      "\u001b[1;32m<ipython-input-1-411d443f62b8>\u001b[0m in \u001b[0;36m<module>\u001b[1;34m\u001b[0m\n\u001b[1;32m----> 1\u001b[1;33m \u001b[0mmetadata\u001b[0m \u001b[1;33m=\u001b[0m \u001b[0mmetadata\u001b[0m\u001b[1;33m.\u001b[0m\u001b[0mreset_index\u001b[0m\u001b[1;33m(\u001b[0m\u001b[1;33m)\u001b[0m\u001b[1;33m\u001b[0m\u001b[1;33m\u001b[0m\u001b[0m\n\u001b[0m\u001b[0;32m      2\u001b[0m \u001b[0mmetadata\u001b[0m\u001b[1;33m.\u001b[0m\u001b[0mhead\u001b[0m\u001b[1;33m(\u001b[0m\u001b[1;33m)\u001b[0m\u001b[1;33m\u001b[0m\u001b[1;33m\u001b[0m\u001b[0m\n",
      "\u001b[1;31mNameError\u001b[0m: name 'metadata' is not defined"
     ]
    }
   ],
   "source": [
    "metadata = metadata.reset_index()\n",
    "metadata.head()"
   ]
  },
  {
   "cell_type": "code",
   "execution_count": 203,
   "metadata": {},
   "outputs": [],
   "source": [
    "metadata['characteristics_ch1.4.apacheii'] = pd.to_numeric(metadata['characteristics_ch1.4.apacheii'],errors='coerce')\n",
    "np.random.seed(0)\n",
    "apac = metadata['characteristics_ch1.4.apacheii'].dropna()\n",
    "\n",
    "indices = np.random.permutation(len(data_scaled[apac.index]))\n",
    "train = data_scaled[apac.index]\n",
    "\n",
    "x_train = train[indices[:-25]]\n",
    "y_train = apac.iloc[indices[:-25]]\n",
    "\n",
    "x_test = data_scaled[indices[-25:]]\n",
    "y_test = apac.iloc[indices[-25:]]"
   ]
  },
  {
   "cell_type": "code",
   "execution_count": 204,
   "metadata": {},
   "outputs": [],
   "source": [
    "def build_model():\n",
    "    model = Sequential()\n",
    "    model.add(Dense(64, activation='relu',input_shape=(x_train.shape[1],)))\n",
    "    model.add(Dense(64, activation='relu'))\n",
    "    model.add(Dense(1))\n",
    "    model.compile(optimizer='rmsprop', loss='mse', metrics=['mae'])\n",
    "    return model"
   ]
  },
  {
   "cell_type": "markdown",
   "metadata": {},
   "source": [
    "##### Cross Validation"
   ]
  },
  {
   "cell_type": "code",
   "execution_count": 206,
   "metadata": {},
   "outputs": [
    {
     "name": "stdout",
     "output_type": "stream",
     "text": [
      "processing fold # 1\n",
      "WARNING:tensorflow:11 out of the last 11 calls to <function Model.make_test_function.<locals>.test_function at 0x000002620B78A438> triggered tf.function retracing. Tracing is expensive and the excessive number of tracings could be due to (1) creating @tf.function repeatedly in a loop, (2) passing tensors with different shapes, (3) passing Python objects instead of tensors. For (1), please define your @tf.function outside of the loop. For (2), @tf.function has experimental_relax_shapes=True option that relaxes argument shapes that can avoid unnecessary retracing. For (3), please refer to https://www.tensorflow.org/guide/function#controlling_retracing and https://www.tensorflow.org/api_docs/python/tf/function for  more details.\n",
      "processing fold # 2\n",
      "WARNING:tensorflow:11 out of the last 11 calls to <function Model.make_test_function.<locals>.test_function at 0x000002620B78A9D8> triggered tf.function retracing. Tracing is expensive and the excessive number of tracings could be due to (1) creating @tf.function repeatedly in a loop, (2) passing tensors with different shapes, (3) passing Python objects instead of tensors. For (1), please define your @tf.function outside of the loop. For (2), @tf.function has experimental_relax_shapes=True option that relaxes argument shapes that can avoid unnecessary retracing. For (3), please refer to https://www.tensorflow.org/guide/function#controlling_retracing and https://www.tensorflow.org/api_docs/python/tf/function for  more details.\n",
      "[6.008582592010498, 9.164878845214844]\n",
      "7.586730718612671\n"
     ]
    }
   ],
   "source": [
    "k = 4\n",
    "num_val_samples = len(x_train) // k\n",
    "num_epochs = 100\n",
    "all_scores = []\n",
    "for i in range(k):\n",
    "    print('processing fold #', i + 1)\n",
    "    val_data = x_train[i*num_val_samples: (i+1)*num_val_samples]\n",
    "    val_targets = y_train[i*num_val_samples: (i+1)*num_val_samples]\n",
    "    partial_train_data = np.concatenate( [x_train[:i*num_val_samples],x_train[(i+1)*num_val_samples:]], axis=0)\n",
    "    partial_train_targets = np.concatenate( [y_train[:i*num_val_samples],y_train[(i+1)*num_val_samples:]], axis=0)\n",
    "    \n",
    "    model = build_model()\n",
    "    model.fit(partial_train_data, partial_train_targets, epochs=num_epochs, batch_size=1, verbose=0)\n",
    "    val_mse, val_mae = model.evaluate(val_data, val_targets, verbose=0)\n",
    "    all_scores.append(val_mae)\n",
    "    \n",
    "print(all_scores)\n",
    "print(np.mean(all_scores))"
   ]
  },
  {
   "cell_type": "code",
   "execution_count": 208,
   "metadata": {},
   "outputs": [
    {
     "name": "stdout",
     "output_type": "stream",
     "text": [
      "processing fold # 0\n",
      "WARNING:tensorflow:11 out of the last 11 calls to <function Model.make_test_function.<locals>.test_function at 0x000002621387CF78> triggered tf.function retracing. Tracing is expensive and the excessive number of tracings could be due to (1) creating @tf.function repeatedly in a loop, (2) passing tensors with different shapes, (3) passing Python objects instead of tensors. For (1), please define your @tf.function outside of the loop. For (2), @tf.function has experimental_relax_shapes=True option that relaxes argument shapes that can avoid unnecessary retracing. For (3), please refer to https://www.tensorflow.org/guide/function#controlling_retracing and https://www.tensorflow.org/api_docs/python/tf/function for  more details.\n",
      "processing fold # 1\n"
     ]
    }
   ],
   "source": [
    "num_epochs = 300 \n",
    "all_mae_histories = []\n",
    "for i in range(k):\n",
    "    print('processing fold #', i) \n",
    "    val_data = x_train[i * num_val_samples: (i + 1) * num_val_samples] \n",
    "    val_targets = y_train[i * num_val_samples: (i + 1) * num_val_samples]\n",
    "    partial_train_data = np.concatenate( [x_train[:i * num_val_samples], x_train[(i + 1) * num_val_samples:]], axis=0)\n",
    "    \n",
    "    partial_train_targets = np.concatenate( [y_train[:i * num_val_samples], y_train[(i + 1) * num_val_samples:]], axis=0)\n",
    "    model = build_model() \n",
    "    history = model.fit(partial_train_data, partial_train_targets, validation_data=(val_data, val_targets), epochs=num_epochs, batch_size=16, verbose=0)\n",
    "    mae_history = history.history['mae'] \n",
    "    all_mae_histories.append(mae_history)"
   ]
  },
  {
   "cell_type": "code",
   "execution_count": 209,
   "metadata": {},
   "outputs": [],
   "source": [
    "average_mae_history = [np.mean([x[i] for x in all_mae_histories]) for i in range(num_epochs)]"
   ]
  },
  {
   "cell_type": "code",
   "execution_count": 210,
   "metadata": {},
   "outputs": [
    {
     "data": {
      "image/png": "[encoded data removed]",
      "text/plain": [
       "<Figure size 432x288 with 1 Axes>"
      ]
     },
     "metadata": {
      "needs_background": "light"
     },
     "output_type": "display_data"
    }
   ],
   "source": [
    "plt.plot(range(1, len(average_mae_history) + 1), average_mae_history) \n",
    "plt.xlabel('Epochs') \n",
    "plt.ylabel('Validation MAE') \n",
    "plt.show()"
   ]
  },
  {
   "cell_type": "code",
   "execution_count": 211,
   "metadata": {},
   "outputs": [
    {
     "name": "stdout",
     "output_type": "stream",
     "text": [
      "1/1 [==============================] - 0s 208ms/step - loss: 60.6926 - mae: 6.3536\n"
     ]
    },
    {
     "data": {
      "text/plain": [
       "6.35359001159668"
      ]
     },
     "execution_count": 211,
     "metadata": {},
     "output_type": "execute_result"
    }
   ],
   "source": [
    "model = build_model()\n",
    "model.fit(x_train, y_train, epochs=300, batch_size=16, verbose=0)\n",
    "test_mse_score, test_mae_score = model.evaluate(x_test, y_test)\n",
    "test_mae_score"
   ]
  },
  {
   "cell_type": "markdown",
   "metadata": {},
   "source": [
    "Foi construído um modelo de Deep Learning para o endpoit Severity Score APACHE II.\n",
    "Este modelo produziu um MAE de 6 ao prever o y_test, o que significa que o modelo, em média, falha a previsão do score APACHE II em 6 pontos.\n",
    "A magnitude elevada deste erro, para este endpoit, faz com que as previsões feitas pelo modelo não sejam relevantes o suficiente para a sua utilização.\n"
   ]
  },
  {
   "cell_type": "markdown",
   "metadata": {},
   "source": [
    "## Ferritina"
   ]
  },
  {
   "cell_type": "markdown",
   "metadata": {},
   "source": [
    "#### Train and Test Split"
   ]
  },
  {
   "cell_type": "code",
   "execution_count": 213,
   "metadata": {},
   "outputs": [],
   "source": [
    "metadata['characteristics_ch1.10.ferritin (ng/ml)'] = pd.to_numeric(metadata['characteristics_ch1.10.ferritin (ng/ml)'],errors='coerce')\n",
    "np.random.seed(0)\n",
    "ferritin = metadata['characteristics_ch1.10.ferritin (ng/ml)'].dropna()\n",
    "\n",
    "indices = np.random.permutation(len(data_scaled[ferritin.index]))\n",
    "train = data_scaled[ferritin.index]\n",
    "\n",
    "x_train = train[indices[:-25]]\n",
    "y_train = ferritin.iloc[indices[:-25]]\n",
    "\n",
    "x_test = data_scaled[indices[-25:]]\n",
    "y_test = ferritin.iloc[indices[-25:]]"
   ]
  },
  {
   "cell_type": "code",
   "execution_count": 214,
   "metadata": {},
   "outputs": [],
   "source": [
    "def build_model():\n",
    "    model = Sequential()\n",
    "    model.add(Dense(64, activation='relu',input_shape=(x_train.shape[1],)))\n",
    "    model.add(Dense(64, activation='relu'))\n",
    "    model.add(Dense(1))\n",
    "    model.compile(optimizer='rmsprop', loss='mse', metrics=['mae'])\n",
    "    return model"
   ]
  },
  {
   "cell_type": "markdown",
   "metadata": {},
   "source": [
    "##### Cross Validation"
   ]
  },
  {
   "cell_type": "code",
   "execution_count": 215,
   "metadata": {
    "scrolled": true
   },
   "outputs": [
    {
     "name": "stdout",
     "output_type": "stream",
     "text": [
      "processing fold # 1\n",
      "processing fold # 2\n",
      "processing fold # 3\n",
      "WARNING:tensorflow:5 out of the last 604 calls to <function Model.make_test_function.<locals>.test_function at 0x0000026219B4E048> triggered tf.function retracing. Tracing is expensive and the excessive number of tracings could be due to (1) creating @tf.function repeatedly in a loop, (2) passing tensors with different shapes, (3) passing Python objects instead of tensors. For (1), please define your @tf.function outside of the loop. For (2), @tf.function has experimental_relax_shapes=True option that relaxes argument shapes that can avoid unnecessary retracing. For (3), please refer to https://www.tensorflow.org/guide/function#controlling_retracing and https://www.tensorflow.org/api_docs/python/tf/function for  more details.\n",
      "processing fold # 4\n",
      "WARNING:tensorflow:6 out of the last 605 calls to <function Model.make_test_function.<locals>.test_function at 0x00000262198FF828> triggered tf.function retracing. Tracing is expensive and the excessive number of tracings could be due to (1) creating @tf.function repeatedly in a loop, (2) passing tensors with different shapes, (3) passing Python objects instead of tensors. For (1), please define your @tf.function outside of the loop. For (2), @tf.function has experimental_relax_shapes=True option that relaxes argument shapes that can avoid unnecessary retracing. For (3), please refer to https://www.tensorflow.org/guide/function#controlling_retracing and https://www.tensorflow.org/api_docs/python/tf/function for  more details.\n",
      "[498.30584716796875, 638.90380859375, 577.3801879882812, 620.6045532226562]\n",
      "583.7985992431641\n"
     ]
    }
   ],
   "source": [
    "k = 4\n",
    "num_val_samples = len(x_train) // k\n",
    "num_epochs = 100\n",
    "all_scores = []\n",
    "for i in range(k):\n",
    "    print('processing fold #', i + 1)\n",
    "    val_data = x_train[i*num_val_samples: (i+1)*num_val_samples]\n",
    "    val_targets = y_train[i*num_val_samples: (i+1)*num_val_samples]\n",
    "    partial_train_data = np.concatenate( [x_train[:i*num_val_samples],x_train[(i+1)*num_val_samples:]], axis=0)\n",
    "    partial_train_targets = np.concatenate( [y_train[:i*num_val_samples],y_train[(i+1)*num_val_samples:]], axis=0)\n",
    "    \n",
    "    model = build_model()\n",
    "    model.fit(partial_train_data, partial_train_targets, epochs=num_epochs, batch_size=1, verbose=0)\n",
    "    val_mse, val_mae = model.evaluate(val_data, val_targets, verbose=0)\n",
    "    all_scores.append(val_mae)\n",
    "    \n",
    "print(all_scores)\n",
    "print(np.mean(all_scores))"
   ]
  },
  {
   "cell_type": "code",
   "execution_count": 216,
   "metadata": {
    "scrolled": true
   },
   "outputs": [
    {
     "name": "stdout",
     "output_type": "stream",
     "text": [
      "processing fold # 0\n",
      "WARNING:tensorflow:7 out of the last 606 calls to <function Model.make_test_function.<locals>.test_function at 0x00000262198FF5E8> triggered tf.function retracing. Tracing is expensive and the excessive number of tracings could be due to (1) creating @tf.function repeatedly in a loop, (2) passing tensors with different shapes, (3) passing Python objects instead of tensors. For (1), please define your @tf.function outside of the loop. For (2), @tf.function has experimental_relax_shapes=True option that relaxes argument shapes that can avoid unnecessary retracing. For (3), please refer to https://www.tensorflow.org/guide/function#controlling_retracing and https://www.tensorflow.org/api_docs/python/tf/function for  more details.\n",
      "processing fold # 1\n",
      "processing fold # 2\n",
      "processing fold # 3\n"
     ]
    }
   ],
   "source": [
    "num_epochs = 300 \n",
    "all_mae_histories = []\n",
    "for i in range(k):\n",
    "    print('processing fold #', i) \n",
    "    val_data = x_train[i * num_val_samples: (i + 1) * num_val_samples] \n",
    "    val_targets = y_train[i * num_val_samples: (i + 1) * num_val_samples]\n",
    "    partial_train_data = np.concatenate( [x_train[:i * num_val_samples], x_train[(i + 1) * num_val_samples:]], axis=0)\n",
    "    \n",
    "    partial_train_targets = np.concatenate( [y_train[:i * num_val_samples], y_train[(i + 1) * num_val_samples:]], axis=0)\n",
    "    model = build_model() \n",
    "    history = model.fit(partial_train_data, partial_train_targets, validation_data=(val_data, val_targets), epochs=num_epochs, batch_size=16, verbose=0)\n",
    "    mae_history = history.history['mae'] \n",
    "    all_mae_histories.append(mae_history)"
   ]
  },
  {
   "cell_type": "code",
   "execution_count": 217,
   "metadata": {},
   "outputs": [],
   "source": [
    "average_mae_history = [np.mean([x[i] for x in all_mae_histories]) for i in range(num_epochs)]"
   ]
  },
  {
   "cell_type": "code",
   "execution_count": 218,
   "metadata": {
    "scrolled": true
   },
   "outputs": [
    {
     "data": {
      "image/png": "[encoded data removed]",
      "text/plain": [
       "<Figure size 432x288 with 1 Axes>"
      ]
     },
     "metadata": {
      "needs_background": "light"
     },
     "output_type": "display_data"
    }
   ],
   "source": [
    "plt.plot(range(1, len(average_mae_history) + 1), average_mae_history) \n",
    "plt.xlabel('Epochs') \n",
    "plt.ylabel('Validation MAE') \n",
    "plt.show()"
   ]
  },
  {
   "cell_type": "code",
   "execution_count": 219,
   "metadata": {},
   "outputs": [
    {
     "name": "stdout",
     "output_type": "stream",
     "text": [
      "1/1 [==============================] - 0s 150ms/step - loss: 1597684.7500 - mae: 799.0048\n"
     ]
    },
    {
     "data": {
      "text/plain": [
       "799.0048217773438"
      ]
     },
     "execution_count": 219,
     "metadata": {},
     "output_type": "execute_result"
    }
   ],
   "source": [
    "model = build_model()\n",
    "model.fit(x_train, y_train, epochs=300, batch_size=16, verbose=0)\n",
    "test_mse_score, test_mae_score = model.evaluate(x_test, y_test)\n",
    "test_mae_score"
   ]
  },
  {
   "cell_type": "markdown",
   "metadata": {},
   "source": [
    "Foi construído um modelo de Deep Learning para o endpoit Ferritina(ng/ml).\n",
    "Este modelo produziu um MAE de 799 ao prever o y_test, o que significa que o modelo, em média, falha a previsão do valor deste biomarcador em 799 ng/ml.\n",
    "A magnitude elevada deste erro, para este endpoit, faz com que as previsões feitas pelo modelo não sejam relevantes o suficiente para a sua utilização.\n"
   ]
  },
  {
   "cell_type": "code",
   "execution_count": 220,
   "metadata": {},
   "outputs": [
    {
     "data": {
      "text/plain": [
       "0       946.0\n",
       "1      1060.0\n",
       "2      1335.0\n",
       "3       583.0\n",
       "4       800.0\n",
       "        ...  \n",
       "121       NaN\n",
       "122      85.0\n",
       "123       NaN\n",
       "124       NaN\n",
       "125       NaN\n",
       "Name: characteristics_ch1.10.ferritin (ng/ml), Length: 126, dtype: float64"
      ]
     },
     "execution_count": 220,
     "metadata": {},
     "output_type": "execute_result"
    }
   ],
   "source": [
    "metadata['characteristics_ch1.10.ferritin (ng/ml)']"
   ]
  },
  {
   "cell_type": "code",
   "execution_count": null,
   "metadata": {},
   "outputs": [],
   "source": []
  }
 ],
 "metadata": {
  "kernelspec": {
   "display_name": "Python 3",
   "language": "python",
   "name": "python3"
  },
  "language_info": {
   "codemirror_mode": {
    "name": "ipython",
    "version": 3
   },
   "file_extension": ".py",
   "mimetype": "text/x-python",
   "name": "python",
   "nbconvert_exporter": "python",
   "pygments_lexer": "ipython3",
   "version": "3.7.6"
  }
 },
 "nbformat": 4,
 "nbformat_minor": 4
}
